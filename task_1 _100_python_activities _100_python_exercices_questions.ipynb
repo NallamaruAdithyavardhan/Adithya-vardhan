{
  "cells": [
    {
      "cell_type": "markdown",
      "metadata": {
        "id": "view-in-github",
        "colab_type": "text"
      },
      "source": [
        "<a href=\"https://colab.research.google.com/github/NallamaruAdithyavardhan/Adithya-vardhan/blob/main/task_1%20_100_python_activities%20_100_python_exercices_questions.ipynb\" target=\"_parent\"><img src=\"https://colab.research.google.com/assets/colab-badge.svg\" alt=\"Open In Colab\"/></a>"
      ]
    },
    {
      "cell_type": "markdown",
      "source": [
        "##Let’s tackle 100 coding problems from basics to advanced. Here you go:"
      ],
      "metadata": {
        "id": "vzCLvstxn82R"
      },
      "id": "vzCLvstxn82R"
    },
    {
      "cell_type": "markdown",
      "source": [
        "##Basic Coding Questions (1-30)"
      ],
      "metadata": {
        "id": "VaTmFUUon-bw"
      },
      "id": "VaTmFUUon-bw"
    },
    {
      "cell_type": "markdown",
      "id": "c4895b61",
      "metadata": {
        "id": "c4895b61"
      },
      "source": [
        "1. Write a Python program to print \"Hello, World!\""
      ]
    },
    {
      "cell_type": "code",
      "execution_count": null,
      "id": "80c3e7b2",
      "metadata": {
        "id": "80c3e7b2",
        "colab": {
          "base_uri": "https://localhost:8080/"
        },
        "outputId": "fa59ff84-7895-43a2-efe8-485a0d444f73"
      },
      "outputs": [
        {
          "output_type": "stream",
          "name": "stdout",
          "text": [
            "Hello, World\n"
          ]
        }
      ],
      "source": [
        "print('Hello, World')"
      ]
    },
    {
      "cell_type": "markdown",
      "id": "2ebb77f5",
      "metadata": {
        "id": "2ebb77f5"
      },
      "source": [
        "2. Write a Python program to add two numbers."
      ]
    },
    {
      "cell_type": "code",
      "execution_count": null,
      "id": "7aadb870",
      "metadata": {
        "id": "7aadb870",
        "colab": {
          "base_uri": "https://localhost:8080/"
        },
        "outputId": "655907d5-188c-45ce-f10c-1a67ad826ab3"
      },
      "outputs": [
        {
          "output_type": "stream",
          "name": "stdout",
          "text": [
            "20\n",
            "30\n",
            "50\n"
          ]
        }
      ],
      "source": [
        "print(int(input())+int(input()))\n"
      ]
    },
    {
      "cell_type": "markdown",
      "id": "8f32c010",
      "metadata": {
        "id": "8f32c010"
      },
      "source": [
        "3. Write a Python program to find the square root of a number."
      ]
    },
    {
      "cell_type": "code",
      "execution_count": null,
      "id": "1076d3b0",
      "metadata": {
        "id": "1076d3b0",
        "colab": {
          "base_uri": "https://localhost:8080/"
        },
        "outputId": "fd362389-09f4-4dd7-db20-ffee6c651060"
      },
      "outputs": [
        {
          "name": "stdout",
          "output_type": "stream",
          "text": [
            "625\n"
          ]
        },
        {
          "output_type": "execute_result",
          "data": {
            "text/plain": [
              "25.0"
            ]
          },
          "metadata": {},
          "execution_count": 6
        }
      ],
      "source": [
        "import math\n",
        "math.sqrt(int(input()))"
      ]
    },
    {
      "cell_type": "markdown",
      "id": "7f725f42",
      "metadata": {
        "id": "7f725f42"
      },
      "source": [
        "4. Write a Python program to swap two variables."
      ]
    },
    {
      "cell_type": "code",
      "execution_count": null,
      "id": "a230bb73",
      "metadata": {
        "id": "a230bb73",
        "colab": {
          "base_uri": "https://localhost:8080/"
        },
        "outputId": "25c3d887-ea7c-4f7b-a7a7-7367ac95ca70"
      },
      "outputs": [
        {
          "output_type": "stream",
          "name": "stdout",
          "text": [
            "10\n",
            "02\n",
            "02 10\n"
          ]
        }
      ],
      "source": [
        "x=input()\n",
        "y=input()\n",
        "x,y=y,x\n",
        "print(x,y)"
      ]
    },
    {
      "cell_type": "markdown",
      "id": "f6ea5b17",
      "metadata": {
        "id": "f6ea5b17"
      },
      "source": [
        "5. Write a Python program to find the area of a triangle."
      ]
    },
    {
      "cell_type": "code",
      "execution_count": null,
      "id": "a769af6b",
      "metadata": {
        "id": "a769af6b",
        "colab": {
          "base_uri": "https://localhost:8080/"
        },
        "outputId": "31a67fad-6c55-4df0-a1a2-0b10ac5d87f4"
      },
      "outputs": [
        {
          "output_type": "stream",
          "name": "stdout",
          "text": [
            "3\n",
            "4\n",
            "5\n",
            "6.0\n"
          ]
        }
      ],
      "source": [
        "import math\n",
        "a=int(input())\n",
        "b=int(input())\n",
        "c=int(input())\n",
        "s=(a+b+c)/2\n",
        "area=math.sqrt(s*(s-a)*(s-b)*(s-c))\n",
        "print(area)"
      ]
    },
    {
      "cell_type": "markdown",
      "id": "d6c7f59f",
      "metadata": {
        "id": "d6c7f59f"
      },
      "source": [
        "6. Write a Python program to solve quadratic equations."
      ]
    },
    {
      "cell_type": "code",
      "execution_count": null,
      "id": "c6b908c9",
      "metadata": {
        "id": "c6b908c9",
        "outputId": "7a6d61f9-ef0d-4724-8483-799fa6c8e4dd",
        "colab": {
          "base_uri": "https://localhost:8080/"
        }
      },
      "outputs": [
        {
          "output_type": "stream",
          "name": "stdout",
          "text": [
            "2\n",
            "-5\n",
            "2\n",
            "2.0 0.5\n"
          ]
        }
      ],
      "source": [
        "a=float(input())\n",
        "b=float(input())\n",
        "c=float(input())\n",
        "d=(b**2)-(4*a*c)\n",
        "sol1=(-b+d**0.5)/(2*a)\n",
        "sol2=(-b-d**0.5)/(2*a)\n",
        "print(sol1,sol2)\n"
      ]
    },
    {
      "cell_type": "markdown",
      "id": "84d19ebd",
      "metadata": {
        "id": "84d19ebd"
      },
      "source": [
        "7. Write a Python program to generate a random number."
      ]
    },
    {
      "cell_type": "code",
      "execution_count": null,
      "id": "881853ce",
      "metadata": {
        "id": "881853ce",
        "colab": {
          "base_uri": "https://localhost:8080/"
        },
        "outputId": "3260b08b-9d97-4aff-fc4c-d2054d14f504"
      },
      "outputs": [
        {
          "output_type": "stream",
          "name": "stdout",
          "text": [
            "3\n"
          ]
        }
      ],
      "source": [
        "import random\n",
        "print(random.randint(0,9))"
      ]
    },
    {
      "cell_type": "markdown",
      "id": "db927aaf",
      "metadata": {
        "id": "db927aaf"
      },
      "source": [
        "8. Write a Python program to convert kilometers to miles."
      ]
    },
    {
      "cell_type": "code",
      "execution_count": null,
      "id": "e321f860",
      "metadata": {
        "id": "e321f860",
        "colab": {
          "base_uri": "https://localhost:8080/"
        },
        "outputId": "92919937-e550-4ad5-b7c3-232acd39f5aa"
      },
      "outputs": [
        {
          "output_type": "stream",
          "name": "stdout",
          "text": [
            "8.900\n",
            "5.530201900000001\n"
          ]
        }
      ],
      "source": [
        "kilometers=float(input())\n",
        "miles=kilometers*0.621371\n",
        "print(miles)"
      ]
    },
    {
      "cell_type": "markdown",
      "id": "17312243",
      "metadata": {
        "id": "17312243"
      },
      "source": [
        "9. Write a Python program to convert Celsius to Fahrenheit."
      ]
    },
    {
      "cell_type": "code",
      "execution_count": null,
      "id": "69e7f3f6",
      "metadata": {
        "id": "69e7f3f6",
        "colab": {
          "base_uri": "https://localhost:8080/"
        },
        "outputId": "2698e3f8-28f1-405b-a46f-10e1f880150d"
      },
      "outputs": [
        {
          "output_type": "stream",
          "name": "stdout",
          "text": [
            "57.3\n",
            "135.14\n"
          ]
        }
      ],
      "source": [
        "celsius=float(input())\n",
        "fahrenheit=(celsius*1.8)+32\n",
        "print(fahrenheit)"
      ]
    },
    {
      "cell_type": "markdown",
      "id": "fc8070c1",
      "metadata": {
        "id": "fc8070c1"
      },
      "source": [
        "10. Write a Python program to check if a number is positive, negative, or zero."
      ]
    },
    {
      "cell_type": "code",
      "execution_count": null,
      "id": "6cb704ea",
      "metadata": {
        "id": "6cb704ea",
        "colab": {
          "base_uri": "https://localhost:8080/"
        },
        "outputId": "a56d8bd9-8e1f-42a0-899c-54a38d3fc31a"
      },
      "outputs": [
        {
          "output_type": "stream",
          "name": "stdout",
          "text": [
            "3\n",
            "positive\n"
          ]
        }
      ],
      "source": [
        "number=int(input())\n",
        "if number>0:\n",
        "  print('positive')\n",
        "elif number<0:\n",
        "  print('negative')\n",
        "else:\n",
        "  print('zero')"
      ]
    },
    {
      "cell_type": "markdown",
      "id": "5f6bf02f",
      "metadata": {
        "id": "5f6bf02f"
      },
      "source": [
        "11. Write a Python program to check if a number is odd or even."
      ]
    },
    {
      "cell_type": "code",
      "execution_count": null,
      "id": "f2212b4c",
      "metadata": {
        "id": "f2212b4c",
        "colab": {
          "base_uri": "https://localhost:8080/"
        },
        "outputId": "43319e8e-4b68-496f-e2ea-cafe1e87c8f0"
      },
      "outputs": [
        {
          "output_type": "stream",
          "name": "stdout",
          "text": [
            "9\n",
            "odd\n"
          ]
        }
      ],
      "source": [
        "number=int(input())\n",
        "if number%2==0:\n",
        "  print('even')\n",
        "else:\n",
        "  print('odd')"
      ]
    },
    {
      "cell_type": "markdown",
      "id": "b83b3020",
      "metadata": {
        "id": "b83b3020"
      },
      "source": [
        "12. Write a Python program to check leap year."
      ]
    },
    {
      "cell_type": "code",
      "execution_count": null,
      "id": "a103a8b0",
      "metadata": {
        "id": "a103a8b0",
        "colab": {
          "base_uri": "https://localhost:8080/"
        },
        "outputId": "b0e48a00-7fcd-4c8c-896c-7cc86c3b1cec"
      },
      "outputs": [
        {
          "output_type": "stream",
          "name": "stdout",
          "text": [
            "2024\n",
            "leap year\n"
          ]
        }
      ],
      "source": [
        "year=int(input())\n",
        "if year%4==0:\n",
        "  print('leap year')\n",
        "else:\n",
        "  print('not a leap year')"
      ]
    },
    {
      "cell_type": "markdown",
      "id": "d265039e",
      "metadata": {
        "id": "d265039e"
      },
      "source": [
        "13. Write a Python program to find the largest among three numbers."
      ]
    },
    {
      "cell_type": "code",
      "execution_count": null,
      "id": "af8eed02",
      "metadata": {
        "id": "af8eed02",
        "colab": {
          "base_uri": "https://localhost:8080/"
        },
        "outputId": "2912abfb-6368-4832-a3fe-30ee10924526"
      },
      "outputs": [
        {
          "output_type": "stream",
          "name": "stdout",
          "text": [
            "55\n",
            "88\n",
            "11\n",
            "88\n"
          ]
        }
      ],
      "source": [
        "number1=int(input())\n",
        "number2=int(input())\n",
        "number3=int(input())\n",
        "if number1>number2 and number1>number3:\n",
        "  print(number1)\n",
        "elif number2>number1 and number2>number3:\n",
        "  print(number2)\n",
        "else:\n",
        "  print(number3)"
      ]
    },
    {
      "cell_type": "markdown",
      "id": "d1de0bf4",
      "metadata": {
        "id": "d1de0bf4"
      },
      "source": [
        "14. Write a Python program to check prime number."
      ]
    },
    {
      "cell_type": "code",
      "execution_count": null,
      "id": "b9f439c5",
      "metadata": {
        "id": "b9f439c5",
        "colab": {
          "base_uri": "https://localhost:8080/"
        },
        "outputId": "aee1b871-6f6a-4678-fd82-41f616aa3e22"
      },
      "outputs": [
        {
          "output_type": "stream",
          "name": "stdout",
          "text": [
            "3\n",
            "prime number\n"
          ]
        }
      ],
      "source": [
        "number=int(input())\n",
        "for i in range(2,number):\n",
        "  if number%i==0:\n",
        "    print('not a prime number')\n",
        "    break\n",
        "else:\n",
        "  print('prime number')"
      ]
    },
    {
      "cell_type": "markdown",
      "id": "fab44f8b",
      "metadata": {
        "id": "fab44f8b"
      },
      "source": [
        "15. Write a Python program to print all prime numbers in an interval."
      ]
    },
    {
      "cell_type": "code",
      "execution_count": null,
      "id": "1c20611d",
      "metadata": {
        "id": "1c20611d",
        "colab": {
          "base_uri": "https://localhost:8080/"
        },
        "outputId": "3f5400e2-e2e2-4779-d5b1-57b87ad01979"
      },
      "outputs": [
        {
          "output_type": "stream",
          "name": "stdout",
          "text": [
            "1\n",
            "10\n",
            "1\n",
            "2\n",
            "3\n",
            "5\n",
            "7\n"
          ]
        }
      ],
      "source": [
        "number1=int(input())\n",
        "number2=int(input())\n",
        "for i in range(number1,number2+1):\n",
        "  for j in range(2,i):\n",
        "    if i%j==0:\n",
        "      break\n",
        "  else:\n",
        "    print(i)"
      ]
    },
    {
      "cell_type": "markdown",
      "id": "5cd434ea",
      "metadata": {
        "id": "5cd434ea"
      },
      "source": [
        "16. Write a Python program to find the factorial of a number."
      ]
    },
    {
      "cell_type": "code",
      "execution_count": null,
      "id": "78fdb1c2",
      "metadata": {
        "id": "78fdb1c2",
        "colab": {
          "base_uri": "https://localhost:8080/"
        },
        "outputId": "337ac4ee-e897-4738-d7b7-3468e6f2dcaa"
      },
      "outputs": [
        {
          "output_type": "stream",
          "name": "stdout",
          "text": [
            "10\n",
            "3628800\n"
          ]
        }
      ],
      "source": [
        "import math\n",
        "number=int(input())\n",
        "print(math.factorial(number))"
      ]
    },
    {
      "cell_type": "code",
      "source": [
        "n=int(input())\n",
        "factorial=1\n",
        "for i in range(1,n+1):\n",
        "  factorial*=i\n",
        "print(factorial)\n"
      ],
      "metadata": {
        "colab": {
          "base_uri": "https://localhost:8080/"
        },
        "id": "2jhIl-Ez_u4V",
        "outputId": "63bf0491-78eb-4401-936d-cc6c78b7ba15"
      },
      "id": "2jhIl-Ez_u4V",
      "execution_count": null,
      "outputs": [
        {
          "output_type": "stream",
          "name": "stdout",
          "text": [
            "10\n",
            "3628800\n"
          ]
        }
      ]
    },
    {
      "cell_type": "markdown",
      "id": "2adb819c",
      "metadata": {
        "id": "2adb819c"
      },
      "source": [
        "17. Write a Python program to display the multiplication table."
      ]
    },
    {
      "cell_type": "code",
      "execution_count": null,
      "id": "86f3c8f2",
      "metadata": {
        "id": "86f3c8f2",
        "colab": {
          "base_uri": "https://localhost:8080/"
        },
        "outputId": "7fc21eca-2244-429d-c3f3-f83bd1f12894"
      },
      "outputs": [
        {
          "output_type": "stream",
          "name": "stdout",
          "text": [
            "20\n",
            "20 * 1 = 20\n",
            "20 * 2 = 40\n",
            "20 * 3 = 60\n",
            "20 * 4 = 80\n",
            "20 * 5 = 100\n",
            "20 * 6 = 120\n",
            "20 * 7 = 140\n",
            "20 * 8 = 160\n",
            "20 * 9 = 180\n",
            "20 * 10 = 200\n"
          ]
        }
      ],
      "source": [
        "number=int(input())\n",
        "for i in range(1,11):\n",
        "  print(number,'*',i,'=',number*i)"
      ]
    },
    {
      "cell_type": "markdown",
      "id": "00b1803e",
      "metadata": {
        "id": "00b1803e"
      },
      "source": [
        "18. Write a Python program to print the Fibonacci sequence."
      ]
    },
    {
      "cell_type": "code",
      "execution_count": null,
      "id": "0985ca23",
      "metadata": {
        "id": "0985ca23",
        "colab": {
          "base_uri": "https://localhost:8080/"
        },
        "outputId": "ae45c36d-64d6-427f-b87e-0247b45631f3"
      },
      "outputs": [
        {
          "output_type": "stream",
          "name": "stdout",
          "text": [
            "10\n",
            "0\n",
            "1\n",
            "1\n",
            "2\n",
            "3\n",
            "5\n",
            "8\n",
            "13\n",
            "21\n",
            "34\n"
          ]
        }
      ],
      "source": [
        "number=int(input())\n",
        "a=0\n",
        "b=1\n",
        "print(a)\n",
        "print(b)\n",
        "for i in range(2,number):\n",
        "  c=a+b\n",
        "  a=b\n",
        "  b=c\n",
        "  print(c)"
      ]
    },
    {
      "cell_type": "markdown",
      "id": "189ea50f",
      "metadata": {
        "id": "189ea50f"
      },
      "source": [
        "19. Write a Python program to check Armstrong number."
      ]
    },
    {
      "cell_type": "code",
      "execution_count": null,
      "id": "31314453",
      "metadata": {
        "id": "31314453",
        "colab": {
          "base_uri": "https://localhost:8080/"
        },
        "outputId": "8c534537-9451-4f08-a456-6307483f9107"
      },
      "outputs": [
        {
          "output_type": "stream",
          "name": "stdout",
          "text": [
            "153\n",
            "armstrong number 153\n"
          ]
        }
      ],
      "source": [
        "number=int(input())\n",
        "sum=0\n",
        "temp=number\n",
        "while temp>0:\n",
        "  digit=temp%10\n",
        "  sum+=digit**3\n",
        "  temp//=10\n",
        "if number==sum:\n",
        "  print('armstrong number',sum)\n",
        "else:\n",
        "  print('not an armstrong number',sum)"
      ]
    },
    {
      "cell_type": "code",
      "source": [
        "n=input()\n",
        "sum=0\n",
        "for i in n:\n",
        "  sum+=int(i)**3\n",
        "if sum==int(n):\n",
        "  print('armstrong number',sum)\n",
        "else:\n",
        "  print('not an arm stong number',sum)\n"
      ],
      "metadata": {
        "id": "SZA5RNAeBud7",
        "outputId": "bb8783f1-f1d5-47cd-d7e3-0e5e70e5ccec",
        "colab": {
          "base_uri": "https://localhost:8080/"
        }
      },
      "id": "SZA5RNAeBud7",
      "execution_count": null,
      "outputs": [
        {
          "output_type": "stream",
          "name": "stdout",
          "text": [
            "153\n",
            "armstrong number 153\n"
          ]
        }
      ]
    },
    {
      "cell_type": "markdown",
      "id": "aaa5e50e",
      "metadata": {
        "id": "aaa5e50e"
      },
      "source": [
        "20. Write a Python program to find the sum of natural numbers."
      ]
    },
    {
      "cell_type": "code",
      "execution_count": null,
      "id": "3e8dfe88",
      "metadata": {
        "id": "3e8dfe88",
        "colab": {
          "base_uri": "https://localhost:8080/"
        },
        "outputId": "16799b17-cd35-4ed3-d286-00303e6d737f"
      },
      "outputs": [
        {
          "output_type": "stream",
          "name": "stdout",
          "text": [
            "10\n",
            "55\n"
          ]
        }
      ],
      "source": [
        "number=int(input())\n",
        "sum=0\n",
        "for i in range(1,number+1):\n",
        "  sum+=i\n",
        "print(sum)"
      ]
    },
    {
      "cell_type": "markdown",
      "id": "40765ef8",
      "metadata": {
        "id": "40765ef8"
      },
      "source": [
        "21. Write a Python program to find the factors of a number."
      ]
    },
    {
      "cell_type": "code",
      "execution_count": null,
      "id": "c47e05a4",
      "metadata": {
        "id": "c47e05a4",
        "colab": {
          "base_uri": "https://localhost:8080/"
        },
        "outputId": "48ecde3b-93e2-4016-8dea-2ed7adb47a7f"
      },
      "outputs": [
        {
          "output_type": "stream",
          "name": "stdout",
          "text": [
            "Enter a number: 12\n",
            "The factors of 12 are:\n",
            "1\n",
            "2\n",
            "3\n",
            "4\n",
            "6\n",
            "12\n"
          ]
        }
      ],
      "source": [
        "num = int(input(\"Enter a number: \"))\n",
        "print(\"The factors of\", num, \"are:\")\n",
        "for i in range(1, num + 1):\n",
        "    if num % i == 0:\n",
        "        print(i)"
      ]
    },
    {
      "cell_type": "markdown",
      "id": "aeeb0164",
      "metadata": {
        "id": "aeeb0164"
      },
      "source": [
        "22. Write a Python program to convert decimal to binary, octal, and hexadecimal."
      ]
    },
    {
      "cell_type": "code",
      "execution_count": null,
      "id": "e9886bee",
      "metadata": {
        "id": "e9886bee",
        "colab": {
          "base_uri": "https://localhost:8080/"
        },
        "outputId": "21c41ca4-f5fb-4aed-b094-9c02abba344b"
      },
      "outputs": [
        {
          "output_type": "stream",
          "name": "stdout",
          "text": [
            "1235\n",
            "0b10011010011\n",
            "0o2323\n",
            "0x4d3\n"
          ]
        }
      ],
      "source": [
        "number=int(input())\n",
        "print(bin(number))\n",
        "print(oct(number))\n",
        "print(hex(number))"
      ]
    },
    {
      "cell_type": "markdown",
      "id": "3c87a213",
      "metadata": {
        "id": "3c87a213"
      },
      "source": [
        "23. Write a Python program to find ASCII value of a character."
      ]
    },
    {
      "cell_type": "code",
      "execution_count": null,
      "id": "14f60824",
      "metadata": {
        "id": "14f60824",
        "colab": {
          "base_uri": "https://localhost:8080/"
        },
        "outputId": "21f251b8-9c49-4dfe-aed9-bdc8426f6255"
      },
      "outputs": [
        {
          "output_type": "stream",
          "name": "stdout",
          "text": [
            "k\n",
            "107\n"
          ]
        }
      ],
      "source": [
        "character=input()\n",
        "print(ord(character))"
      ]
    },
    {
      "cell_type": "markdown",
      "id": "892d77a4",
      "metadata": {
        "id": "892d77a4"
      },
      "source": [
        "24. Write a Python program to find HCF or GCD."
      ]
    },
    {
      "cell_type": "code",
      "execution_count": null,
      "id": "5c2e3c92",
      "metadata": {
        "id": "5c2e3c92",
        "colab": {
          "base_uri": "https://localhost:8080/"
        },
        "outputId": "a592026e-6c2d-402a-d676-d246527d019a"
      },
      "outputs": [
        {
          "output_type": "stream",
          "name": "stdout",
          "text": [
            "12\n",
            "28\n",
            "4\n"
          ]
        }
      ],
      "source": [
        "num1=int(input())\n",
        "num2=int(input())\n",
        "if num1>num2:\n",
        "  smaller=num2\n",
        "else:\n",
        "  smaller=num1\n",
        "for i in range(1,smaller+1):\n",
        "  if num1%i==0 and num2%i==0:\n",
        "    hcf=i\n",
        "print(hcf)\n"
      ]
    },
    {
      "cell_type": "markdown",
      "id": "45e7c7ec",
      "metadata": {
        "id": "45e7c7ec"
      },
      "source": [
        "25. Write a Python program to find LCM."
      ]
    },
    {
      "cell_type": "code",
      "execution_count": null,
      "id": "4272f7a6",
      "metadata": {
        "id": "4272f7a6",
        "colab": {
          "base_uri": "https://localhost:8080/"
        },
        "outputId": "9478e407-7d69-4b34-e4cc-fbfad46abe71"
      },
      "outputs": [
        {
          "output_type": "stream",
          "name": "stdout",
          "text": [
            "2\n",
            "10\n",
            "10\n"
          ]
        }
      ],
      "source": [
        "num1=int(input())\n",
        "num2=int(input())\n",
        "if num1>num2:\n",
        "  greater=num1\n",
        "else:\n",
        "  greater=num2\n",
        "while True:\n",
        "  if greater%num1==0 and greater%num2==0:\n",
        "    lcm=greater\n",
        "    break\n",
        "  greater+=1\n",
        "print(lcm)"
      ]
    },
    {
      "cell_type": "markdown",
      "id": "d1ca75c0",
      "metadata": {
        "id": "d1ca75c0"
      },
      "source": [
        "26. Write a Python program to count the number of each vowel."
      ]
    },
    {
      "cell_type": "code",
      "execution_count": null,
      "id": "14a94e61",
      "metadata": {
        "id": "14a94e61",
        "colab": {
          "base_uri": "https://localhost:8080/"
        },
        "outputId": "03b8c712-4ee2-462d-b537-7c193ad281e1"
      },
      "outputs": [
        {
          "output_type": "stream",
          "name": "stdout",
          "text": [
            "adithyavardhan\n",
            "5\n"
          ]
        }
      ],
      "source": [
        "s=input()\n",
        "vowels='aeiouAEIOU'\n",
        "count=0\n",
        "for i in s:\n",
        "  if i in vowels:\n",
        "    count+=1\n",
        "print(count)\n"
      ]
    },
    {
      "cell_type": "code",
      "source": [
        "s=input()\n",
        "vowels='aeiouAEIOU'\n",
        "count=0\n",
        "for i in vowels:\n",
        "  if i in s:\n",
        "    print(i,s.count(i))"
      ],
      "metadata": {
        "id": "1WQIFFeVELlJ",
        "outputId": "436c218d-330c-4933-e841-60ce62404812",
        "colab": {
          "base_uri": "https://localhost:8080/"
        }
      },
      "id": "1WQIFFeVELlJ",
      "execution_count": null,
      "outputs": [
        {
          "output_type": "stream",
          "name": "stdout",
          "text": [
            "Adithyavardhan\n",
            "a 3\n",
            "i 1\n",
            "A 1\n"
          ]
        }
      ]
    },
    {
      "cell_type": "markdown",
      "id": "16b5cc09",
      "metadata": {
        "id": "16b5cc09"
      },
      "source": [
        "27. Write a Python program to find the sum of digits of a number."
      ]
    },
    {
      "cell_type": "code",
      "execution_count": null,
      "id": "791b2365",
      "metadata": {
        "id": "791b2365",
        "colab": {
          "base_uri": "https://localhost:8080/"
        },
        "outputId": "52da5c0f-1735-4b9b-b522-d9cd9d3f3044"
      },
      "outputs": [
        {
          "output_type": "stream",
          "name": "stdout",
          "text": [
            "123456789\n",
            "45\n"
          ]
        }
      ],
      "source": [
        "n=input()\n",
        "sum=0\n",
        "for i in n:\n",
        "  sum+=int(i)\n",
        "print(sum)"
      ]
    },
    {
      "cell_type": "markdown",
      "id": "848a05ed",
      "metadata": {
        "id": "848a05ed"
      },
      "source": [
        "28. Write a Python program to find the reverse of a number."
      ]
    },
    {
      "cell_type": "code",
      "execution_count": null,
      "id": "bb88ed2c",
      "metadata": {
        "id": "bb88ed2c",
        "colab": {
          "base_uri": "https://localhost:8080/"
        },
        "outputId": "fda748a1-c765-4395-dfe2-d33386264b3d"
      },
      "outputs": [
        {
          "output_type": "stream",
          "name": "stdout",
          "text": [
            "23456\n",
            "65432\n"
          ]
        }
      ],
      "source": [
        "n=input()\n",
        "print(int(n[::-1]))"
      ]
    },
    {
      "cell_type": "markdown",
      "id": "33b01807",
      "metadata": {
        "id": "33b01807"
      },
      "source": [
        "29. Write a Python program to check if a number is palindrome or not."
      ]
    },
    {
      "cell_type": "code",
      "execution_count": null,
      "id": "dbc7b695",
      "metadata": {
        "id": "dbc7b695",
        "colab": {
          "base_uri": "https://localhost:8080/"
        },
        "outputId": "8fe3c7d4-73d0-4adf-bf40-abd391cc6b10"
      },
      "outputs": [
        {
          "output_type": "stream",
          "name": "stdout",
          "text": [
            "121\n",
            "Palindrome\n"
          ]
        }
      ],
      "source": [
        "n=input()\n",
        "print('Palindrome' if n==n[::-1] else 'Not a Palindrome')\n"
      ]
    },
    {
      "cell_type": "markdown",
      "id": "eb1bc881",
      "metadata": {
        "id": "eb1bc881"
      },
      "source": [
        "30. Write a Python program to print Pascal’s triangle.\n",
        "\n",
        "---\n",
        "\n"
      ]
    },
    {
      "cell_type": "code",
      "execution_count": null,
      "id": "7a624c89",
      "metadata": {
        "id": "7a624c89",
        "outputId": "19589018-d5c4-401b-e180-dc6479f9eb30",
        "colab": {
          "base_uri": "https://localhost:8080/"
        }
      },
      "outputs": [
        {
          "output_type": "stream",
          "name": "stdout",
          "text": [
            "Enter the number of rows: 5\n",
            "1 1\n",
            "1 2 1\n",
            "1 3 3 1\n",
            "1 4 6 4 1\n",
            "1 5 10 10 5 1\n"
          ]
        }
      ],
      "source": [
        "def print_pascals_triangle(num_rows):\n",
        "\n",
        "  triangle = []\n",
        "  for i in range(num_rows):\n",
        "    row = [1]\n",
        "    if triangle:\n",
        "      last_row = triangle[-1]\n",
        "      for j in range(len(last_row) - 1):\n",
        "        row.append(last_row[j] + last_row[j + 1])\n",
        "    row.append(1)\n",
        "    triangle.append(row)\n",
        "\n",
        "\n",
        "  for row in triangle:\n",
        "    print(\" \".join(map(str, row)))\n",
        "\n",
        "num_rows = int(input(\"Enter the number of rows: \"))\n",
        "\n",
        "\n",
        "print_pascals_triangle(num_rows)"
      ]
    },
    {
      "cell_type": "markdown",
      "source": [
        "##Intermediate Coding Questions (31-60)"
      ],
      "metadata": {
        "id": "1wQiXVZaoV-9"
      },
      "id": "1wQiXVZaoV-9"
    },
    {
      "cell_type": "markdown",
      "id": "2071b16f",
      "metadata": {
        "id": "2071b16f"
      },
      "source": [
        "31. Write a Python program to sort a list in ascending order."
      ]
    },
    {
      "cell_type": "code",
      "execution_count": null,
      "id": "e0becc93",
      "metadata": {
        "id": "e0becc93",
        "colab": {
          "base_uri": "https://localhost:8080/"
        },
        "outputId": "f8cd65b2-c5bc-4b77-9b29-5933eb1de46d"
      },
      "outputs": [
        {
          "output_type": "stream",
          "name": "stdout",
          "text": [
            "[1, 2, 3, 4, 5, 6, 7, 8, 9]\n"
          ]
        }
      ],
      "source": [
        "list=[1,2,3,4,5,6,7,8,9]\n",
        "list.sort()\n",
        "print(list)"
      ]
    },
    {
      "cell_type": "code",
      "source": [
        "list=[1,2,3,4,5,6,7,8]\n",
        "print(sorted(list))"
      ],
      "metadata": {
        "id": "0v6_ChtXJpVM",
        "outputId": "4932b355-1fa1-4951-f8db-40b52ff91d03",
        "colab": {
          "base_uri": "https://localhost:8080/"
        }
      },
      "id": "0v6_ChtXJpVM",
      "execution_count": null,
      "outputs": [
        {
          "output_type": "stream",
          "name": "stdout",
          "text": [
            "[1, 2, 3, 4, 5, 6, 7, 8]\n"
          ]
        }
      ]
    },
    {
      "cell_type": "markdown",
      "id": "05f5ce04",
      "metadata": {
        "id": "05f5ce04"
      },
      "source": [
        "32. Write a Python program to sort a list in descending order."
      ]
    },
    {
      "cell_type": "code",
      "execution_count": null,
      "id": "3da284ea",
      "metadata": {
        "id": "3da284ea",
        "colab": {
          "base_uri": "https://localhost:8080/"
        },
        "outputId": "32cf15e8-fe5a-4071-db43-e98604b555a0"
      },
      "outputs": [
        {
          "output_type": "stream",
          "name": "stdout",
          "text": [
            "[9, 8, 7, 6, 5, 3, 2, 1, 0]\n"
          ]
        }
      ],
      "source": [
        "list=[1,2,3,0,5,6,7,8,9]\n",
        "list.sort(reverse=True)\n",
        "print(list)"
      ]
    },
    {
      "cell_type": "markdown",
      "id": "8fce7d72",
      "metadata": {
        "id": "8fce7d72"
      },
      "source": [
        "33. Write a Python program to remove duplicates from a list."
      ]
    },
    {
      "cell_type": "code",
      "execution_count": null,
      "id": "50c03983",
      "metadata": {
        "id": "50c03983",
        "colab": {
          "base_uri": "https://localhost:8080/"
        },
        "outputId": "8733752c-c816-4cbb-cab4-b7538bf6d919"
      },
      "outputs": [
        {
          "output_type": "stream",
          "name": "stdout",
          "text": [
            "[1, 2, 3, 4, 5]\n"
          ]
        }
      ],
      "source": [
        "def remove_duplicates(list):\n",
        "  new_list=[]\n",
        "  for i in list:\n",
        "    if i not in new_list:\n",
        "      new_list.append(i)\n",
        "  return new_list\n",
        "list=[1, 2, 2, 3, 4, 4, 5]\n",
        "print(remove_duplicates(list))"
      ]
    },
    {
      "cell_type": "markdown",
      "id": "278f619d",
      "metadata": {
        "id": "278f619d"
      },
      "source": [
        "34. Write a Python program to merge two lists."
      ]
    },
    {
      "cell_type": "code",
      "execution_count": 1,
      "id": "7cd4ebd5",
      "metadata": {
        "id": "7cd4ebd5",
        "colab": {
          "base_uri": "https://localhost:8080/"
        },
        "outputId": "5dea5f1a-b993-47f7-e1c3-4564425afb37"
      },
      "outputs": [
        {
          "output_type": "stream",
          "name": "stdout",
          "text": [
            "[1, 2, 3, 4, 5, 6, 7, 8, 9, 10]\n"
          ]
        }
      ],
      "source": [
        "list1=[1,2,3,4,5]\n",
        "list2=[6,7,8,9,10]\n",
        "print(list1+list2)\n"
      ]
    },
    {
      "cell_type": "markdown",
      "id": "626557f9",
      "metadata": {
        "id": "626557f9"
      },
      "source": [
        "35. Write a Python program to find the second largest number in a list."
      ]
    },
    {
      "cell_type": "code",
      "execution_count": 2,
      "id": "b6e8c5ce",
      "metadata": {
        "id": "b6e8c5ce",
        "colab": {
          "base_uri": "https://localhost:8080/"
        },
        "outputId": "04657559-4274-4f1d-f07a-4687dd86f723"
      },
      "outputs": [
        {
          "output_type": "stream",
          "name": "stdout",
          "text": [
            "8\n"
          ]
        }
      ],
      "source": [
        "list=[1,2,3,4,5,6,7,8,9]\n",
        "list.sort()\n",
        "print(list[-2])"
      ]
    },
    {
      "cell_type": "markdown",
      "id": "879eefd9",
      "metadata": {
        "id": "879eefd9"
      },
      "source": [
        "36. Write a Python program to find the second smallest number in a list."
      ]
    },
    {
      "cell_type": "code",
      "execution_count": 3,
      "id": "5ebf0dcd",
      "metadata": {
        "id": "5ebf0dcd",
        "colab": {
          "base_uri": "https://localhost:8080/"
        },
        "outputId": "9eae5e04-8fd2-474a-c6a0-8bfc122067e7"
      },
      "outputs": [
        {
          "output_type": "stream",
          "name": "stdout",
          "text": [
            "2\n"
          ]
        }
      ],
      "source": [
        "list=[1,2,3,4,5,6,7,8,9]\n",
        "list.sort()\n",
        "print(list[1])"
      ]
    },
    {
      "cell_type": "markdown",
      "id": "20e865f2",
      "metadata": {
        "id": "20e865f2"
      },
      "source": [
        "37. Write a Python program to find the sum of elements in a list."
      ]
    },
    {
      "cell_type": "code",
      "execution_count": 4,
      "id": "5ffe9813",
      "metadata": {
        "id": "5ffe9813",
        "colab": {
          "base_uri": "https://localhost:8080/"
        },
        "outputId": "07ac0cb8-77ad-4576-8274-0ec6e18024bb"
      },
      "outputs": [
        {
          "output_type": "stream",
          "name": "stdout",
          "text": [
            "45\n"
          ]
        }
      ],
      "source": [
        "list=[1,2,3,4,5,6,7,8,9]\n",
        "print(sum(list))"
      ]
    },
    {
      "cell_type": "markdown",
      "id": "2a7fb75a",
      "metadata": {
        "id": "2a7fb75a"
      },
      "source": [
        "38. Write a Python program to find the product of elements in a list."
      ]
    },
    {
      "cell_type": "code",
      "execution_count": 5,
      "id": "92ee7fcb",
      "metadata": {
        "id": "92ee7fcb",
        "colab": {
          "base_uri": "https://localhost:8080/"
        },
        "outputId": "ec825408-3dad-44f6-963d-57a0a2a00e98"
      },
      "outputs": [
        {
          "output_type": "stream",
          "name": "stdout",
          "text": [
            "362880\n"
          ]
        }
      ],
      "source": [
        "list=[1,2,3,4,5,6,7,8,9]\n",
        "product=1\n",
        "for i in list:\n",
        "  product*=i\n",
        "print(product)"
      ]
    },
    {
      "cell_type": "markdown",
      "id": "65e48be7",
      "metadata": {
        "id": "65e48be7"
      },
      "source": [
        "39. Write a Python program to find the intersection of two lists."
      ]
    },
    {
      "cell_type": "code",
      "execution_count": 6,
      "id": "17c26d77",
      "metadata": {
        "id": "17c26d77",
        "colab": {
          "base_uri": "https://localhost:8080/"
        },
        "outputId": "e3cace66-d1ff-4dc1-a0bc-e9234bd1186b"
      },
      "outputs": [
        {
          "output_type": "stream",
          "name": "stdout",
          "text": [
            "{4, 5}\n"
          ]
        }
      ],
      "source": [
        "list1=[1,2,3,4,5]\n",
        "list2=[4,5,6,7,8]\n",
        "print(set(list1).intersection(list2))"
      ]
    },
    {
      "cell_type": "code",
      "source": [
        "list=[1,2,3,4,5]\n",
        "list2=[4,5,6,7,8]\n",
        "for i in list:\n",
        "  if i in list2:\n",
        "    print(i)"
      ],
      "metadata": {
        "colab": {
          "base_uri": "https://localhost:8080/"
        },
        "id": "eZqjyOe_Q6iw",
        "outputId": "5bb1e62e-bda3-45fb-d8b5-34dd7268c65b"
      },
      "id": "eZqjyOe_Q6iw",
      "execution_count": 7,
      "outputs": [
        {
          "output_type": "stream",
          "name": "stdout",
          "text": [
            "4\n",
            "5\n"
          ]
        }
      ]
    },
    {
      "cell_type": "markdown",
      "id": "430447a5",
      "metadata": {
        "id": "430447a5"
      },
      "source": [
        "40. Write a Python program to find the union of two lists."
      ]
    },
    {
      "cell_type": "code",
      "execution_count": 8,
      "id": "3e11cb6a",
      "metadata": {
        "id": "3e11cb6a",
        "colab": {
          "base_uri": "https://localhost:8080/"
        },
        "outputId": "bcb276b4-d34b-4659-89ac-dd26e7b71ce8"
      },
      "outputs": [
        {
          "output_type": "stream",
          "name": "stdout",
          "text": [
            "{1, 2, 3, 4, 5, 6, 7, 8}\n"
          ]
        }
      ],
      "source": [
        "list=[1,2,3,4,5]\n",
        "list2=[4,5,6,7,8]\n",
        "print(set(list).union(list2))"
      ]
    },
    {
      "cell_type": "code",
      "source": [
        "list=[1,2,3,4,5]\n",
        "list2=[4,5,6,7,8]\n",
        "for i in list:\n",
        "  if i not in list2:\n",
        "    list2.append(i)\n",
        "print(list2)\n"
      ],
      "metadata": {
        "colab": {
          "base_uri": "https://localhost:8080/"
        },
        "id": "8Cw1QEGAREKl",
        "outputId": "bc4ac6f9-60d6-485f-c9ab-090d2f2d5823"
      },
      "id": "8Cw1QEGAREKl",
      "execution_count": 10,
      "outputs": [
        {
          "output_type": "stream",
          "name": "stdout",
          "text": [
            "[4, 5, 6, 7, 8, 1, 2, 3]\n"
          ]
        }
      ]
    },
    {
      "cell_type": "markdown",
      "id": "fd104f89",
      "metadata": {
        "id": "fd104f89"
      },
      "source": [
        "41. Write a Python program to find the difference of two lists."
      ]
    },
    {
      "cell_type": "code",
      "execution_count": 9,
      "id": "10ce275c",
      "metadata": {
        "id": "10ce275c",
        "colab": {
          "base_uri": "https://localhost:8080/"
        },
        "outputId": "0462a390-b136-4e32-d6dc-1177e4f08fda"
      },
      "outputs": [
        {
          "output_type": "stream",
          "name": "stdout",
          "text": [
            "{1, 2, 3}\n"
          ]
        }
      ],
      "source": [
        "list=[1,2,3,4,5]\n",
        "list2=[4,5,6,7,8]\n",
        "print(set(list).difference(list2))"
      ]
    },
    {
      "cell_type": "code",
      "source": [
        "list=[1,2,3,4,5]\n",
        "list2=[4,5,6,7,8]\n",
        "for i in list:\n",
        "  if i not in list2:\n",
        "    print(i)"
      ],
      "metadata": {
        "colab": {
          "base_uri": "https://localhost:8080/"
        },
        "id": "r61tD6SLRKnE",
        "outputId": "38928532-c519-4e42-bc17-637d51fb4534"
      },
      "id": "r61tD6SLRKnE",
      "execution_count": 11,
      "outputs": [
        {
          "output_type": "stream",
          "name": "stdout",
          "text": [
            "1\n",
            "2\n",
            "3\n"
          ]
        }
      ]
    },
    {
      "cell_type": "markdown",
      "id": "cc4a2ccc",
      "metadata": {
        "id": "cc4a2ccc"
      },
      "source": [
        "42. Write a Python program to find the symmetric difference of two lists."
      ]
    },
    {
      "cell_type": "code",
      "execution_count": 12,
      "id": "599bf1d6",
      "metadata": {
        "id": "599bf1d6",
        "colab": {
          "base_uri": "https://localhost:8080/"
        },
        "outputId": "6e3b0182-1e4a-4de4-e817-6721fdd3c701"
      },
      "outputs": [
        {
          "output_type": "stream",
          "name": "stdout",
          "text": [
            "{1, 2, 3, 6, 7, 8}\n"
          ]
        }
      ],
      "source": [
        "list1=[1,2,3,4,5]\n",
        "list2=[4,5,6,7,8]\n",
        "print(set(list1).symmetric_difference(list2))\n"
      ]
    },
    {
      "cell_type": "code",
      "source": [
        "list1=[1,2,3,4,5]\n",
        "list2=[4,5,6,7,8]\n",
        "for i in list1:\n",
        "  if i not in list2:\n",
        "    print(i)"
      ],
      "metadata": {
        "colab": {
          "base_uri": "https://localhost:8080/"
        },
        "id": "kECFJftgRVHn",
        "outputId": "fd725b7a-6bad-44bc-9d06-7b6578f3c71f"
      },
      "id": "kECFJftgRVHn",
      "execution_count": 13,
      "outputs": [
        {
          "output_type": "stream",
          "name": "stdout",
          "text": [
            "1\n",
            "2\n",
            "3\n"
          ]
        }
      ]
    },
    {
      "cell_type": "markdown",
      "id": "65f2bf9b",
      "metadata": {
        "id": "65f2bf9b"
      },
      "source": [
        "43. Write a Python program to find the index of an element in a list."
      ]
    },
    {
      "cell_type": "code",
      "execution_count": 14,
      "id": "9bc39374",
      "metadata": {
        "id": "9bc39374",
        "colab": {
          "base_uri": "https://localhost:8080/"
        },
        "outputId": "1961a8dd-9856-4f52-c523-cfcd232e3d94"
      },
      "outputs": [
        {
          "output_type": "stream",
          "name": "stdout",
          "text": [
            "5\n",
            "4\n"
          ]
        }
      ],
      "source": [
        "list=[1,2,3,4,5]\n",
        "element=int(input())\n",
        "print(list.index(element))"
      ]
    },
    {
      "cell_type": "code",
      "source": [
        "list=[1,2,3,4,5]\n",
        "element=int(input())\n",
        "for i in range(len(list)):\n",
        "  if list[i]==element:\n",
        "    print(i)"
      ],
      "metadata": {
        "colab": {
          "base_uri": "https://localhost:8080/"
        },
        "id": "uDzGDdZ1SJ2-",
        "outputId": "5f466f05-2184-4acb-9f03-d1eea82ceeeb"
      },
      "id": "uDzGDdZ1SJ2-",
      "execution_count": 15,
      "outputs": [
        {
          "output_type": "stream",
          "name": "stdout",
          "text": [
            "3\n",
            "2\n"
          ]
        }
      ]
    },
    {
      "cell_type": "markdown",
      "id": "b665186c",
      "metadata": {
        "id": "b665186c"
      },
      "source": [
        "44. Write a Python program to find the frequency of each element in a list."
      ]
    },
    {
      "cell_type": "code",
      "execution_count": 16,
      "id": "e51669b1",
      "metadata": {
        "id": "e51669b1",
        "colab": {
          "base_uri": "https://localhost:8080/"
        },
        "outputId": "3b69eba0-67fa-4d38-a816-c646a9e12aa5"
      },
      "outputs": [
        {
          "output_type": "stream",
          "name": "stdout",
          "text": [
            "1 2\n",
            "2 2\n",
            "3 2\n",
            "4 2\n",
            "5 2\n",
            "6 1\n",
            "7 1\n",
            "8 1\n",
            "9 1\n",
            "1 2\n",
            "2 2\n",
            "3 2\n",
            "4 2\n",
            "5 2\n"
          ]
        }
      ],
      "source": [
        "list=[1,2,3,4,5,6,7,8,9,1,2,3,4,5]\n",
        "for i in list:\n",
        "  print(i,list.count(i))"
      ]
    },
    {
      "cell_type": "code",
      "source": [
        "list=[1,2,3,4,5,6,7,8,9,1,2,3,4,5]\n",
        "\n",
        "for i in list:\n",
        "  count=0\n",
        "  for j in list:\n",
        "    if i==j:\n",
        "      count+=1\n",
        "  print(i,count)"
      ],
      "metadata": {
        "colab": {
          "base_uri": "https://localhost:8080/"
        },
        "id": "xEsyqA7_SdHo",
        "outputId": "f55bd449-1e6e-4041-d3eb-9be20d62e8f7"
      },
      "id": "xEsyqA7_SdHo",
      "execution_count": 17,
      "outputs": [
        {
          "output_type": "stream",
          "name": "stdout",
          "text": [
            "1 2\n",
            "2 2\n",
            "3 2\n",
            "4 2\n",
            "5 2\n",
            "6 1\n",
            "7 1\n",
            "8 1\n",
            "9 1\n",
            "1 2\n",
            "2 2\n",
            "3 2\n",
            "4 2\n",
            "5 2\n"
          ]
        }
      ]
    },
    {
      "cell_type": "code",
      "source": [
        "list=[1,2,3,4,5,6,7,8,9,1,2,3,4,5]\n",
        "for i in set(list):\n",
        "  print(i,list.count(i))"
      ],
      "metadata": {
        "colab": {
          "base_uri": "https://localhost:8080/"
        },
        "id": "kwyUJ5LiSkIR",
        "outputId": "e6165101-7063-4985-f487-c6ea5fcee001"
      },
      "id": "kwyUJ5LiSkIR",
      "execution_count": 18,
      "outputs": [
        {
          "output_type": "stream",
          "name": "stdout",
          "text": [
            "1 2\n",
            "2 2\n",
            "3 2\n",
            "4 2\n",
            "5 2\n",
            "6 1\n",
            "7 1\n",
            "8 1\n",
            "9 1\n"
          ]
        }
      ]
    },
    {
      "cell_type": "markdown",
      "id": "8228f50c",
      "metadata": {
        "id": "8228f50c"
      },
      "source": [
        "45. Write a Python program to check if a list is empty or not."
      ]
    },
    {
      "cell_type": "code",
      "execution_count": 19,
      "id": "c786a118",
      "metadata": {
        "id": "c786a118",
        "colab": {
          "base_uri": "https://localhost:8080/"
        },
        "outputId": "580975b6-948d-450a-fc6d-691a53b215c8"
      },
      "outputs": [
        {
          "output_type": "stream",
          "name": "stdout",
          "text": [
            "empty\n"
          ]
        }
      ],
      "source": [
        "list=[]\n",
        "if len(list)==0:\n",
        "  print('empty')\n",
        "else:\n",
        "  print('not empty')"
      ]
    },
    {
      "cell_type": "code",
      "source": [
        "list=[1,2,3,4,5]\n",
        "if list:\n",
        "  print('not empty')\n",
        "else:\n",
        "  print('empty')"
      ],
      "metadata": {
        "colab": {
          "base_uri": "https://localhost:8080/"
        },
        "id": "NNXn1tFSS_ie",
        "outputId": "6e58fda7-f13b-4872-ce16-999575a1c1b4"
      },
      "id": "NNXn1tFSS_ie",
      "execution_count": 20,
      "outputs": [
        {
          "output_type": "stream",
          "name": "stdout",
          "text": [
            "not empty\n"
          ]
        }
      ]
    },
    {
      "cell_type": "markdown",
      "id": "0cd6004d",
      "metadata": {
        "id": "0cd6004d"
      },
      "source": [
        "46. Write a Python program to flatten a nested list."
      ]
    },
    {
      "cell_type": "code",
      "execution_count": 21,
      "id": "8f75d3a5",
      "metadata": {
        "id": "8f75d3a5",
        "colab": {
          "base_uri": "https://localhost:8080/"
        },
        "outputId": "a2c478dd-8b08-47d6-c173-3c81f18f0ddb"
      },
      "outputs": [
        {
          "output_type": "stream",
          "name": "stdout",
          "text": [
            "[1, 2, 3, 4, 5, 6, 7, 8, 9]\n"
          ]
        }
      ],
      "source": [
        "list=[[1,2,3],[4,5,6],[7,8,9]]\n",
        "new_list=[]\n",
        "for i in list:\n",
        "  for j in i:\n",
        "    new_list.append(j)\n",
        "print(new_list)"
      ]
    },
    {
      "cell_type": "markdown",
      "id": "dae03af9",
      "metadata": {
        "id": "dae03af9"
      },
      "source": [
        "47. Write a Python program to find the length of a list."
      ]
    },
    {
      "cell_type": "code",
      "execution_count": 22,
      "id": "885e7120",
      "metadata": {
        "id": "885e7120",
        "colab": {
          "base_uri": "https://localhost:8080/"
        },
        "outputId": "9723893f-6835-41a4-eafa-32e2a88892bf"
      },
      "outputs": [
        {
          "output_type": "stream",
          "name": "stdout",
          "text": [
            "9\n"
          ]
        }
      ],
      "source": [
        "list=[1,2,3,4,5,6,7,8,9]\n",
        "print(len(list))"
      ]
    },
    {
      "cell_type": "markdown",
      "id": "03cc8634",
      "metadata": {
        "id": "03cc8634"
      },
      "source": [
        "48. Write a Python program to find the maximum and minimum element in a list."
      ]
    },
    {
      "cell_type": "code",
      "execution_count": 23,
      "id": "5175b84c",
      "metadata": {
        "id": "5175b84c",
        "colab": {
          "base_uri": "https://localhost:8080/"
        },
        "outputId": "be85dba2-638c-4265-c08d-ec9adddf49da"
      },
      "outputs": [
        {
          "output_type": "stream",
          "name": "stdout",
          "text": [
            "9\n",
            "1\n"
          ]
        }
      ],
      "source": [
        "list=[1,2,3,4,5,6,7,8,9]\n",
        "print(max(list))\n",
        "print(min(list))"
      ]
    },
    {
      "cell_type": "markdown",
      "id": "6bb7374a",
      "metadata": {
        "id": "6bb7374a"
      },
      "source": [
        "49. Write a Python program to find the cumulative sum of a list."
      ]
    },
    {
      "cell_type": "code",
      "execution_count": 24,
      "id": "2f6ad36e",
      "metadata": {
        "id": "2f6ad36e",
        "colab": {
          "base_uri": "https://localhost:8080/"
        },
        "outputId": "d12098c4-5d96-4704-9c08-31547fb58593"
      },
      "outputs": [
        {
          "output_type": "stream",
          "name": "stdout",
          "text": [
            "[1, 3, 6, 10, 15, 21, 28, 36, 45]\n"
          ]
        }
      ],
      "source": [
        "list=[1,2,3,4,5,6,7,8,9]\n",
        "new_list=[]\n",
        "sum=0\n",
        "for i in list:\n",
        "  sum+=i\n",
        "  new_list.append(sum)\n",
        "print(new_list)"
      ]
    },
    {
      "cell_type": "markdown",
      "id": "222b6a8a",
      "metadata": {
        "id": "222b6a8a"
      },
      "source": [
        "50. Write a Python program to create a matrix using nested lists."
      ]
    },
    {
      "cell_type": "code",
      "execution_count": 25,
      "id": "b53de014",
      "metadata": {
        "id": "b53de014",
        "colab": {
          "base_uri": "https://localhost:8080/"
        },
        "outputId": "442a8d4a-92a5-4a62-94c5-efdc731e64ce"
      },
      "outputs": [
        {
          "output_type": "stream",
          "name": "stdout",
          "text": [
            "[[1, 2, 3], [4, 5, 6], [7, 8, 9]]\n"
          ]
        }
      ],
      "source": [
        "list=[[1,2,3],[4,5,6],[7,8,9]]\n",
        "print(list)"
      ]
    },
    {
      "cell_type": "code",
      "source": [
        "list=[[1,2,3],[4,5,6],[7,8,9]]\n",
        "for i in list:\n",
        "  print(i)"
      ],
      "metadata": {
        "colab": {
          "base_uri": "https://localhost:8080/"
        },
        "id": "-UeIb09pTbpd",
        "outputId": "3e8094b4-d767-4d30-b4ad-736b259e9009"
      },
      "id": "-UeIb09pTbpd",
      "execution_count": 28,
      "outputs": [
        {
          "output_type": "stream",
          "name": "stdout",
          "text": [
            "[1, 2, 3]\n",
            "[4, 5, 6]\n",
            "[7, 8, 9]\n"
          ]
        }
      ]
    },
    {
      "cell_type": "markdown",
      "id": "e0657585",
      "metadata": {
        "id": "e0657585"
      },
      "source": [
        "51. Write a Python program to perform matrix addition."
      ]
    },
    {
      "cell_type": "code",
      "execution_count": 32,
      "id": "964a1f8b",
      "metadata": {
        "id": "964a1f8b",
        "colab": {
          "base_uri": "https://localhost:8080/"
        },
        "outputId": "48c2ebdd-242d-450a-bc8b-a7ef50c8aff7"
      },
      "outputs": [
        {
          "output_type": "stream",
          "name": "stdout",
          "text": [
            "[[2, 4, 6], [8, 10, 12], [14, 16, 18]]\n"
          ]
        }
      ],
      "source": [
        "list=[[1,2,3],[4,5,6],[7,8,9]]\n",
        "list2=[[1,2,3],[4,5,6],[7,8,9]]\n",
        "new_list=[]\n",
        "for i in range(len(list)):\n",
        "  new_list.append([])\n",
        "  for j in range(len(list[i])):\n",
        "    new_list[i].append(list[i][j]+list2[i][j])\n",
        "print(new_list)"
      ]
    },
    {
      "cell_type": "code",
      "source": [
        "list1=[[1,2,3],[4,5,6],[7,8,9]]\n",
        "list2=[[1,2,3],[4,5,6],[7,8,9]]\n",
        "new_list=[]\n",
        "for i in range(len(list1)):\n",
        "  new_list.append([])\n",
        "  for j in range(len(list1[i])):\n",
        "    new_list[i].append(list1[i][j]+list2[i][j])\n",
        "for k in new_list:\n",
        "  print(k)\n",
        ""
      ],
      "metadata": {
        "colab": {
          "base_uri": "https://localhost:8080/"
        },
        "id": "BV4NMcLwUApG",
        "outputId": "96d13ece-fdcf-4243-950c-02d79ddf3aa3"
      },
      "id": "BV4NMcLwUApG",
      "execution_count": 35,
      "outputs": [
        {
          "output_type": "stream",
          "name": "stdout",
          "text": [
            "[2, 4, 6]\n",
            "[8, 10, 12]\n",
            "[14, 16, 18]\n"
          ]
        }
      ]
    },
    {
      "cell_type": "markdown",
      "id": "d266a735",
      "metadata": {
        "id": "d266a735"
      },
      "source": [
        "52. Write a Python program to perform matrix subtraction."
      ]
    },
    {
      "cell_type": "code",
      "execution_count": 36,
      "id": "efe84403",
      "metadata": {
        "id": "efe84403",
        "colab": {
          "base_uri": "https://localhost:8080/"
        },
        "outputId": "f0691833-07bb-4ca3-8ebf-02632d0d2186"
      },
      "outputs": [
        {
          "output_type": "stream",
          "name": "stdout",
          "text": [
            "[[0, 0, 0], [0, 0, 0], [0, 0, 0]]\n"
          ]
        }
      ],
      "source": [
        "list=[[1,2,3],[4,5,6],[7,8,9]]\n",
        "list2=[[1,2,3],[4,5,6],[7,8,9]]\n",
        "list3=[]\n",
        "for i in range(len(list)):\n",
        "  list3.append([])\n",
        "  for j in range(len(list[i])):\n",
        "    list3[i].append(list[i][j]-list2[i][j])\n",
        "print(list3)"
      ]
    },
    {
      "cell_type": "code",
      "source": [
        "list1=[[1,2,3],[4,5,6],[7,8,9]]\n",
        "list2=[[1,2,3],[4,5,6],[7,8,9]]\n",
        "list3=[]\n",
        "for i in range(len(list1)):\n",
        "  list3.append([])\n",
        "  for j in range(len(list1[i])):\n",
        "    list3[i].append(list1[i][j]-list2[i][j])\n",
        "for k in list3:\n",
        "    print(k)"
      ],
      "metadata": {
        "colab": {
          "base_uri": "https://localhost:8080/"
        },
        "id": "gmym69x8U6Co",
        "outputId": "36a9428f-c89c-4d0f-d13c-a1cbc3e70077"
      },
      "id": "gmym69x8U6Co",
      "execution_count": 40,
      "outputs": [
        {
          "output_type": "stream",
          "name": "stdout",
          "text": [
            "[0, 0, 0]\n",
            "[0, 0, 0]\n",
            "[0, 0, 0]\n"
          ]
        }
      ]
    },
    {
      "cell_type": "markdown",
      "id": "b5b6a2d1",
      "metadata": {
        "id": "b5b6a2d1"
      },
      "source": [
        "53. Write a Python program to perform matrix multiplication."
      ]
    },
    {
      "cell_type": "code",
      "execution_count": 41,
      "id": "8aca64f8",
      "metadata": {
        "id": "8aca64f8",
        "colab": {
          "base_uri": "https://localhost:8080/"
        },
        "outputId": "19aca943-9d15-4e0c-aa8a-68294945401d"
      },
      "outputs": [
        {
          "output_type": "stream",
          "name": "stdout",
          "text": [
            "[[1, 4, 9], [16, 25, 36], [49, 64, 81]]\n"
          ]
        }
      ],
      "source": [
        "list=[[1,2,3],[4,5,6],[7,8,9]]\n",
        "list2=[[1,2,3],[4,5,6],[7,8,9]]\n",
        "list3=[]\n",
        "for i in range(len(list)):\n",
        "  list3.append([])\n",
        "  for j in range(len(list[i])):\n",
        "    list3[i].append(list[i][j]*list2[i][j])\n",
        "print(list3)"
      ]
    },
    {
      "cell_type": "code",
      "source": [
        "list=[[1,2,3],[4,5,6],[7,8,9]]\n",
        "list2=[[1,2,3],[4,5,6],[7,8,9]]\n",
        "list3=[]\n",
        "for i in range(len(list)):\n",
        "  list3.append([])\n",
        "  for j in range(len(list[i])):\n",
        "    list3[i].append(list[i][j]*list2[i][j])\n",
        "for k in list3:\n",
        "  print(k)"
      ],
      "metadata": {
        "colab": {
          "base_uri": "https://localhost:8080/"
        },
        "id": "1vXyjDYSVUL2",
        "outputId": "07f0c0da-5126-4555-a5e8-17189e0b919c"
      },
      "id": "1vXyjDYSVUL2",
      "execution_count": 42,
      "outputs": [
        {
          "output_type": "stream",
          "name": "stdout",
          "text": [
            "[1, 4, 9]\n",
            "[16, 25, 36]\n",
            "[49, 64, 81]\n"
          ]
        }
      ]
    },
    {
      "cell_type": "markdown",
      "id": "f2de0786",
      "metadata": {
        "id": "f2de0786"
      },
      "source": [
        "54. Write a Python program to find the transpose of a matrix."
      ]
    },
    {
      "cell_type": "code",
      "execution_count": 43,
      "id": "91901b6a",
      "metadata": {
        "id": "91901b6a",
        "colab": {
          "base_uri": "https://localhost:8080/"
        },
        "outputId": "4f6a2883-8f69-4db7-a72d-ba2e2ad752c4"
      },
      "outputs": [
        {
          "output_type": "stream",
          "name": "stdout",
          "text": [
            "[[1, 4, 7], [2, 5, 8], [3, 6, 9]]\n"
          ]
        }
      ],
      "source": [
        "matrix=[[1,2,3],[4,5,6],[7,8,9]]\n",
        "transpose=[]\n",
        "for i in range(len(matrix[0])):\n",
        "  transpose.append([])\n",
        "  for j in range(len(matrix)):\n",
        "    transpose[i].append(matrix[j][i])\n",
        "print(transpose)"
      ]
    },
    {
      "cell_type": "code",
      "source": [
        "matrix=[[1,2,3],[4,5,6],[7,8,9]]\n",
        "transpose=[]\n",
        "for i in range(len(matrix[0])):\n",
        "  transpose.append([])\n",
        "  for j in range(len(matrix)):\n",
        "    transpose[i].append(matrix[j][i])\n",
        "for k in transpose:\n",
        "  print(k)"
      ],
      "metadata": {
        "colab": {
          "base_uri": "https://localhost:8080/"
        },
        "id": "Gs_saGrRVuPV",
        "outputId": "6ca6f4bc-e55b-4d7b-ffc7-e27a504d569b"
      },
      "id": "Gs_saGrRVuPV",
      "execution_count": 44,
      "outputs": [
        {
          "output_type": "stream",
          "name": "stdout",
          "text": [
            "[1, 4, 7]\n",
            "[2, 5, 8]\n",
            "[3, 6, 9]\n"
          ]
        }
      ]
    },
    {
      "cell_type": "markdown",
      "id": "9d369bc4",
      "metadata": {
        "id": "9d369bc4"
      },
      "source": [
        "55. Write a Python program to find the inverse of a matrix."
      ]
    },
    {
      "cell_type": "code",
      "execution_count": 47,
      "id": "9be41568",
      "metadata": {
        "id": "9be41568",
        "colab": {
          "base_uri": "https://localhost:8080/"
        },
        "outputId": "872d3d64-9bb2-4ebd-a15e-6be63cdee0dc"
      },
      "outputs": [
        {
          "output_type": "stream",
          "name": "stdout",
          "text": [
            "[1.0, 0.25, 0.14285714285714285]\n",
            "[0.5, 0.2, 0.125]\n",
            "[0.3333333333333333, 0.16666666666666666, 0.1111111111111111]\n"
          ]
        }
      ],
      "source": [
        "matrix=[[1,2,3],[4,5,6],[7,8,9]]\n",
        "inverse=[]\n",
        "for i in range(len(matrix[0])):\n",
        "  inverse.append([])\n",
        "  for j in range(len(matrix)):\n",
        "    inverse[i].append(1/matrix[j][i])\n",
        "for k in inverse:\n",
        "  print(k)"
      ]
    },
    {
      "cell_type": "markdown",
      "id": "071fef7e",
      "metadata": {
        "id": "071fef7e"
      },
      "source": [
        "56. Write a Python program to implement bubble sort algorithm."
      ]
    },
    {
      "cell_type": "code",
      "execution_count": 49,
      "id": "ffa789c6",
      "metadata": {
        "id": "ffa789c6",
        "colab": {
          "base_uri": "https://localhost:8080/"
        },
        "outputId": "0f71ac02-1f9e-4e88-9143-354bdb2977e7"
      },
      "outputs": [
        {
          "output_type": "stream",
          "name": "stdout",
          "text": [
            "[1, 2, 3, 4, 6, 7, 8, 9, 10]\n"
          ]
        }
      ],
      "source": [
        "list=[1,2,3,10,4,6,7,8,9]\n",
        "for i in range(len(list)):\n",
        "  for j in range(len(list)-1):\n",
        "    if list[j]>list[j+1]:\n",
        "      list[j],list[j+1]=list[j+1],list[j]\n",
        "print(list)"
      ]
    },
    {
      "cell_type": "markdown",
      "id": "fce334e9",
      "metadata": {
        "id": "fce334e9"
      },
      "source": [
        "57. Write a Python program to implement insertion sort algorithm."
      ]
    },
    {
      "cell_type": "code",
      "execution_count": 50,
      "id": "9663f58b",
      "metadata": {
        "id": "9663f58b",
        "colab": {
          "base_uri": "https://localhost:8080/"
        },
        "outputId": "322ba64b-d7a4-45a4-fa39-4c30f3e4e008"
      },
      "outputs": [
        {
          "output_type": "stream",
          "name": "stdout",
          "text": [
            "[1, 2, 3, 4, 6, 7, 8, 9, 10]\n"
          ]
        }
      ],
      "source": [
        "list=[1,2,3,10,4,6,7,8,9]\n",
        "for i in range(1,len(list)):\n",
        "  key=list[i]\n",
        "  j=i-1\n",
        "  while j>=0 and list[j]>key:\n",
        "    list[j+1]=list[j]\n",
        "    j-=1\n",
        "    list[j+1]=key\n",
        "print(list)"
      ]
    },
    {
      "cell_type": "markdown",
      "id": "03f36f18",
      "metadata": {
        "id": "03f36f18"
      },
      "source": [
        "58. Write a Python program to implement selection sort algorithm."
      ]
    },
    {
      "cell_type": "code",
      "execution_count": 51,
      "id": "d47603b9",
      "metadata": {
        "id": "d47603b9",
        "colab": {
          "base_uri": "https://localhost:8080/"
        },
        "outputId": "aa5c4495-1cc7-4bef-dc82-395a7f7a2639"
      },
      "outputs": [
        {
          "output_type": "stream",
          "name": "stdout",
          "text": [
            "[1, 2, 3, 4, 6, 7, 8, 9, 10]\n"
          ]
        }
      ],
      "source": [
        "list=[1,2,3,10,4,6,7,8,9]\n",
        "for i in range(len(list)):\n",
        "  min_index=i\n",
        "  for j in range(i+1,len(list)):\n",
        "    if list[j]<list[min_index]:\n",
        "      min_index=j\n",
        "  list[i],list[min_index]=list[min_index],list[i]\n",
        "print(list)"
      ]
    },
    {
      "cell_type": "markdown",
      "id": "8a9be1f2",
      "metadata": {
        "id": "8a9be1f2"
      },
      "source": [
        "59. Write a Python program to implement merge sort algorithm."
      ]
    },
    {
      "cell_type": "code",
      "execution_count": 54,
      "id": "5408e3ad",
      "metadata": {
        "id": "5408e3ad",
        "colab": {
          "base_uri": "https://localhost:8080/"
        },
        "outputId": "a463bef8-d996-405d-c38e-01e4aa5d93f6"
      },
      "outputs": [
        {
          "output_type": "stream",
          "name": "stdout",
          "text": [
            "[5, 6, 7, 11, 12, 13]\n"
          ]
        }
      ],
      "source": [
        "list = [12, 11, 13, 5, 6, 7]\n",
        "def merge_sort(arr):\n",
        "    if len(arr) > 1:\n",
        "        mid = len(arr) // 2\n",
        "        left_half = arr[:mid]\n",
        "        right_half = arr[mid:]\n",
        "        merge_sort(left_half)\n",
        "        merge_sort(right_half)\n",
        "        i = j = k = 0\n",
        "        while i < len(left_half) and j < len(right_half):\n",
        "            if left_half[i] < right_half[j]:\n",
        "                arr[k] = left_half[i]\n",
        "                i += 1\n",
        "            else:\n",
        "                arr[k] = right_half[j]\n",
        "                j += 1\n",
        "            k += 1\n",
        "        while i < len(left_half):\n",
        "            arr[k] = left_half[i]\n",
        "            i += 1\n",
        "            k += 1\n",
        "\n",
        "        while j < len(right_half):\n",
        "            arr[k] = right_half[j]\n",
        "            j += 1\n",
        "            k += 1\n",
        "merge_sort(list)\n",
        "print(list)"
      ]
    },
    {
      "cell_type": "markdown",
      "id": "49d25334",
      "metadata": {
        "id": "49d25334"
      },
      "source": [
        "60. Write a Python program to implement quick sort algorithm."
      ]
    },
    {
      "cell_type": "code",
      "execution_count": 56,
      "id": "55ebea33",
      "metadata": {
        "id": "55ebea33",
        "colab": {
          "base_uri": "https://localhost:8080/"
        },
        "outputId": "c9ebff66-6b4a-4897-8c2a-3225f3927bc7"
      },
      "outputs": [
        {
          "output_type": "stream",
          "name": "stdout",
          "text": [
            "[1, 2, 3, 4, 6, 7, 8, 9, 10]\n"
          ]
        }
      ],
      "source": [
        "\n",
        "def quick_sort(arr):\n",
        "    if len(arr) <= 1:\n",
        "        return arr\n",
        "    pivot = arr[len(arr) // 2]\n",
        "    left = [x for x in arr if x < pivot]\n",
        "    middle = [x for x in arr if x == pivot]\n",
        "    right = [x for x in arr if x > pivot]\n",
        "    return quick_sort(left) + middle + quick_sort(right)\n",
        "arr=[1,2,3,10,4,6,7,8,9]\n",
        "print(quick_sort(arr))"
      ]
    },
    {
      "cell_type": "markdown",
      "source": [
        "##*Advanced* Coding Questions (61-100)"
      ],
      "metadata": {
        "id": "X_8f45JFo-4o"
      },
      "id": "X_8f45JFo-4o"
    },
    {
      "cell_type": "markdown",
      "id": "401c758d",
      "metadata": {
        "id": "401c758d"
      },
      "source": [
        "61. Write a Python program to implement linear search algorithm."
      ]
    },
    {
      "cell_type": "code",
      "execution_count": 57,
      "id": "70eb96e2",
      "metadata": {
        "id": "70eb96e2",
        "colab": {
          "base_uri": "https://localhost:8080/"
        },
        "outputId": "a57387bd-5846-4220-92db-dbb161ab969b"
      },
      "outputs": [
        {
          "output_type": "stream",
          "name": "stdout",
          "text": [
            "4\n",
            "4\n"
          ]
        }
      ],
      "source": [
        "list=[1,2,3,10,4,6,7,8,9]\n",
        "element=int(input())\n",
        "for i in range(len(list)):\n",
        "  if list[i]==element:\n",
        "    print(i)\n",
        ""
      ]
    },
    {
      "cell_type": "code",
      "source": [
        "list=[1,2,3,10,4,6,7,8,9]\n",
        "element=int(input())\n",
        "for i in range(len(list)):\n",
        "  if list[i]==element:\n",
        "    print(i)\n",
        "    break\n",
        ""
      ],
      "metadata": {
        "colab": {
          "base_uri": "https://localhost:8080/"
        },
        "id": "0EIpq0SYYLPB",
        "outputId": "97c3fc05-bc18-408e-b4e7-6b3b83d6f699"
      },
      "id": "0EIpq0SYYLPB",
      "execution_count": 58,
      "outputs": [
        {
          "output_type": "stream",
          "name": "stdout",
          "text": [
            "10\n",
            "3\n"
          ]
        }
      ]
    },
    {
      "cell_type": "markdown",
      "id": "9d72a96a",
      "metadata": {
        "id": "9d72a96a"
      },
      "source": [
        "62. Write a Python program to implement binary search algorithm."
      ]
    },
    {
      "cell_type": "code",
      "execution_count": 60,
      "id": "d2959e6e",
      "metadata": {
        "id": "d2959e6e",
        "colab": {
          "base_uri": "https://localhost:8080/"
        },
        "outputId": "b9fbccc2-887a-43ff-8ffb-0c26e6789df4"
      },
      "outputs": [
        {
          "output_type": "stream",
          "name": "stdout",
          "text": [
            "Element is present at index 3\n"
          ]
        }
      ],
      "source": [
        "def binary_search(arr, x):\n",
        "    low = 0\n",
        "    high = len(arr) - 1\n",
        "    mid = 0\n",
        "\n",
        "    while low <= high:\n",
        "        mid = (high + low) // 2\n",
        "\n",
        "\n",
        "        if arr[mid] < x:\n",
        "            low = mid + 1\n",
        "\n",
        "\n",
        "        elif arr[mid] > x:\n",
        "            high = mid - 1\n",
        "\n",
        "\n",
        "        else:\n",
        "            return mid\n",
        "\n",
        "\n",
        "    return -1\n",
        "\n",
        "\n",
        "\n",
        "arr = [2, 3, 4, 10, 40]\n",
        "x = 10\n",
        "\n",
        "\n",
        "\n",
        "result = binary_search(arr, x)\n",
        "\n",
        "if result != -1:\n",
        "    print(\"Element is present at index\", str(result))\n",
        "else:\n",
        "    print(\"Element is not present in array\")"
      ]
    },
    {
      "cell_type": "markdown",
      "id": "1d7c81ad",
      "metadata": {
        "id": "1d7c81ad"
      },
      "source": [
        "63. Write a Python program to implement depth-first search algorithm."
      ]
    },
    {
      "cell_type": "code",
      "source": [
        "def dfs(graph, start_node):\n",
        "    visited = set()\n",
        "    stack = [start_node]\n",
        "\n",
        "    while stack:\n",
        "        vertex = stack.pop()\n",
        "        if vertex not in visited:\n",
        "            print(vertex, end=\" \")\n",
        "            visited.add(vertex)\n",
        "            stack.extend(graph[vertex] - visited)\n",
        "\n",
        "\n",
        "\n",
        "graph = {\n",
        "    'A': {'B', 'C'},\n",
        "    'B': {'D', 'E'},\n",
        "    'C': {'F'},\n",
        "    'D': set(),\n",
        "    'E': {'F'},\n",
        "    'F': set()\n",
        "}\n",
        "\n",
        "\n",
        "start_node = 'A'\n",
        "\n",
        "print(\"Following is the Depth-First Search:\")\n",
        "dfs(graph, start_node)  # Call the DFS function"
      ],
      "metadata": {
        "colab": {
          "base_uri": "https://localhost:8080/"
        },
        "id": "hf7G759vZY5O",
        "outputId": "8aabf4d2-f808-4f4d-faee-43c186bee243"
      },
      "id": "hf7G759vZY5O",
      "execution_count": 62,
      "outputs": [
        {
          "output_type": "stream",
          "name": "stdout",
          "text": [
            "Following is the Depth-First Search:\n",
            "A C F B E D "
          ]
        }
      ]
    },
    {
      "cell_type": "markdown",
      "id": "9be2d764",
      "metadata": {
        "id": "9be2d764"
      },
      "source": [
        "64. Write a Python program to implement breadth-first search algorithm."
      ]
    },
    {
      "cell_type": "code",
      "execution_count": 64,
      "id": "8aa98b3d",
      "metadata": {
        "id": "8aa98b3d",
        "colab": {
          "base_uri": "https://localhost:8080/"
        },
        "outputId": "e55cbee1-3bd2-4273-d001-de4ceb23ad4a"
      },
      "outputs": [
        {
          "output_type": "stream",
          "name": "stdout",
          "text": [
            "A B C D E F "
          ]
        }
      ],
      "source": [
        "graph={\n",
        "    'A':['B','C'],\n",
        "    'B':['D','E'],\n",
        "    'C':['F'],\n",
        "    'D':[],\n",
        "    'E':['F'],\n",
        "    'F':[]\n",
        "}\n",
        "visited=[]\n",
        "queue=[]\n",
        "def bfs(visited,graph,node):\n",
        "  visited.append(node)\n",
        "  queue.append(node)\n",
        "  while queue:\n",
        "    m=queue.pop(0)\n",
        "    print(m,end=\" \")\n",
        "    for neighbour in graph[m]:\n",
        "      if neighbour not in visited:\n",
        "        visited.append(neighbour)\n",
        "        queue.append(neighbour)\n",
        "\n",
        "bfs(visited,graph,'A')\n"
      ]
    },
    {
      "cell_type": "markdown",
      "id": "8fe03da3",
      "metadata": {
        "id": "8fe03da3"
      },
      "source": [
        "65. Write a Python program to find the shortest path in a graph using Dijkstra's algorithm."
      ]
    },
    {
      "cell_type": "code",
      "execution_count": 68,
      "id": "d58d5256",
      "metadata": {
        "id": "d58d5256",
        "colab": {
          "base_uri": "https://localhost:8080/"
        },
        "outputId": "b2acaae2-b271-4535-9850-f8488b142f43"
      },
      "outputs": [
        {
          "output_type": "stream",
          "name": "stdout",
          "text": [
            "{'A': 0, 'B': 2, 'C': inf, 'D': inf, 'E': inf}\n"
          ]
        }
      ],
      "source": [
        "\n",
        "def dijkstra(g,start,end):\n",
        "  distance={node:float('inf') for node in g}\n",
        "  distance[start]=0\n",
        "  visited=[]\n",
        "  queue=[start]\n",
        "  while queue:\n",
        "    node=queue.pop(0)\n",
        "    visited.append(node)\n",
        "    for neighbour,weight in g[node].items():\n",
        "      if neighbour not in visited:\n",
        "        if distance[node]+weight<distance[neighbour]:\n",
        "          distance[neighbour]=distance[node]+weight\n",
        "          queue.append(neighbour)\n",
        "          return distance\n",
        "g={\n",
        "    'A':{'B':2,'C':4},\n",
        "    'B':{'D':8},\n",
        "    'C':{'B':8,'D':7,'E':2},\n",
        "    'D':{'E':9},\n",
        "    'E':{}\n",
        "}\n",
        "start='A'\n",
        "end='E'\n",
        "print(dijkstra(g,start,end))"
      ]
    },
    {
      "cell_type": "markdown",
      "id": "b2c7df13",
      "metadata": {
        "id": "b2c7df13"
      },
      "source": [
        "66. Write a Python program to find the minimum spanning tree using Kruskal's algorithm."
      ]
    },
    {
      "cell_type": "code",
      "execution_count": null,
      "id": "5a739278",
      "metadata": {
        "id": "5a739278"
      },
      "outputs": [],
      "source": []
    },
    {
      "cell_type": "markdown",
      "id": "883df590",
      "metadata": {
        "id": "883df590"
      },
      "source": [
        "67. Write a Python program to find the minimum spanning tree using Prim's algorithm."
      ]
    },
    {
      "cell_type": "code",
      "execution_count": null,
      "id": "1776ca96",
      "metadata": {
        "id": "1776ca96"
      },
      "outputs": [],
      "source": []
    },
    {
      "cell_type": "markdown",
      "id": "cb7bcf26",
      "metadata": {
        "id": "cb7bcf26"
      },
      "source": [
        "68. Write a Python program to find the maximum flow in a network using Ford-Fulkerson algorithm."
      ]
    },
    {
      "cell_type": "code",
      "execution_count": null,
      "id": "993e87db",
      "metadata": {
        "id": "993e87db"
      },
      "outputs": [],
      "source": []
    },
    {
      "cell_type": "markdown",
      "id": "445ad7fe",
      "metadata": {
        "id": "445ad7fe"
      },
      "source": [
        "69. Write a Python program to find the longest common subsequence in two sequences."
      ]
    },
    {
      "cell_type": "code",
      "execution_count": null,
      "id": "4ba2da8e",
      "metadata": {
        "id": "4ba2da8e"
      },
      "outputs": [],
      "source": []
    },
    {
      "cell_type": "markdown",
      "id": "75054155",
      "metadata": {
        "id": "75054155"
      },
      "source": [
        "70. Write a Python program to find the longest increasing subsequence in a sequence."
      ]
    },
    {
      "cell_type": "code",
      "execution_count": null,
      "id": "8a2fbdf6",
      "metadata": {
        "id": "8a2fbdf6"
      },
      "outputs": [],
      "source": []
    },
    {
      "cell_type": "markdown",
      "id": "80dc7dc4",
      "metadata": {
        "id": "80dc7dc4"
      },
      "source": [
        "71. Write a Python program to solve the knapsack problem using dynamic programming."
      ]
    },
    {
      "cell_type": "code",
      "execution_count": null,
      "id": "a3ad5e24",
      "metadata": {
        "id": "a3ad5e24"
      },
      "outputs": [],
      "source": []
    },
    {
      "cell_type": "markdown",
      "id": "71526319",
      "metadata": {
        "id": "71526319"
      },
      "source": [
        "72. Write a Python program to solve the traveling salesman problem using dynamic programming."
      ]
    },
    {
      "cell_type": "code",
      "execution_count": null,
      "id": "8efdb175",
      "metadata": {
        "id": "8efdb175"
      },
      "outputs": [],
      "source": []
    },
    {
      "cell_type": "markdown",
      "id": "6ddc5558",
      "metadata": {
        "id": "6ddc5558"
      },
      "source": [
        "73. Write a Python program to find the maximum sum subarray using Kadane's algorithm."
      ]
    },
    {
      "cell_type": "code",
      "execution_count": null,
      "id": "109d5ad3",
      "metadata": {
        "id": "109d5ad3"
      },
      "outputs": [],
      "source": []
    },
    {
      "cell_type": "markdown",
      "id": "0c9fc456",
      "metadata": {
        "id": "0c9fc456"
      },
      "source": [
        "74. Write a Python program to find the median of two sorted arrays."
      ]
    },
    {
      "cell_type": "code",
      "execution_count": null,
      "id": "93bd7672",
      "metadata": {
        "id": "93bd7672"
      },
      "outputs": [],
      "source": []
    },
    {
      "cell_type": "markdown",
      "id": "f24bc58e",
      "metadata": {
        "id": "f24bc58e"
      },
      "source": [
        "75. Write a Python program to find the k-th smallest element in an array."
      ]
    },
    {
      "cell_type": "code",
      "execution_count": null,
      "id": "3b03bafa",
      "metadata": {
        "id": "3b03bafa"
      },
      "outputs": [],
      "source": []
    },
    {
      "cell_type": "markdown",
      "id": "f2d17b60",
      "metadata": {
        "id": "f2d17b60"
      },
      "source": [
        "76. Write a Python program to find the k-th largest element in an array."
      ]
    },
    {
      "cell_type": "code",
      "execution_count": null,
      "id": "3b58c085",
      "metadata": {
        "id": "3b58c085"
      },
      "outputs": [],
      "source": []
    },
    {
      "cell_type": "markdown",
      "id": "34072df5",
      "metadata": {
        "id": "34072df5"
      },
      "source": [
        "77. Write a Python program to implement the heap sort algorithm."
      ]
    },
    {
      "cell_type": "code",
      "execution_count": null,
      "id": "53591396",
      "metadata": {
        "id": "53591396"
      },
      "outputs": [],
      "source": []
    },
    {
      "cell_type": "markdown",
      "id": "d9e31617",
      "metadata": {
        "id": "d9e31617"
      },
      "source": [
        "78. Write a Python program to implement the radix sort algorithm."
      ]
    },
    {
      "cell_type": "code",
      "execution_count": null,
      "id": "03017849",
      "metadata": {
        "id": "03017849"
      },
      "outputs": [],
      "source": []
    },
    {
      "cell_type": "markdown",
      "id": "8f3ca34f",
      "metadata": {
        "id": "8f3ca34f"
      },
      "source": [
        "79. Write a Python program to implement the bucket sort algorithm."
      ]
    },
    {
      "cell_type": "code",
      "execution_count": null,
      "id": "08ad8e73",
      "metadata": {
        "id": "08ad8e73"
      },
      "outputs": [],
      "source": []
    },
    {
      "cell_type": "markdown",
      "id": "4f3b61b9",
      "metadata": {
        "id": "4f3b61b9"
      },
      "source": [
        "80. Write a Python program to implement the counting sort algorithm."
      ]
    },
    {
      "cell_type": "code",
      "execution_count": null,
      "id": "4ce955d9",
      "metadata": {
        "id": "4ce955d9"
      },
      "outputs": [],
      "source": []
    },
    {
      "cell_type": "markdown",
      "id": "877d296e",
      "metadata": {
        "id": "877d296e"
      },
      "source": [
        "81. Write a Python program to find the longest palindromic substring in a string."
      ]
    },
    {
      "cell_type": "code",
      "execution_count": null,
      "id": "ce89343e",
      "metadata": {
        "id": "ce89343e"
      },
      "outputs": [],
      "source": []
    },
    {
      "cell_type": "markdown",
      "id": "2315d5cb",
      "metadata": {
        "id": "2315d5cb"
      },
      "source": [
        "82. Write a Python program to find the minimum edit distance between two strings."
      ]
    },
    {
      "cell_type": "code",
      "execution_count": null,
      "id": "5d6d404b",
      "metadata": {
        "id": "5d6d404b"
      },
      "outputs": [],
      "source": []
    },
    {
      "cell_type": "markdown",
      "id": "10328a0c",
      "metadata": {
        "id": "10328a0c"
      },
      "source": [
        "83. Write a Python program to find the maximum product subarray in an array."
      ]
    },
    {
      "cell_type": "code",
      "execution_count": null,
      "id": "7f4b46b5",
      "metadata": {
        "id": "7f4b46b5"
      },
      "outputs": [],
      "source": []
    },
    {
      "cell_type": "markdown",
      "id": "d0e87796",
      "metadata": {
        "id": "d0e87796"
      },
      "source": [
        "84. Write a Python program to find the number of islands in a 2D grid."
      ]
    },
    {
      "cell_type": "code",
      "execution_count": null,
      "id": "940f7fd4",
      "metadata": {
        "id": "940f7fd4"
      },
      "outputs": [],
      "source": []
    },
    {
      "cell_type": "markdown",
      "id": "6f41fc0a",
      "metadata": {
        "id": "6f41fc0a"
      },
      "source": [
        "85. Write a Python program to find the maximum rectangle area in a 2D grid."
      ]
    },
    {
      "cell_type": "code",
      "execution_count": null,
      "id": "daf4732d",
      "metadata": {
        "id": "daf4732d"
      },
      "outputs": [],
      "source": []
    },
    {
      "cell_type": "markdown",
      "id": "77cb7dca",
      "metadata": {
        "id": "77cb7dca"
      },
      "source": [
        "86. Write a Python program to find the largest square area in a 2D grid."
      ]
    },
    {
      "cell_type": "code",
      "execution_count": null,
      "id": "ca670d6d",
      "metadata": {
        "id": "ca670d6d"
      },
      "outputs": [],
      "source": []
    },
    {
      "cell_type": "markdown",
      "id": "39933501",
      "metadata": {
        "id": "39933501"
      },
      "source": [
        "87. Write a Python program to solve the N-Queens problem."
      ]
    },
    {
      "cell_type": "code",
      "execution_count": null,
      "id": "ddf6a499",
      "metadata": {
        "id": "ddf6a499"
      },
      "outputs": [],
      "source": []
    },
    {
      "cell_type": "markdown",
      "id": "6b02be92",
      "metadata": {
        "id": "6b02be92"
      },
      "source": [
        "88. Write a Python program to solve the Sudoku puzzle."
      ]
    },
    {
      "cell_type": "code",
      "execution_count": null,
      "id": "7875e67d",
      "metadata": {
        "id": "7875e67d"
      },
      "outputs": [],
      "source": []
    },
    {
      "cell_type": "markdown",
      "id": "5c8e1a78",
      "metadata": {
        "id": "5c8e1a78"
      },
      "source": [
        "89. Write a Python program to implement the A* search algorithm."
      ]
    },
    {
      "cell_type": "code",
      "execution_count": null,
      "id": "7bb0afd7",
      "metadata": {
        "id": "7bb0afd7"
      },
      "outputs": [],
      "source": []
    },
    {
      "cell_type": "markdown",
      "id": "492d9f05",
      "metadata": {
        "id": "492d9f05"
      },
      "source": [
        "90. Write a Python program to solve the 0/1 knapsack problem using backtracking."
      ]
    },
    {
      "cell_type": "code",
      "execution_count": null,
      "id": "f81c304b",
      "metadata": {
        "id": "f81c304b"
      },
      "outputs": [],
      "source": []
    },
    {
      "cell_type": "markdown",
      "id": "cd76f9ce",
      "metadata": {
        "id": "cd76f9ce"
      },
      "source": [
        "91. Write a Python program to solve the rat in a maze problem using backtracking."
      ]
    },
    {
      "cell_type": "code",
      "execution_count": null,
      "id": "78321338",
      "metadata": {
        "id": "78321338"
      },
      "outputs": [],
      "source": []
    },
    {
      "cell_type": "markdown",
      "id": "1620e426",
      "metadata": {
        "id": "1620e426"
      },
      "source": [
        "92. Write a Python program to solve the subset sum problem using backtracking."
      ]
    },
    {
      "cell_type": "code",
      "execution_count": null,
      "id": "24e509e4",
      "metadata": {
        "id": "24e509e4"
      },
      "outputs": [],
      "source": []
    },
    {
      "cell_type": "markdown",
      "id": "4ea6bf60",
      "metadata": {
        "id": "4ea6bf60"
      },
      "source": [
        "93. Write a Python program to implement the Floyd-Warshall algorithm."
      ]
    },
    {
      "cell_type": "code",
      "execution_count": null,
      "id": "c98cf58e",
      "metadata": {
        "id": "c98cf58e"
      },
      "outputs": [],
      "source": []
    },
    {
      "cell_type": "markdown",
      "id": "d25c4215",
      "metadata": {
        "id": "d25c4215"
      },
      "source": [
        "94. Write a Python program to implement the Bellman-Ford algorithm."
      ]
    },
    {
      "cell_type": "code",
      "execution_count": null,
      "id": "8938ba93",
      "metadata": {
        "id": "8938ba93"
      },
      "outputs": [],
      "source": []
    },
    {
      "cell_type": "markdown",
      "id": "82be40c8",
      "metadata": {
        "id": "82be40c8"
      },
      "source": [
        "95. Write a Python program to find the strongly connected components in a graph."
      ]
    },
    {
      "cell_type": "code",
      "execution_count": null,
      "id": "363b7337",
      "metadata": {
        "id": "363b7337"
      },
      "outputs": [],
      "source": []
    },
    {
      "cell_type": "markdown",
      "id": "7fc0595a",
      "metadata": {
        "id": "7fc0595a"
      },
      "source": [
        "96. Write a Python program to find the articulation points in a graph."
      ]
    },
    {
      "cell_type": "code",
      "execution_count": null,
      "id": "5c60243b",
      "metadata": {
        "id": "5c60243b"
      },
      "outputs": [],
      "source": []
    },
    {
      "cell_type": "markdown",
      "id": "be79f697",
      "metadata": {
        "id": "be79f697"
      },
      "source": [
        "97. Write a Python program to find the bridges in a graph."
      ]
    },
    {
      "cell_type": "code",
      "execution_count": null,
      "id": "54772a36",
      "metadata": {
        "id": "54772a36"
      },
      "outputs": [],
      "source": []
    },
    {
      "cell_type": "markdown",
      "id": "ab13b951",
      "metadata": {
        "id": "ab13b951"
      },
      "source": [
        "98. Write a Python program to find the Eulerian path in a graph."
      ]
    },
    {
      "cell_type": "code",
      "execution_count": null,
      "id": "833474df",
      "metadata": {
        "id": "833474df"
      },
      "outputs": [],
      "source": []
    },
    {
      "cell_type": "markdown",
      "id": "ff3aeb6b",
      "metadata": {
        "id": "ff3aeb6b"
      },
      "source": [
        "99. Write a Python program to find the Hamiltonian path in a graph."
      ]
    },
    {
      "cell_type": "code",
      "execution_count": null,
      "id": "24831f53",
      "metadata": {
        "id": "24831f53"
      },
      "outputs": [],
      "source": []
    },
    {
      "cell_type": "markdown",
      "id": "05528f97",
      "metadata": {
        "id": "05528f97"
      },
      "source": [
        "100. Write a Python program to find the topological order of a directed acyclic graph."
      ]
    },
    {
      "cell_type": "code",
      "execution_count": null,
      "id": "b3cf865d",
      "metadata": {
        "id": "b3cf865d"
      },
      "outputs": [],
      "source": []
    }
  ],
  "metadata": {
    "colab": {
      "provenance": [],
      "include_colab_link": true
    },
    "language_info": {
      "name": "python"
    },
    "kernelspec": {
      "name": "python3",
      "display_name": "Python 3"
    }
  },
  "nbformat": 4,
  "nbformat_minor": 5
}