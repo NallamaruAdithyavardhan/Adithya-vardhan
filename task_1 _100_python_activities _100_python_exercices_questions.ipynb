{
  "cells": [
    {
      "cell_type": "markdown",
      "metadata": {
        "id": "view-in-github",
        "colab_type": "text"
      },
      "source": [
        "<a href=\"https://colab.research.google.com/github/NallamaruAdithyavardhan/Adithya-vardhan/blob/main/task_1%20_100_python_activities%20_100_python_exercices_questions.ipynb\" target=\"_parent\"><img src=\"https://colab.research.google.com/assets/colab-badge.svg\" alt=\"Open In Colab\"/></a>"
      ]
    },
    {
      "cell_type": "markdown",
      "source": [
        "##Let’s tackle 100 coding problems from basics to advanced. Here you go:"
      ],
      "metadata": {
        "id": "vzCLvstxn82R"
      },
      "id": "vzCLvstxn82R"
    },
    {
      "cell_type": "markdown",
      "source": [
        "##Basic Coding Questions (1-30)"
      ],
      "metadata": {
        "id": "VaTmFUUon-bw"
      },
      "id": "VaTmFUUon-bw"
    },
    {
      "cell_type": "markdown",
      "id": "c4895b61",
      "metadata": {
        "id": "c4895b61"
      },
      "source": [
        "1. Write a Python program to print \"Hello, World!\""
      ]
    },
    {
      "cell_type": "code",
      "execution_count": null,
      "id": "80c3e7b2",
      "metadata": {
        "id": "80c3e7b2",
        "colab": {
          "base_uri": "https://localhost:8080/"
        },
        "outputId": "fa59ff84-7895-43a2-efe8-485a0d444f73"
      },
      "outputs": [
        {
          "output_type": "stream",
          "name": "stdout",
          "text": [
            "Hello, World\n"
          ]
        }
      ],
      "source": [
        "print('Hello, World')"
      ]
    },
    {
      "cell_type": "markdown",
      "id": "2ebb77f5",
      "metadata": {
        "id": "2ebb77f5"
      },
      "source": [
        "2. Write a Python program to add two numbers."
      ]
    },
    {
      "cell_type": "code",
      "execution_count": null,
      "id": "7aadb870",
      "metadata": {
        "id": "7aadb870",
        "colab": {
          "base_uri": "https://localhost:8080/"
        },
        "outputId": "655907d5-188c-45ce-f10c-1a67ad826ab3"
      },
      "outputs": [
        {
          "output_type": "stream",
          "name": "stdout",
          "text": [
            "20\n",
            "30\n",
            "50\n"
          ]
        }
      ],
      "source": [
        "print(int(input())+int(input()))\n"
      ]
    },
    {
      "cell_type": "markdown",
      "id": "8f32c010",
      "metadata": {
        "id": "8f32c010"
      },
      "source": [
        "3. Write a Python program to find the square root of a number."
      ]
    },
    {
      "cell_type": "code",
      "execution_count": null,
      "id": "1076d3b0",
      "metadata": {
        "id": "1076d3b0",
        "colab": {
          "base_uri": "https://localhost:8080/"
        },
        "outputId": "fd362389-09f4-4dd7-db20-ffee6c651060"
      },
      "outputs": [
        {
          "name": "stdout",
          "output_type": "stream",
          "text": [
            "625\n"
          ]
        },
        {
          "output_type": "execute_result",
          "data": {
            "text/plain": [
              "25.0"
            ]
          },
          "metadata": {},
          "execution_count": 6
        }
      ],
      "source": [
        "import math\n",
        "math.sqrt(int(input()))"
      ]
    },
    {
      "cell_type": "markdown",
      "id": "7f725f42",
      "metadata": {
        "id": "7f725f42"
      },
      "source": [
        "4. Write a Python program to swap two variables."
      ]
    },
    {
      "cell_type": "code",
      "execution_count": null,
      "id": "a230bb73",
      "metadata": {
        "id": "a230bb73",
        "colab": {
          "base_uri": "https://localhost:8080/"
        },
        "outputId": "25c3d887-ea7c-4f7b-a7a7-7367ac95ca70"
      },
      "outputs": [
        {
          "output_type": "stream",
          "name": "stdout",
          "text": [
            "10\n",
            "02\n",
            "02 10\n"
          ]
        }
      ],
      "source": [
        "x=input()\n",
        "y=input()\n",
        "x,y=y,x\n",
        "print(x,y)"
      ]
    },
    {
      "cell_type": "markdown",
      "id": "f6ea5b17",
      "metadata": {
        "id": "f6ea5b17"
      },
      "source": [
        "5. Write a Python program to find the area of a triangle."
      ]
    },
    {
      "cell_type": "code",
      "execution_count": null,
      "id": "a769af6b",
      "metadata": {
        "id": "a769af6b",
        "colab": {
          "base_uri": "https://localhost:8080/"
        },
        "outputId": "31a67fad-6c55-4df0-a1a2-0b10ac5d87f4"
      },
      "outputs": [
        {
          "output_type": "stream",
          "name": "stdout",
          "text": [
            "3\n",
            "4\n",
            "5\n",
            "6.0\n"
          ]
        }
      ],
      "source": [
        "import math\n",
        "a=int(input())\n",
        "b=int(input())\n",
        "c=int(input())\n",
        "s=(a+b+c)/2\n",
        "area=math.sqrt(s*(s-a)*(s-b)*(s-c))\n",
        "print(area)"
      ]
    },
    {
      "cell_type": "markdown",
      "id": "d6c7f59f",
      "metadata": {
        "id": "d6c7f59f"
      },
      "source": [
        "6. Write a Python program to solve quadratic equations."
      ]
    },
    {
      "cell_type": "code",
      "execution_count": null,
      "id": "c6b908c9",
      "metadata": {
        "id": "c6b908c9",
        "outputId": "7a6d61f9-ef0d-4724-8483-799fa6c8e4dd",
        "colab": {
          "base_uri": "https://localhost:8080/"
        }
      },
      "outputs": [
        {
          "output_type": "stream",
          "name": "stdout",
          "text": [
            "2\n",
            "-5\n",
            "2\n",
            "2.0 0.5\n"
          ]
        }
      ],
      "source": [
        "a=float(input())\n",
        "b=float(input())\n",
        "c=float(input())\n",
        "d=(b**2)-(4*a*c)\n",
        "sol1=(-b+d**0.5)/(2*a)\n",
        "sol2=(-b-d**0.5)/(2*a)\n",
        "print(sol1,sol2)\n"
      ]
    },
    {
      "cell_type": "markdown",
      "id": "84d19ebd",
      "metadata": {
        "id": "84d19ebd"
      },
      "source": [
        "7. Write a Python program to generate a random number."
      ]
    },
    {
      "cell_type": "code",
      "execution_count": null,
      "id": "881853ce",
      "metadata": {
        "id": "881853ce",
        "colab": {
          "base_uri": "https://localhost:8080/"
        },
        "outputId": "3260b08b-9d97-4aff-fc4c-d2054d14f504"
      },
      "outputs": [
        {
          "output_type": "stream",
          "name": "stdout",
          "text": [
            "3\n"
          ]
        }
      ],
      "source": [
        "import random\n",
        "print(random.randint(0,9))"
      ]
    },
    {
      "cell_type": "markdown",
      "id": "db927aaf",
      "metadata": {
        "id": "db927aaf"
      },
      "source": [
        "8. Write a Python program to convert kilometers to miles."
      ]
    },
    {
      "cell_type": "code",
      "execution_count": null,
      "id": "e321f860",
      "metadata": {
        "id": "e321f860",
        "colab": {
          "base_uri": "https://localhost:8080/"
        },
        "outputId": "92919937-e550-4ad5-b7c3-232acd39f5aa"
      },
      "outputs": [
        {
          "output_type": "stream",
          "name": "stdout",
          "text": [
            "8.900\n",
            "5.530201900000001\n"
          ]
        }
      ],
      "source": [
        "kilometers=float(input())\n",
        "miles=kilometers*0.621371\n",
        "print(miles)"
      ]
    },
    {
      "cell_type": "markdown",
      "id": "17312243",
      "metadata": {
        "id": "17312243"
      },
      "source": [
        "9. Write a Python program to convert Celsius to Fahrenheit."
      ]
    },
    {
      "cell_type": "code",
      "execution_count": null,
      "id": "69e7f3f6",
      "metadata": {
        "id": "69e7f3f6",
        "colab": {
          "base_uri": "https://localhost:8080/"
        },
        "outputId": "2698e3f8-28f1-405b-a46f-10e1f880150d"
      },
      "outputs": [
        {
          "output_type": "stream",
          "name": "stdout",
          "text": [
            "57.3\n",
            "135.14\n"
          ]
        }
      ],
      "source": [
        "celsius=float(input())\n",
        "fahrenheit=(celsius*1.8)+32\n",
        "print(fahrenheit)"
      ]
    },
    {
      "cell_type": "markdown",
      "id": "fc8070c1",
      "metadata": {
        "id": "fc8070c1"
      },
      "source": [
        "10. Write a Python program to check if a number is positive, negative, or zero."
      ]
    },
    {
      "cell_type": "code",
      "execution_count": null,
      "id": "6cb704ea",
      "metadata": {
        "id": "6cb704ea",
        "colab": {
          "base_uri": "https://localhost:8080/"
        },
        "outputId": "a56d8bd9-8e1f-42a0-899c-54a38d3fc31a"
      },
      "outputs": [
        {
          "output_type": "stream",
          "name": "stdout",
          "text": [
            "3\n",
            "positive\n"
          ]
        }
      ],
      "source": [
        "number=int(input())\n",
        "if number>0:\n",
        "  print('positive')\n",
        "elif number<0:\n",
        "  print('negative')\n",
        "else:\n",
        "  print('zero')"
      ]
    },
    {
      "cell_type": "markdown",
      "id": "5f6bf02f",
      "metadata": {
        "id": "5f6bf02f"
      },
      "source": [
        "11. Write a Python program to check if a number is odd or even."
      ]
    },
    {
      "cell_type": "code",
      "execution_count": null,
      "id": "f2212b4c",
      "metadata": {
        "id": "f2212b4c",
        "colab": {
          "base_uri": "https://localhost:8080/"
        },
        "outputId": "43319e8e-4b68-496f-e2ea-cafe1e87c8f0"
      },
      "outputs": [
        {
          "output_type": "stream",
          "name": "stdout",
          "text": [
            "9\n",
            "odd\n"
          ]
        }
      ],
      "source": [
        "number=int(input())\n",
        "if number%2==0:\n",
        "  print('even')\n",
        "else:\n",
        "  print('odd')"
      ]
    },
    {
      "cell_type": "markdown",
      "id": "b83b3020",
      "metadata": {
        "id": "b83b3020"
      },
      "source": [
        "12. Write a Python program to check leap year."
      ]
    },
    {
      "cell_type": "code",
      "execution_count": null,
      "id": "a103a8b0",
      "metadata": {
        "id": "a103a8b0",
        "colab": {
          "base_uri": "https://localhost:8080/"
        },
        "outputId": "b0e48a00-7fcd-4c8c-896c-7cc86c3b1cec"
      },
      "outputs": [
        {
          "output_type": "stream",
          "name": "stdout",
          "text": [
            "2024\n",
            "leap year\n"
          ]
        }
      ],
      "source": [
        "year=int(input())\n",
        "if year%4==0:\n",
        "  print('leap year')\n",
        "else:\n",
        "  print('not a leap year')"
      ]
    },
    {
      "cell_type": "markdown",
      "id": "d265039e",
      "metadata": {
        "id": "d265039e"
      },
      "source": [
        "13. Write a Python program to find the largest among three numbers."
      ]
    },
    {
      "cell_type": "code",
      "execution_count": null,
      "id": "af8eed02",
      "metadata": {
        "id": "af8eed02",
        "colab": {
          "base_uri": "https://localhost:8080/"
        },
        "outputId": "2912abfb-6368-4832-a3fe-30ee10924526"
      },
      "outputs": [
        {
          "output_type": "stream",
          "name": "stdout",
          "text": [
            "55\n",
            "88\n",
            "11\n",
            "88\n"
          ]
        }
      ],
      "source": [
        "number1=int(input())\n",
        "number2=int(input())\n",
        "number3=int(input())\n",
        "if number1>number2 and number1>number3:\n",
        "  print(number1)\n",
        "elif number2>number1 and number2>number3:\n",
        "  print(number2)\n",
        "else:\n",
        "  print(number3)"
      ]
    },
    {
      "cell_type": "markdown",
      "id": "d1de0bf4",
      "metadata": {
        "id": "d1de0bf4"
      },
      "source": [
        "14. Write a Python program to check prime number."
      ]
    },
    {
      "cell_type": "code",
      "execution_count": null,
      "id": "b9f439c5",
      "metadata": {
        "id": "b9f439c5",
        "colab": {
          "base_uri": "https://localhost:8080/"
        },
        "outputId": "aee1b871-6f6a-4678-fd82-41f616aa3e22"
      },
      "outputs": [
        {
          "output_type": "stream",
          "name": "stdout",
          "text": [
            "3\n",
            "prime number\n"
          ]
        }
      ],
      "source": [
        "number=int(input())\n",
        "for i in range(2,number):\n",
        "  if number%i==0:\n",
        "    print('not a prime number')\n",
        "    break\n",
        "else:\n",
        "  print('prime number')"
      ]
    },
    {
      "cell_type": "markdown",
      "id": "fab44f8b",
      "metadata": {
        "id": "fab44f8b"
      },
      "source": [
        "15. Write a Python program to print all prime numbers in an interval."
      ]
    },
    {
      "cell_type": "code",
      "execution_count": null,
      "id": "1c20611d",
      "metadata": {
        "id": "1c20611d",
        "colab": {
          "base_uri": "https://localhost:8080/"
        },
        "outputId": "3f5400e2-e2e2-4779-d5b1-57b87ad01979"
      },
      "outputs": [
        {
          "output_type": "stream",
          "name": "stdout",
          "text": [
            "1\n",
            "10\n",
            "1\n",
            "2\n",
            "3\n",
            "5\n",
            "7\n"
          ]
        }
      ],
      "source": [
        "number1=int(input())\n",
        "number2=int(input())\n",
        "for i in range(number1,number2+1):\n",
        "  for j in range(2,i):\n",
        "    if i%j==0:\n",
        "      break\n",
        "  else:\n",
        "    print(i)"
      ]
    },
    {
      "cell_type": "markdown",
      "id": "5cd434ea",
      "metadata": {
        "id": "5cd434ea"
      },
      "source": [
        "16. Write a Python program to find the factorial of a number."
      ]
    },
    {
      "cell_type": "code",
      "execution_count": null,
      "id": "78fdb1c2",
      "metadata": {
        "id": "78fdb1c2",
        "colab": {
          "base_uri": "https://localhost:8080/"
        },
        "outputId": "337ac4ee-e897-4738-d7b7-3468e6f2dcaa"
      },
      "outputs": [
        {
          "output_type": "stream",
          "name": "stdout",
          "text": [
            "10\n",
            "3628800\n"
          ]
        }
      ],
      "source": [
        "import math\n",
        "number=int(input())\n",
        "print(math.factorial(number))"
      ]
    },
    {
      "cell_type": "code",
      "source": [
        "n=int(input())\n",
        "factorial=1\n",
        "for i in range(1,n+1):\n",
        "  factorial*=i\n",
        "print(factorial)\n"
      ],
      "metadata": {
        "colab": {
          "base_uri": "https://localhost:8080/"
        },
        "id": "2jhIl-Ez_u4V",
        "outputId": "63bf0491-78eb-4401-936d-cc6c78b7ba15"
      },
      "id": "2jhIl-Ez_u4V",
      "execution_count": null,
      "outputs": [
        {
          "output_type": "stream",
          "name": "stdout",
          "text": [
            "10\n",
            "3628800\n"
          ]
        }
      ]
    },
    {
      "cell_type": "markdown",
      "id": "2adb819c",
      "metadata": {
        "id": "2adb819c"
      },
      "source": [
        "17. Write a Python program to display the multiplication table."
      ]
    },
    {
      "cell_type": "code",
      "execution_count": null,
      "id": "86f3c8f2",
      "metadata": {
        "id": "86f3c8f2",
        "colab": {
          "base_uri": "https://localhost:8080/"
        },
        "outputId": "7fc21eca-2244-429d-c3f3-f83bd1f12894"
      },
      "outputs": [
        {
          "output_type": "stream",
          "name": "stdout",
          "text": [
            "20\n",
            "20 * 1 = 20\n",
            "20 * 2 = 40\n",
            "20 * 3 = 60\n",
            "20 * 4 = 80\n",
            "20 * 5 = 100\n",
            "20 * 6 = 120\n",
            "20 * 7 = 140\n",
            "20 * 8 = 160\n",
            "20 * 9 = 180\n",
            "20 * 10 = 200\n"
          ]
        }
      ],
      "source": [
        "number=int(input())\n",
        "for i in range(1,11):\n",
        "  print(number,'*',i,'=',number*i)"
      ]
    },
    {
      "cell_type": "markdown",
      "id": "00b1803e",
      "metadata": {
        "id": "00b1803e"
      },
      "source": [
        "18. Write a Python program to print the Fibonacci sequence."
      ]
    },
    {
      "cell_type": "code",
      "execution_count": null,
      "id": "0985ca23",
      "metadata": {
        "id": "0985ca23",
        "colab": {
          "base_uri": "https://localhost:8080/"
        },
        "outputId": "ae45c36d-64d6-427f-b87e-0247b45631f3"
      },
      "outputs": [
        {
          "output_type": "stream",
          "name": "stdout",
          "text": [
            "10\n",
            "0\n",
            "1\n",
            "1\n",
            "2\n",
            "3\n",
            "5\n",
            "8\n",
            "13\n",
            "21\n",
            "34\n"
          ]
        }
      ],
      "source": [
        "number=int(input())\n",
        "a=0\n",
        "b=1\n",
        "print(a)\n",
        "print(b)\n",
        "for i in range(2,number):\n",
        "  c=a+b\n",
        "  a=b\n",
        "  b=c\n",
        "  print(c)"
      ]
    },
    {
      "cell_type": "markdown",
      "id": "189ea50f",
      "metadata": {
        "id": "189ea50f"
      },
      "source": [
        "19. Write a Python program to check Armstrong number."
      ]
    },
    {
      "cell_type": "code",
      "execution_count": null,
      "id": "31314453",
      "metadata": {
        "id": "31314453",
        "colab": {
          "base_uri": "https://localhost:8080/"
        },
        "outputId": "8c534537-9451-4f08-a456-6307483f9107"
      },
      "outputs": [
        {
          "output_type": "stream",
          "name": "stdout",
          "text": [
            "153\n",
            "armstrong number 153\n"
          ]
        }
      ],
      "source": [
        "number=int(input())\n",
        "sum=0\n",
        "temp=number\n",
        "while temp>0:\n",
        "  digit=temp%10\n",
        "  sum+=digit**3\n",
        "  temp//=10\n",
        "if number==sum:\n",
        "  print('armstrong number',sum)\n",
        "else:\n",
        "  print('not an armstrong number',sum)"
      ]
    },
    {
      "cell_type": "code",
      "source": [
        "n=input()\n",
        "sum=0\n",
        "for i in n:\n",
        "  sum+=int(i)**3\n",
        "if sum==int(n):\n",
        "  print('armstrong number',sum)\n",
        "else:\n",
        "  print('not an arm stong number',sum)\n"
      ],
      "metadata": {
        "id": "SZA5RNAeBud7",
        "outputId": "bb8783f1-f1d5-47cd-d7e3-0e5e70e5ccec",
        "colab": {
          "base_uri": "https://localhost:8080/"
        }
      },
      "id": "SZA5RNAeBud7",
      "execution_count": null,
      "outputs": [
        {
          "output_type": "stream",
          "name": "stdout",
          "text": [
            "153\n",
            "armstrong number 153\n"
          ]
        }
      ]
    },
    {
      "cell_type": "markdown",
      "id": "aaa5e50e",
      "metadata": {
        "id": "aaa5e50e"
      },
      "source": [
        "20. Write a Python program to find the sum of natural numbers."
      ]
    },
    {
      "cell_type": "code",
      "execution_count": null,
      "id": "3e8dfe88",
      "metadata": {
        "id": "3e8dfe88",
        "colab": {
          "base_uri": "https://localhost:8080/"
        },
        "outputId": "16799b17-cd35-4ed3-d286-00303e6d737f"
      },
      "outputs": [
        {
          "output_type": "stream",
          "name": "stdout",
          "text": [
            "10\n",
            "55\n"
          ]
        }
      ],
      "source": [
        "number=int(input())\n",
        "sum=0\n",
        "for i in range(1,number+1):\n",
        "  sum+=i\n",
        "print(sum)"
      ]
    },
    {
      "cell_type": "markdown",
      "id": "40765ef8",
      "metadata": {
        "id": "40765ef8"
      },
      "source": [
        "21. Write a Python program to find the factors of a number."
      ]
    },
    {
      "cell_type": "code",
      "execution_count": null,
      "id": "c47e05a4",
      "metadata": {
        "id": "c47e05a4",
        "colab": {
          "base_uri": "https://localhost:8080/"
        },
        "outputId": "48ecde3b-93e2-4016-8dea-2ed7adb47a7f"
      },
      "outputs": [
        {
          "output_type": "stream",
          "name": "stdout",
          "text": [
            "Enter a number: 12\n",
            "The factors of 12 are:\n",
            "1\n",
            "2\n",
            "3\n",
            "4\n",
            "6\n",
            "12\n"
          ]
        }
      ],
      "source": [
        "num = int(input(\"Enter a number: \"))\n",
        "print(\"The factors of\", num, \"are:\")\n",
        "for i in range(1, num + 1):\n",
        "    if num % i == 0:\n",
        "        print(i)"
      ]
    },
    {
      "cell_type": "markdown",
      "id": "aeeb0164",
      "metadata": {
        "id": "aeeb0164"
      },
      "source": [
        "22. Write a Python program to convert decimal to binary, octal, and hexadecimal."
      ]
    },
    {
      "cell_type": "code",
      "execution_count": null,
      "id": "e9886bee",
      "metadata": {
        "id": "e9886bee",
        "colab": {
          "base_uri": "https://localhost:8080/"
        },
        "outputId": "21c41ca4-f5fb-4aed-b094-9c02abba344b"
      },
      "outputs": [
        {
          "output_type": "stream",
          "name": "stdout",
          "text": [
            "1235\n",
            "0b10011010011\n",
            "0o2323\n",
            "0x4d3\n"
          ]
        }
      ],
      "source": [
        "number=int(input())\n",
        "print(bin(number))\n",
        "print(oct(number))\n",
        "print(hex(number))"
      ]
    },
    {
      "cell_type": "markdown",
      "id": "3c87a213",
      "metadata": {
        "id": "3c87a213"
      },
      "source": [
        "23. Write a Python program to find ASCII value of a character."
      ]
    },
    {
      "cell_type": "code",
      "execution_count": null,
      "id": "14f60824",
      "metadata": {
        "id": "14f60824",
        "colab": {
          "base_uri": "https://localhost:8080/"
        },
        "outputId": "21f251b8-9c49-4dfe-aed9-bdc8426f6255"
      },
      "outputs": [
        {
          "output_type": "stream",
          "name": "stdout",
          "text": [
            "k\n",
            "107\n"
          ]
        }
      ],
      "source": [
        "character=input()\n",
        "print(ord(character))"
      ]
    },
    {
      "cell_type": "markdown",
      "id": "892d77a4",
      "metadata": {
        "id": "892d77a4"
      },
      "source": [
        "24. Write a Python program to find HCF or GCD."
      ]
    },
    {
      "cell_type": "code",
      "execution_count": null,
      "id": "5c2e3c92",
      "metadata": {
        "id": "5c2e3c92",
        "colab": {
          "base_uri": "https://localhost:8080/"
        },
        "outputId": "a592026e-6c2d-402a-d676-d246527d019a"
      },
      "outputs": [
        {
          "output_type": "stream",
          "name": "stdout",
          "text": [
            "12\n",
            "28\n",
            "4\n"
          ]
        }
      ],
      "source": [
        "num1=int(input())\n",
        "num2=int(input())\n",
        "if num1>num2:\n",
        "  smaller=num2\n",
        "else:\n",
        "  smaller=num1\n",
        "for i in range(1,smaller+1):\n",
        "  if num1%i==0 and num2%i==0:\n",
        "    hcf=i\n",
        "print(hcf)\n"
      ]
    },
    {
      "cell_type": "markdown",
      "id": "45e7c7ec",
      "metadata": {
        "id": "45e7c7ec"
      },
      "source": [
        "25. Write a Python program to find LCM."
      ]
    },
    {
      "cell_type": "code",
      "execution_count": null,
      "id": "4272f7a6",
      "metadata": {
        "id": "4272f7a6",
        "colab": {
          "base_uri": "https://localhost:8080/"
        },
        "outputId": "9478e407-7d69-4b34-e4cc-fbfad46abe71"
      },
      "outputs": [
        {
          "output_type": "stream",
          "name": "stdout",
          "text": [
            "2\n",
            "10\n",
            "10\n"
          ]
        }
      ],
      "source": [
        "num1=int(input())\n",
        "num2=int(input())\n",
        "if num1>num2:\n",
        "  greater=num1\n",
        "else:\n",
        "  greater=num2\n",
        "while True:\n",
        "  if greater%num1==0 and greater%num2==0:\n",
        "    lcm=greater\n",
        "    break\n",
        "  greater+=1\n",
        "print(lcm)"
      ]
    },
    {
      "cell_type": "markdown",
      "id": "d1ca75c0",
      "metadata": {
        "id": "d1ca75c0"
      },
      "source": [
        "26. Write a Python program to count the number of each vowel."
      ]
    },
    {
      "cell_type": "code",
      "execution_count": null,
      "id": "14a94e61",
      "metadata": {
        "id": "14a94e61",
        "colab": {
          "base_uri": "https://localhost:8080/"
        },
        "outputId": "03b8c712-4ee2-462d-b537-7c193ad281e1"
      },
      "outputs": [
        {
          "output_type": "stream",
          "name": "stdout",
          "text": [
            "adithyavardhan\n",
            "5\n"
          ]
        }
      ],
      "source": [
        "s=input()\n",
        "vowels='aeiouAEIOU'\n",
        "count=0\n",
        "for i in s:\n",
        "  if i in vowels:\n",
        "    count+=1\n",
        "print(count)\n"
      ]
    },
    {
      "cell_type": "code",
      "source": [
        "s=input()\n",
        "vowels='aeiouAEIOU'\n",
        "count=0\n",
        "for i in vowels:\n",
        "  if i in s:\n",
        "    print(i,s.count(i))"
      ],
      "metadata": {
        "id": "1WQIFFeVELlJ",
        "outputId": "436c218d-330c-4933-e841-60ce62404812",
        "colab": {
          "base_uri": "https://localhost:8080/"
        }
      },
      "id": "1WQIFFeVELlJ",
      "execution_count": null,
      "outputs": [
        {
          "output_type": "stream",
          "name": "stdout",
          "text": [
            "Adithyavardhan\n",
            "a 3\n",
            "i 1\n",
            "A 1\n"
          ]
        }
      ]
    },
    {
      "cell_type": "markdown",
      "id": "16b5cc09",
      "metadata": {
        "id": "16b5cc09"
      },
      "source": [
        "27. Write a Python program to find the sum of digits of a number."
      ]
    },
    {
      "cell_type": "code",
      "execution_count": null,
      "id": "791b2365",
      "metadata": {
        "id": "791b2365",
        "colab": {
          "base_uri": "https://localhost:8080/"
        },
        "outputId": "52da5c0f-1735-4b9b-b522-d9cd9d3f3044"
      },
      "outputs": [
        {
          "output_type": "stream",
          "name": "stdout",
          "text": [
            "123456789\n",
            "45\n"
          ]
        }
      ],
      "source": [
        "n=input()\n",
        "sum=0\n",
        "for i in n:\n",
        "  sum+=int(i)\n",
        "print(sum)"
      ]
    },
    {
      "cell_type": "markdown",
      "id": "848a05ed",
      "metadata": {
        "id": "848a05ed"
      },
      "source": [
        "28. Write a Python program to find the reverse of a number."
      ]
    },
    {
      "cell_type": "code",
      "execution_count": null,
      "id": "bb88ed2c",
      "metadata": {
        "id": "bb88ed2c",
        "colab": {
          "base_uri": "https://localhost:8080/"
        },
        "outputId": "fda748a1-c765-4395-dfe2-d33386264b3d"
      },
      "outputs": [
        {
          "output_type": "stream",
          "name": "stdout",
          "text": [
            "23456\n",
            "65432\n"
          ]
        }
      ],
      "source": [
        "n=input()\n",
        "print(int(n[::-1]))"
      ]
    },
    {
      "cell_type": "markdown",
      "id": "33b01807",
      "metadata": {
        "id": "33b01807"
      },
      "source": [
        "29. Write a Python program to check if a number is palindrome or not."
      ]
    },
    {
      "cell_type": "code",
      "execution_count": null,
      "id": "dbc7b695",
      "metadata": {
        "id": "dbc7b695",
        "colab": {
          "base_uri": "https://localhost:8080/"
        },
        "outputId": "8fe3c7d4-73d0-4adf-bf40-abd391cc6b10"
      },
      "outputs": [
        {
          "output_type": "stream",
          "name": "stdout",
          "text": [
            "121\n",
            "Palindrome\n"
          ]
        }
      ],
      "source": [
        "n=input()\n",
        "print('Palindrome' if n==n[::-1] else 'Not a Palindrome')\n"
      ]
    },
    {
      "cell_type": "markdown",
      "id": "eb1bc881",
      "metadata": {
        "id": "eb1bc881"
      },
      "source": [
        "30. Write a Python program to print Pascal’s triangle.\n",
        "\n",
        "---\n",
        "\n"
      ]
    },
    {
      "cell_type": "code",
      "execution_count": null,
      "id": "7a624c89",
      "metadata": {
        "id": "7a624c89",
        "outputId": "19589018-d5c4-401b-e180-dc6479f9eb30",
        "colab": {
          "base_uri": "https://localhost:8080/"
        }
      },
      "outputs": [
        {
          "output_type": "stream",
          "name": "stdout",
          "text": [
            "Enter the number of rows: 5\n",
            "1 1\n",
            "1 2 1\n",
            "1 3 3 1\n",
            "1 4 6 4 1\n",
            "1 5 10 10 5 1\n"
          ]
        }
      ],
      "source": [
        "def print_pascals_triangle(num_rows):\n",
        "\n",
        "  triangle = []\n",
        "  for i in range(num_rows):\n",
        "    row = [1]\n",
        "    if triangle:\n",
        "      last_row = triangle[-1]\n",
        "      for j in range(len(last_row) - 1):\n",
        "        row.append(last_row[j] + last_row[j + 1])\n",
        "    row.append(1)\n",
        "    triangle.append(row)\n",
        "\n",
        "\n",
        "  for row in triangle:\n",
        "    print(\" \".join(map(str, row)))\n",
        "\n",
        "num_rows = int(input(\"Enter the number of rows: \"))\n",
        "\n",
        "\n",
        "print_pascals_triangle(num_rows)"
      ]
    },
    {
      "cell_type": "markdown",
      "source": [
        "##Intermediate Coding Questions (31-60)"
      ],
      "metadata": {
        "id": "1wQiXVZaoV-9"
      },
      "id": "1wQiXVZaoV-9"
    },
    {
      "cell_type": "markdown",
      "id": "2071b16f",
      "metadata": {
        "id": "2071b16f"
      },
      "source": [
        "31. Write a Python program to sort a list in ascending order."
      ]
    },
    {
      "cell_type": "code",
      "execution_count": null,
      "id": "e0becc93",
      "metadata": {
        "id": "e0becc93",
        "colab": {
          "base_uri": "https://localhost:8080/"
        },
        "outputId": "f8cd65b2-c5bc-4b77-9b29-5933eb1de46d"
      },
      "outputs": [
        {
          "output_type": "stream",
          "name": "stdout",
          "text": [
            "[1, 2, 3, 4, 5, 6, 7, 8, 9]\n"
          ]
        }
      ],
      "source": [
        "list=[1,2,3,4,5,6,7,8,9]\n",
        "list.sort()\n",
        "print(list)"
      ]
    },
    {
      "cell_type": "code",
      "source": [
        "list=[1,2,3,4,5,6,7,8]\n",
        "print(sorted(list))"
      ],
      "metadata": {
        "id": "0v6_ChtXJpVM",
        "outputId": "4932b355-1fa1-4951-f8db-40b52ff91d03",
        "colab": {
          "base_uri": "https://localhost:8080/"
        }
      },
      "id": "0v6_ChtXJpVM",
      "execution_count": null,
      "outputs": [
        {
          "output_type": "stream",
          "name": "stdout",
          "text": [
            "[1, 2, 3, 4, 5, 6, 7, 8]\n"
          ]
        }
      ]
    },
    {
      "cell_type": "markdown",
      "id": "05f5ce04",
      "metadata": {
        "id": "05f5ce04"
      },
      "source": [
        "32. Write a Python program to sort a list in descending order."
      ]
    },
    {
      "cell_type": "code",
      "execution_count": null,
      "id": "3da284ea",
      "metadata": {
        "id": "3da284ea",
        "colab": {
          "base_uri": "https://localhost:8080/"
        },
        "outputId": "32cf15e8-fe5a-4071-db43-e98604b555a0"
      },
      "outputs": [
        {
          "output_type": "stream",
          "name": "stdout",
          "text": [
            "[9, 8, 7, 6, 5, 3, 2, 1, 0]\n"
          ]
        }
      ],
      "source": [
        "list=[1,2,3,0,5,6,7,8,9]\n",
        "list.sort(reverse=True)\n",
        "print(list)"
      ]
    },
    {
      "cell_type": "markdown",
      "id": "8fce7d72",
      "metadata": {
        "id": "8fce7d72"
      },
      "source": [
        "33. Write a Python program to remove duplicates from a list."
      ]
    },
    {
      "cell_type": "code",
      "execution_count": null,
      "id": "50c03983",
      "metadata": {
        "id": "50c03983",
        "colab": {
          "base_uri": "https://localhost:8080/"
        },
        "outputId": "8733752c-c816-4cbb-cab4-b7538bf6d919"
      },
      "outputs": [
        {
          "output_type": "stream",
          "name": "stdout",
          "text": [
            "[1, 2, 3, 4, 5]\n"
          ]
        }
      ],
      "source": [
        "def remove_duplicates(list):\n",
        "  new_list=[]\n",
        "  for i in list:\n",
        "    if i not in new_list:\n",
        "      new_list.append(i)\n",
        "  return new_list\n",
        "list=[1, 2, 2, 3, 4, 4, 5]\n",
        "print(remove_duplicates(list))"
      ]
    },
    {
      "cell_type": "markdown",
      "id": "278f619d",
      "metadata": {
        "id": "278f619d"
      },
      "source": [
        "34. Write a Python program to merge two lists."
      ]
    },
    {
      "cell_type": "code",
      "execution_count": null,
      "id": "7cd4ebd5",
      "metadata": {
        "id": "7cd4ebd5",
        "colab": {
          "base_uri": "https://localhost:8080/"
        },
        "outputId": "5dea5f1a-b993-47f7-e1c3-4564425afb37"
      },
      "outputs": [
        {
          "output_type": "stream",
          "name": "stdout",
          "text": [
            "[1, 2, 3, 4, 5, 6, 7, 8, 9, 10]\n"
          ]
        }
      ],
      "source": [
        "list1=[1,2,3,4,5]\n",
        "list2=[6,7,8,9,10]\n",
        "print(list1+list2)\n"
      ]
    },
    {
      "cell_type": "markdown",
      "id": "626557f9",
      "metadata": {
        "id": "626557f9"
      },
      "source": [
        "35. Write a Python program to find the second largest number in a list."
      ]
    },
    {
      "cell_type": "code",
      "execution_count": null,
      "id": "b6e8c5ce",
      "metadata": {
        "id": "b6e8c5ce",
        "colab": {
          "base_uri": "https://localhost:8080/"
        },
        "outputId": "04657559-4274-4f1d-f07a-4687dd86f723"
      },
      "outputs": [
        {
          "output_type": "stream",
          "name": "stdout",
          "text": [
            "8\n"
          ]
        }
      ],
      "source": [
        "list=[1,2,3,4,5,6,7,8,9]\n",
        "list.sort()\n",
        "print(list[-2])"
      ]
    },
    {
      "cell_type": "markdown",
      "id": "879eefd9",
      "metadata": {
        "id": "879eefd9"
      },
      "source": [
        "36. Write a Python program to find the second smallest number in a list."
      ]
    },
    {
      "cell_type": "code",
      "execution_count": null,
      "id": "5ebf0dcd",
      "metadata": {
        "id": "5ebf0dcd",
        "colab": {
          "base_uri": "https://localhost:8080/"
        },
        "outputId": "9eae5e04-8fd2-474a-c6a0-8bfc122067e7"
      },
      "outputs": [
        {
          "output_type": "stream",
          "name": "stdout",
          "text": [
            "2\n"
          ]
        }
      ],
      "source": [
        "list=[1,2,3,4,5,6,7,8,9]\n",
        "list.sort()\n",
        "print(list[1])"
      ]
    },
    {
      "cell_type": "markdown",
      "id": "20e865f2",
      "metadata": {
        "id": "20e865f2"
      },
      "source": [
        "37. Write a Python program to find the sum of elements in a list."
      ]
    },
    {
      "cell_type": "code",
      "execution_count": null,
      "id": "5ffe9813",
      "metadata": {
        "id": "5ffe9813",
        "colab": {
          "base_uri": "https://localhost:8080/"
        },
        "outputId": "07ac0cb8-77ad-4576-8274-0ec6e18024bb"
      },
      "outputs": [
        {
          "output_type": "stream",
          "name": "stdout",
          "text": [
            "45\n"
          ]
        }
      ],
      "source": [
        "list=[1,2,3,4,5,6,7,8,9]\n",
        "print(sum(list))"
      ]
    },
    {
      "cell_type": "markdown",
      "id": "2a7fb75a",
      "metadata": {
        "id": "2a7fb75a"
      },
      "source": [
        "38. Write a Python program to find the product of elements in a list."
      ]
    },
    {
      "cell_type": "code",
      "execution_count": null,
      "id": "92ee7fcb",
      "metadata": {
        "id": "92ee7fcb",
        "colab": {
          "base_uri": "https://localhost:8080/"
        },
        "outputId": "ec825408-3dad-44f6-963d-57a0a2a00e98"
      },
      "outputs": [
        {
          "output_type": "stream",
          "name": "stdout",
          "text": [
            "362880\n"
          ]
        }
      ],
      "source": [
        "list=[1,2,3,4,5,6,7,8,9]\n",
        "product=1\n",
        "for i in list:\n",
        "  product*=i\n",
        "print(product)"
      ]
    },
    {
      "cell_type": "markdown",
      "id": "65e48be7",
      "metadata": {
        "id": "65e48be7"
      },
      "source": [
        "39. Write a Python program to find the intersection of two lists."
      ]
    },
    {
      "cell_type": "code",
      "execution_count": null,
      "id": "17c26d77",
      "metadata": {
        "id": "17c26d77",
        "colab": {
          "base_uri": "https://localhost:8080/"
        },
        "outputId": "e3cace66-d1ff-4dc1-a0bc-e9234bd1186b"
      },
      "outputs": [
        {
          "output_type": "stream",
          "name": "stdout",
          "text": [
            "{4, 5}\n"
          ]
        }
      ],
      "source": [
        "list1=[1,2,3,4,5]\n",
        "list2=[4,5,6,7,8]\n",
        "print(set(list1).intersection(list2))"
      ]
    },
    {
      "cell_type": "code",
      "source": [
        "list=[1,2,3,4,5]\n",
        "list2=[4,5,6,7,8]\n",
        "for i in list:\n",
        "  if i in list2:\n",
        "    print(i)"
      ],
      "metadata": {
        "colab": {
          "base_uri": "https://localhost:8080/"
        },
        "id": "eZqjyOe_Q6iw",
        "outputId": "5bb1e62e-bda3-45fb-d8b5-34dd7268c65b"
      },
      "id": "eZqjyOe_Q6iw",
      "execution_count": null,
      "outputs": [
        {
          "output_type": "stream",
          "name": "stdout",
          "text": [
            "4\n",
            "5\n"
          ]
        }
      ]
    },
    {
      "cell_type": "markdown",
      "id": "430447a5",
      "metadata": {
        "id": "430447a5"
      },
      "source": [
        "40. Write a Python program to find the union of two lists."
      ]
    },
    {
      "cell_type": "code",
      "execution_count": null,
      "id": "3e11cb6a",
      "metadata": {
        "id": "3e11cb6a",
        "colab": {
          "base_uri": "https://localhost:8080/"
        },
        "outputId": "bcb276b4-d34b-4659-89ac-dd26e7b71ce8"
      },
      "outputs": [
        {
          "output_type": "stream",
          "name": "stdout",
          "text": [
            "{1, 2, 3, 4, 5, 6, 7, 8}\n"
          ]
        }
      ],
      "source": [
        "list=[1,2,3,4,5]\n",
        "list2=[4,5,6,7,8]\n",
        "print(set(list).union(list2))"
      ]
    },
    {
      "cell_type": "code",
      "source": [
        "list=[1,2,3,4,5]\n",
        "list2=[4,5,6,7,8]\n",
        "for i in list:\n",
        "  if i not in list2:\n",
        "    list2.append(i)\n",
        "print(list2)\n"
      ],
      "metadata": {
        "colab": {
          "base_uri": "https://localhost:8080/"
        },
        "id": "8Cw1QEGAREKl",
        "outputId": "bc4ac6f9-60d6-485f-c9ab-090d2f2d5823"
      },
      "id": "8Cw1QEGAREKl",
      "execution_count": null,
      "outputs": [
        {
          "output_type": "stream",
          "name": "stdout",
          "text": [
            "[4, 5, 6, 7, 8, 1, 2, 3]\n"
          ]
        }
      ]
    },
    {
      "cell_type": "markdown",
      "id": "fd104f89",
      "metadata": {
        "id": "fd104f89"
      },
      "source": [
        "41. Write a Python program to find the difference of two lists."
      ]
    },
    {
      "cell_type": "code",
      "execution_count": null,
      "id": "10ce275c",
      "metadata": {
        "id": "10ce275c",
        "colab": {
          "base_uri": "https://localhost:8080/"
        },
        "outputId": "0462a390-b136-4e32-d6dc-1177e4f08fda"
      },
      "outputs": [
        {
          "output_type": "stream",
          "name": "stdout",
          "text": [
            "{1, 2, 3}\n"
          ]
        }
      ],
      "source": [
        "list=[1,2,3,4,5]\n",
        "list2=[4,5,6,7,8]\n",
        "print(set(list).difference(list2))"
      ]
    },
    {
      "cell_type": "code",
      "source": [
        "list=[1,2,3,4,5]\n",
        "list2=[4,5,6,7,8]\n",
        "for i in list:\n",
        "  if i not in list2:\n",
        "    print(i)"
      ],
      "metadata": {
        "colab": {
          "base_uri": "https://localhost:8080/"
        },
        "id": "r61tD6SLRKnE",
        "outputId": "38928532-c519-4e42-bc17-637d51fb4534"
      },
      "id": "r61tD6SLRKnE",
      "execution_count": null,
      "outputs": [
        {
          "output_type": "stream",
          "name": "stdout",
          "text": [
            "1\n",
            "2\n",
            "3\n"
          ]
        }
      ]
    },
    {
      "cell_type": "markdown",
      "id": "cc4a2ccc",
      "metadata": {
        "id": "cc4a2ccc"
      },
      "source": [
        "42. Write a Python program to find the symmetric difference of two lists."
      ]
    },
    {
      "cell_type": "code",
      "execution_count": null,
      "id": "599bf1d6",
      "metadata": {
        "id": "599bf1d6",
        "colab": {
          "base_uri": "https://localhost:8080/"
        },
        "outputId": "6e3b0182-1e4a-4de4-e817-6721fdd3c701"
      },
      "outputs": [
        {
          "output_type": "stream",
          "name": "stdout",
          "text": [
            "{1, 2, 3, 6, 7, 8}\n"
          ]
        }
      ],
      "source": [
        "list1=[1,2,3,4,5]\n",
        "list2=[4,5,6,7,8]\n",
        "print(set(list1).symmetric_difference(list2))\n"
      ]
    },
    {
      "cell_type": "code",
      "source": [
        "list1=[1,2,3,4,5]\n",
        "list2=[4,5,6,7,8]\n",
        "for i in list1:\n",
        "  if i not in list2:\n",
        "    print(i)"
      ],
      "metadata": {
        "colab": {
          "base_uri": "https://localhost:8080/"
        },
        "id": "kECFJftgRVHn",
        "outputId": "fd725b7a-6bad-44bc-9d06-7b6578f3c71f"
      },
      "id": "kECFJftgRVHn",
      "execution_count": null,
      "outputs": [
        {
          "output_type": "stream",
          "name": "stdout",
          "text": [
            "1\n",
            "2\n",
            "3\n"
          ]
        }
      ]
    },
    {
      "cell_type": "markdown",
      "id": "65f2bf9b",
      "metadata": {
        "id": "65f2bf9b"
      },
      "source": [
        "43. Write a Python program to find the index of an element in a list."
      ]
    },
    {
      "cell_type": "code",
      "execution_count": null,
      "id": "9bc39374",
      "metadata": {
        "id": "9bc39374",
        "colab": {
          "base_uri": "https://localhost:8080/"
        },
        "outputId": "1961a8dd-9856-4f52-c523-cfcd232e3d94"
      },
      "outputs": [
        {
          "output_type": "stream",
          "name": "stdout",
          "text": [
            "5\n",
            "4\n"
          ]
        }
      ],
      "source": [
        "list=[1,2,3,4,5]\n",
        "element=int(input())\n",
        "print(list.index(element))"
      ]
    },
    {
      "cell_type": "code",
      "source": [
        "list=[1,2,3,4,5]\n",
        "element=int(input())\n",
        "for i in range(len(list)):\n",
        "  if list[i]==element:\n",
        "    print(i)"
      ],
      "metadata": {
        "colab": {
          "base_uri": "https://localhost:8080/"
        },
        "id": "uDzGDdZ1SJ2-",
        "outputId": "5f466f05-2184-4acb-9f03-d1eea82ceeeb"
      },
      "id": "uDzGDdZ1SJ2-",
      "execution_count": null,
      "outputs": [
        {
          "output_type": "stream",
          "name": "stdout",
          "text": [
            "3\n",
            "2\n"
          ]
        }
      ]
    },
    {
      "cell_type": "markdown",
      "id": "b665186c",
      "metadata": {
        "id": "b665186c"
      },
      "source": [
        "44. Write a Python program to find the frequency of each element in a list."
      ]
    },
    {
      "cell_type": "code",
      "execution_count": null,
      "id": "e51669b1",
      "metadata": {
        "id": "e51669b1",
        "colab": {
          "base_uri": "https://localhost:8080/"
        },
        "outputId": "3b69eba0-67fa-4d38-a816-c646a9e12aa5"
      },
      "outputs": [
        {
          "output_type": "stream",
          "name": "stdout",
          "text": [
            "1 2\n",
            "2 2\n",
            "3 2\n",
            "4 2\n",
            "5 2\n",
            "6 1\n",
            "7 1\n",
            "8 1\n",
            "9 1\n",
            "1 2\n",
            "2 2\n",
            "3 2\n",
            "4 2\n",
            "5 2\n"
          ]
        }
      ],
      "source": [
        "list=[1,2,3,4,5,6,7,8,9,1,2,3,4,5]\n",
        "for i in list:\n",
        "  print(i,list.count(i))"
      ]
    },
    {
      "cell_type": "code",
      "source": [
        "list=[1,2,3,4,5,6,7,8,9,1,2,3,4,5]\n",
        "\n",
        "for i in list:\n",
        "  count=0\n",
        "  for j in list:\n",
        "    if i==j:\n",
        "      count+=1\n",
        "  print(i,count)"
      ],
      "metadata": {
        "colab": {
          "base_uri": "https://localhost:8080/"
        },
        "id": "xEsyqA7_SdHo",
        "outputId": "f55bd449-1e6e-4041-d3eb-9be20d62e8f7"
      },
      "id": "xEsyqA7_SdHo",
      "execution_count": null,
      "outputs": [
        {
          "output_type": "stream",
          "name": "stdout",
          "text": [
            "1 2\n",
            "2 2\n",
            "3 2\n",
            "4 2\n",
            "5 2\n",
            "6 1\n",
            "7 1\n",
            "8 1\n",
            "9 1\n",
            "1 2\n",
            "2 2\n",
            "3 2\n",
            "4 2\n",
            "5 2\n"
          ]
        }
      ]
    },
    {
      "cell_type": "code",
      "source": [
        "list=[1,2,3,4,5,6,7,8,9,1,2,3,4,5]\n",
        "for i in set(list):\n",
        "  print(i,list.count(i))"
      ],
      "metadata": {
        "colab": {
          "base_uri": "https://localhost:8080/"
        },
        "id": "kwyUJ5LiSkIR",
        "outputId": "e6165101-7063-4985-f487-c6ea5fcee001"
      },
      "id": "kwyUJ5LiSkIR",
      "execution_count": null,
      "outputs": [
        {
          "output_type": "stream",
          "name": "stdout",
          "text": [
            "1 2\n",
            "2 2\n",
            "3 2\n",
            "4 2\n",
            "5 2\n",
            "6 1\n",
            "7 1\n",
            "8 1\n",
            "9 1\n"
          ]
        }
      ]
    },
    {
      "cell_type": "markdown",
      "id": "8228f50c",
      "metadata": {
        "id": "8228f50c"
      },
      "source": [
        "45. Write a Python program to check if a list is empty or not."
      ]
    },
    {
      "cell_type": "code",
      "execution_count": null,
      "id": "c786a118",
      "metadata": {
        "id": "c786a118",
        "colab": {
          "base_uri": "https://localhost:8080/"
        },
        "outputId": "580975b6-948d-450a-fc6d-691a53b215c8"
      },
      "outputs": [
        {
          "output_type": "stream",
          "name": "stdout",
          "text": [
            "empty\n"
          ]
        }
      ],
      "source": [
        "list=[]\n",
        "if len(list)==0:\n",
        "  print('empty')\n",
        "else:\n",
        "  print('not empty')"
      ]
    },
    {
      "cell_type": "code",
      "source": [
        "list=[1,2,3,4,5]\n",
        "if list:\n",
        "  print('not empty')\n",
        "else:\n",
        "  print('empty')"
      ],
      "metadata": {
        "colab": {
          "base_uri": "https://localhost:8080/"
        },
        "id": "NNXn1tFSS_ie",
        "outputId": "6e58fda7-f13b-4872-ce16-999575a1c1b4"
      },
      "id": "NNXn1tFSS_ie",
      "execution_count": null,
      "outputs": [
        {
          "output_type": "stream",
          "name": "stdout",
          "text": [
            "not empty\n"
          ]
        }
      ]
    },
    {
      "cell_type": "markdown",
      "id": "0cd6004d",
      "metadata": {
        "id": "0cd6004d"
      },
      "source": [
        "46. Write a Python program to flatten a nested list."
      ]
    },
    {
      "cell_type": "code",
      "execution_count": null,
      "id": "8f75d3a5",
      "metadata": {
        "id": "8f75d3a5",
        "colab": {
          "base_uri": "https://localhost:8080/"
        },
        "outputId": "a2c478dd-8b08-47d6-c173-3c81f18f0ddb"
      },
      "outputs": [
        {
          "output_type": "stream",
          "name": "stdout",
          "text": [
            "[1, 2, 3, 4, 5, 6, 7, 8, 9]\n"
          ]
        }
      ],
      "source": [
        "list=[[1,2,3],[4,5,6],[7,8,9]]\n",
        "new_list=[]\n",
        "for i in list:\n",
        "  for j in i:\n",
        "    new_list.append(j)\n",
        "print(new_list)"
      ]
    },
    {
      "cell_type": "markdown",
      "id": "dae03af9",
      "metadata": {
        "id": "dae03af9"
      },
      "source": [
        "47. Write a Python program to find the length of a list."
      ]
    },
    {
      "cell_type": "code",
      "execution_count": null,
      "id": "885e7120",
      "metadata": {
        "id": "885e7120",
        "colab": {
          "base_uri": "https://localhost:8080/"
        },
        "outputId": "9723893f-6835-41a4-eafa-32e2a88892bf"
      },
      "outputs": [
        {
          "output_type": "stream",
          "name": "stdout",
          "text": [
            "9\n"
          ]
        }
      ],
      "source": [
        "list=[1,2,3,4,5,6,7,8,9]\n",
        "print(len(list))"
      ]
    },
    {
      "cell_type": "markdown",
      "id": "03cc8634",
      "metadata": {
        "id": "03cc8634"
      },
      "source": [
        "48. Write a Python program to find the maximum and minimum element in a list."
      ]
    },
    {
      "cell_type": "code",
      "execution_count": null,
      "id": "5175b84c",
      "metadata": {
        "id": "5175b84c",
        "colab": {
          "base_uri": "https://localhost:8080/"
        },
        "outputId": "be85dba2-638c-4265-c08d-ec9adddf49da"
      },
      "outputs": [
        {
          "output_type": "stream",
          "name": "stdout",
          "text": [
            "9\n",
            "1\n"
          ]
        }
      ],
      "source": [
        "list=[1,2,3,4,5,6,7,8,9]\n",
        "print(max(list))\n",
        "print(min(list))"
      ]
    },
    {
      "cell_type": "markdown",
      "id": "6bb7374a",
      "metadata": {
        "id": "6bb7374a"
      },
      "source": [
        "49. Write a Python program to find the cumulative sum of a list."
      ]
    },
    {
      "cell_type": "code",
      "execution_count": null,
      "id": "2f6ad36e",
      "metadata": {
        "id": "2f6ad36e",
        "colab": {
          "base_uri": "https://localhost:8080/"
        },
        "outputId": "d12098c4-5d96-4704-9c08-31547fb58593"
      },
      "outputs": [
        {
          "output_type": "stream",
          "name": "stdout",
          "text": [
            "[1, 3, 6, 10, 15, 21, 28, 36, 45]\n"
          ]
        }
      ],
      "source": [
        "list=[1,2,3,4,5,6,7,8,9]\n",
        "new_list=[]\n",
        "sum=0\n",
        "for i in list:\n",
        "  sum+=i\n",
        "  new_list.append(sum)\n",
        "print(new_list)"
      ]
    },
    {
      "cell_type": "markdown",
      "id": "222b6a8a",
      "metadata": {
        "id": "222b6a8a"
      },
      "source": [
        "50. Write a Python program to create a matrix using nested lists."
      ]
    },
    {
      "cell_type": "code",
      "execution_count": null,
      "id": "b53de014",
      "metadata": {
        "id": "b53de014",
        "colab": {
          "base_uri": "https://localhost:8080/"
        },
        "outputId": "442a8d4a-92a5-4a62-94c5-efdc731e64ce"
      },
      "outputs": [
        {
          "output_type": "stream",
          "name": "stdout",
          "text": [
            "[[1, 2, 3], [4, 5, 6], [7, 8, 9]]\n"
          ]
        }
      ],
      "source": [
        "list=[[1,2,3],[4,5,6],[7,8,9]]\n",
        "print(list)"
      ]
    },
    {
      "cell_type": "code",
      "source": [
        "list=[[1,2,3],[4,5,6],[7,8,9]]\n",
        "for i in list:\n",
        "  print(i)"
      ],
      "metadata": {
        "colab": {
          "base_uri": "https://localhost:8080/"
        },
        "id": "-UeIb09pTbpd",
        "outputId": "3e8094b4-d767-4d30-b4ad-736b259e9009"
      },
      "id": "-UeIb09pTbpd",
      "execution_count": null,
      "outputs": [
        {
          "output_type": "stream",
          "name": "stdout",
          "text": [
            "[1, 2, 3]\n",
            "[4, 5, 6]\n",
            "[7, 8, 9]\n"
          ]
        }
      ]
    },
    {
      "cell_type": "markdown",
      "id": "e0657585",
      "metadata": {
        "id": "e0657585"
      },
      "source": [
        "51. Write a Python program to perform matrix addition."
      ]
    },
    {
      "cell_type": "code",
      "execution_count": null,
      "id": "964a1f8b",
      "metadata": {
        "id": "964a1f8b",
        "colab": {
          "base_uri": "https://localhost:8080/"
        },
        "outputId": "48c2ebdd-242d-450a-bc8b-a7ef50c8aff7"
      },
      "outputs": [
        {
          "output_type": "stream",
          "name": "stdout",
          "text": [
            "[[2, 4, 6], [8, 10, 12], [14, 16, 18]]\n"
          ]
        }
      ],
      "source": [
        "list=[[1,2,3],[4,5,6],[7,8,9]]\n",
        "list2=[[1,2,3],[4,5,6],[7,8,9]]\n",
        "new_list=[]\n",
        "for i in range(len(list)):\n",
        "  new_list.append([])\n",
        "  for j in range(len(list[i])):\n",
        "    new_list[i].append(list[i][j]+list2[i][j])\n",
        "print(new_list)"
      ]
    },
    {
      "cell_type": "code",
      "source": [
        "list1=[[1,2,3],[4,5,6],[7,8,9]]\n",
        "list2=[[1,2,3],[4,5,6],[7,8,9]]\n",
        "new_list=[]\n",
        "for i in range(len(list1)):\n",
        "  new_list.append([])\n",
        "  for j in range(len(list1[i])):\n",
        "    new_list[i].append(list1[i][j]+list2[i][j])\n",
        "for k in new_list:\n",
        "  print(k)\n"
      ],
      "metadata": {
        "colab": {
          "base_uri": "https://localhost:8080/"
        },
        "id": "BV4NMcLwUApG",
        "outputId": "96d13ece-fdcf-4243-950c-02d79ddf3aa3"
      },
      "id": "BV4NMcLwUApG",
      "execution_count": null,
      "outputs": [
        {
          "output_type": "stream",
          "name": "stdout",
          "text": [
            "[2, 4, 6]\n",
            "[8, 10, 12]\n",
            "[14, 16, 18]\n"
          ]
        }
      ]
    },
    {
      "cell_type": "markdown",
      "id": "d266a735",
      "metadata": {
        "id": "d266a735"
      },
      "source": [
        "52. Write a Python program to perform matrix subtraction."
      ]
    },
    {
      "cell_type": "code",
      "execution_count": null,
      "id": "efe84403",
      "metadata": {
        "id": "efe84403",
        "colab": {
          "base_uri": "https://localhost:8080/"
        },
        "outputId": "f0691833-07bb-4ca3-8ebf-02632d0d2186"
      },
      "outputs": [
        {
          "output_type": "stream",
          "name": "stdout",
          "text": [
            "[[0, 0, 0], [0, 0, 0], [0, 0, 0]]\n"
          ]
        }
      ],
      "source": [
        "list=[[1,2,3],[4,5,6],[7,8,9]]\n",
        "list2=[[1,2,3],[4,5,6],[7,8,9]]\n",
        "list3=[]\n",
        "for i in range(len(list)):\n",
        "  list3.append([])\n",
        "  for j in range(len(list[i])):\n",
        "    list3[i].append(list[i][j]-list2[i][j])\n",
        "print(list3)"
      ]
    },
    {
      "cell_type": "code",
      "source": [
        "list1=[[1,2,3],[4,5,6],[7,8,9]]\n",
        "list2=[[1,2,3],[4,5,6],[7,8,9]]\n",
        "list3=[]\n",
        "for i in range(len(list1)):\n",
        "  list3.append([])\n",
        "  for j in range(len(list1[i])):\n",
        "    list3[i].append(list1[i][j]-list2[i][j])\n",
        "for k in list3:\n",
        "    print(k)"
      ],
      "metadata": {
        "colab": {
          "base_uri": "https://localhost:8080/"
        },
        "id": "gmym69x8U6Co",
        "outputId": "36a9428f-c89c-4d0f-d13c-a1cbc3e70077"
      },
      "id": "gmym69x8U6Co",
      "execution_count": null,
      "outputs": [
        {
          "output_type": "stream",
          "name": "stdout",
          "text": [
            "[0, 0, 0]\n",
            "[0, 0, 0]\n",
            "[0, 0, 0]\n"
          ]
        }
      ]
    },
    {
      "cell_type": "markdown",
      "id": "b5b6a2d1",
      "metadata": {
        "id": "b5b6a2d1"
      },
      "source": [
        "53. Write a Python program to perform matrix multiplication."
      ]
    },
    {
      "cell_type": "code",
      "execution_count": null,
      "id": "8aca64f8",
      "metadata": {
        "id": "8aca64f8",
        "colab": {
          "base_uri": "https://localhost:8080/"
        },
        "outputId": "19aca943-9d15-4e0c-aa8a-68294945401d"
      },
      "outputs": [
        {
          "output_type": "stream",
          "name": "stdout",
          "text": [
            "[[1, 4, 9], [16, 25, 36], [49, 64, 81]]\n"
          ]
        }
      ],
      "source": [
        "list=[[1,2,3],[4,5,6],[7,8,9]]\n",
        "list2=[[1,2,3],[4,5,6],[7,8,9]]\n",
        "list3=[]\n",
        "for i in range(len(list)):\n",
        "  list3.append([])\n",
        "  for j in range(len(list[i])):\n",
        "    list3[i].append(list[i][j]*list2[i][j])\n",
        "print(list3)"
      ]
    },
    {
      "cell_type": "code",
      "source": [
        "list=[[1,2,3],[4,5,6],[7,8,9]]\n",
        "list2=[[1,2,3],[4,5,6],[7,8,9]]\n",
        "list3=[]\n",
        "for i in range(len(list)):\n",
        "  list3.append([])\n",
        "  for j in range(len(list[i])):\n",
        "    list3[i].append(list[i][j]*list2[i][j])\n",
        "for k in list3:\n",
        "  print(k)"
      ],
      "metadata": {
        "colab": {
          "base_uri": "https://localhost:8080/"
        },
        "id": "1vXyjDYSVUL2",
        "outputId": "07f0c0da-5126-4555-a5e8-17189e0b919c"
      },
      "id": "1vXyjDYSVUL2",
      "execution_count": null,
      "outputs": [
        {
          "output_type": "stream",
          "name": "stdout",
          "text": [
            "[1, 4, 9]\n",
            "[16, 25, 36]\n",
            "[49, 64, 81]\n"
          ]
        }
      ]
    },
    {
      "cell_type": "markdown",
      "id": "f2de0786",
      "metadata": {
        "id": "f2de0786"
      },
      "source": [
        "54. Write a Python program to find the transpose of a matrix."
      ]
    },
    {
      "cell_type": "code",
      "execution_count": null,
      "id": "91901b6a",
      "metadata": {
        "id": "91901b6a",
        "colab": {
          "base_uri": "https://localhost:8080/"
        },
        "outputId": "4f6a2883-8f69-4db7-a72d-ba2e2ad752c4"
      },
      "outputs": [
        {
          "output_type": "stream",
          "name": "stdout",
          "text": [
            "[[1, 4, 7], [2, 5, 8], [3, 6, 9]]\n"
          ]
        }
      ],
      "source": [
        "matrix=[[1,2,3],[4,5,6],[7,8,9]]\n",
        "transpose=[]\n",
        "for i in range(len(matrix[0])):\n",
        "  transpose.append([])\n",
        "  for j in range(len(matrix)):\n",
        "    transpose[i].append(matrix[j][i])\n",
        "print(transpose)"
      ]
    },
    {
      "cell_type": "code",
      "source": [
        "matrix=[[1,2,3],[4,5,6],[7,8,9]]\n",
        "transpose=[]\n",
        "for i in range(len(matrix[0])):\n",
        "  transpose.append([])\n",
        "  for j in range(len(matrix)):\n",
        "    transpose[i].append(matrix[j][i])\n",
        "for k in transpose:\n",
        "  print(k)"
      ],
      "metadata": {
        "colab": {
          "base_uri": "https://localhost:8080/"
        },
        "id": "Gs_saGrRVuPV",
        "outputId": "6ca6f4bc-e55b-4d7b-ffc7-e27a504d569b"
      },
      "id": "Gs_saGrRVuPV",
      "execution_count": null,
      "outputs": [
        {
          "output_type": "stream",
          "name": "stdout",
          "text": [
            "[1, 4, 7]\n",
            "[2, 5, 8]\n",
            "[3, 6, 9]\n"
          ]
        }
      ]
    },
    {
      "cell_type": "markdown",
      "id": "9d369bc4",
      "metadata": {
        "id": "9d369bc4"
      },
      "source": [
        "55. Write a Python program to find the inverse of a matrix."
      ]
    },
    {
      "cell_type": "code",
      "execution_count": null,
      "id": "9be41568",
      "metadata": {
        "id": "9be41568",
        "colab": {
          "base_uri": "https://localhost:8080/"
        },
        "outputId": "872d3d64-9bb2-4ebd-a15e-6be63cdee0dc"
      },
      "outputs": [
        {
          "output_type": "stream",
          "name": "stdout",
          "text": [
            "[1.0, 0.25, 0.14285714285714285]\n",
            "[0.5, 0.2, 0.125]\n",
            "[0.3333333333333333, 0.16666666666666666, 0.1111111111111111]\n"
          ]
        }
      ],
      "source": [
        "matrix=[[1,2,3],[4,5,6],[7,8,9]]\n",
        "inverse=[]\n",
        "for i in range(len(matrix[0])):\n",
        "  inverse.append([])\n",
        "  for j in range(len(matrix)):\n",
        "    inverse[i].append(1/matrix[j][i])\n",
        "for k in inverse:\n",
        "  print(k)"
      ]
    },
    {
      "cell_type": "markdown",
      "id": "071fef7e",
      "metadata": {
        "id": "071fef7e"
      },
      "source": [
        "56. Write a Python program to implement bubble sort algorithm."
      ]
    },
    {
      "cell_type": "code",
      "execution_count": null,
      "id": "ffa789c6",
      "metadata": {
        "id": "ffa789c6",
        "colab": {
          "base_uri": "https://localhost:8080/"
        },
        "outputId": "0f71ac02-1f9e-4e88-9143-354bdb2977e7"
      },
      "outputs": [
        {
          "output_type": "stream",
          "name": "stdout",
          "text": [
            "[1, 2, 3, 4, 6, 7, 8, 9, 10]\n"
          ]
        }
      ],
      "source": [
        "list=[1,2,3,10,4,6,7,8,9]\n",
        "for i in range(len(list)):\n",
        "  for j in range(len(list)-1):\n",
        "    if list[j]>list[j+1]:\n",
        "      list[j],list[j+1]=list[j+1],list[j]\n",
        "print(list)"
      ]
    },
    {
      "cell_type": "markdown",
      "id": "fce334e9",
      "metadata": {
        "id": "fce334e9"
      },
      "source": [
        "57. Write a Python program to implement insertion sort algorithm."
      ]
    },
    {
      "cell_type": "code",
      "execution_count": null,
      "id": "9663f58b",
      "metadata": {
        "id": "9663f58b",
        "colab": {
          "base_uri": "https://localhost:8080/"
        },
        "outputId": "322ba64b-d7a4-45a4-fa39-4c30f3e4e008"
      },
      "outputs": [
        {
          "output_type": "stream",
          "name": "stdout",
          "text": [
            "[1, 2, 3, 4, 6, 7, 8, 9, 10]\n"
          ]
        }
      ],
      "source": [
        "list=[1,2,3,10,4,6,7,8,9]\n",
        "for i in range(1,len(list)):\n",
        "  key=list[i]\n",
        "  j=i-1\n",
        "  while j>=0 and list[j]>key:\n",
        "    list[j+1]=list[j]\n",
        "    j-=1\n",
        "    list[j+1]=key\n",
        "print(list)"
      ]
    },
    {
      "cell_type": "markdown",
      "id": "03f36f18",
      "metadata": {
        "id": "03f36f18"
      },
      "source": [
        "58. Write a Python program to implement selection sort algorithm."
      ]
    },
    {
      "cell_type": "code",
      "execution_count": null,
      "id": "d47603b9",
      "metadata": {
        "id": "d47603b9",
        "colab": {
          "base_uri": "https://localhost:8080/"
        },
        "outputId": "aa5c4495-1cc7-4bef-dc82-395a7f7a2639"
      },
      "outputs": [
        {
          "output_type": "stream",
          "name": "stdout",
          "text": [
            "[1, 2, 3, 4, 6, 7, 8, 9, 10]\n"
          ]
        }
      ],
      "source": [
        "list=[1,2,3,10,4,6,7,8,9]\n",
        "for i in range(len(list)):\n",
        "  min_index=i\n",
        "  for j in range(i+1,len(list)):\n",
        "    if list[j]<list[min_index]:\n",
        "      min_index=j\n",
        "  list[i],list[min_index]=list[min_index],list[i]\n",
        "print(list)"
      ]
    },
    {
      "cell_type": "markdown",
      "id": "8a9be1f2",
      "metadata": {
        "id": "8a9be1f2"
      },
      "source": [
        "59. Write a Python program to implement merge sort algorithm."
      ]
    },
    {
      "cell_type": "code",
      "execution_count": null,
      "id": "5408e3ad",
      "metadata": {
        "id": "5408e3ad",
        "colab": {
          "base_uri": "https://localhost:8080/"
        },
        "outputId": "a463bef8-d996-405d-c38e-01e4aa5d93f6"
      },
      "outputs": [
        {
          "output_type": "stream",
          "name": "stdout",
          "text": [
            "[5, 6, 7, 11, 12, 13]\n"
          ]
        }
      ],
      "source": [
        "list = [12, 11, 13, 5, 6, 7]\n",
        "def merge_sort(arr):\n",
        "    if len(arr) > 1:\n",
        "        mid = len(arr) // 2\n",
        "        left_half = arr[:mid]\n",
        "        right_half = arr[mid:]\n",
        "        merge_sort(left_half)\n",
        "        merge_sort(right_half)\n",
        "        i = j = k = 0\n",
        "        while i < len(left_half) and j < len(right_half):\n",
        "            if left_half[i] < right_half[j]:\n",
        "                arr[k] = left_half[i]\n",
        "                i += 1\n",
        "            else:\n",
        "                arr[k] = right_half[j]\n",
        "                j += 1\n",
        "            k += 1\n",
        "        while i < len(left_half):\n",
        "            arr[k] = left_half[i]\n",
        "            i += 1\n",
        "            k += 1\n",
        "\n",
        "        while j < len(right_half):\n",
        "            arr[k] = right_half[j]\n",
        "            j += 1\n",
        "            k += 1\n",
        "merge_sort(list)\n",
        "print(list)"
      ]
    },
    {
      "cell_type": "markdown",
      "id": "49d25334",
      "metadata": {
        "id": "49d25334"
      },
      "source": [
        "60. Write a Python program to implement quick sort algorithm."
      ]
    },
    {
      "cell_type": "code",
      "execution_count": null,
      "id": "55ebea33",
      "metadata": {
        "id": "55ebea33",
        "colab": {
          "base_uri": "https://localhost:8080/"
        },
        "outputId": "c9ebff66-6b4a-4897-8c2a-3225f3927bc7"
      },
      "outputs": [
        {
          "output_type": "stream",
          "name": "stdout",
          "text": [
            "[1, 2, 3, 4, 6, 7, 8, 9, 10]\n"
          ]
        }
      ],
      "source": [
        "\n",
        "def quick_sort(arr):\n",
        "    if len(arr) <= 1:\n",
        "        return arr\n",
        "    pivot = arr[len(arr) // 2]\n",
        "    left = [x for x in arr if x < pivot]\n",
        "    middle = [x for x in arr if x == pivot]\n",
        "    right = [x for x in arr if x > pivot]\n",
        "    return quick_sort(left) + middle + quick_sort(right)\n",
        "arr=[1,2,3,10,4,6,7,8,9]\n",
        "print(quick_sort(arr))"
      ]
    },
    {
      "cell_type": "markdown",
      "source": [
        "##*Advanced* Coding Questions (61-100)"
      ],
      "metadata": {
        "id": "X_8f45JFo-4o"
      },
      "id": "X_8f45JFo-4o"
    },
    {
      "cell_type": "markdown",
      "id": "401c758d",
      "metadata": {
        "id": "401c758d"
      },
      "source": [
        "61. Write a Python program to implement linear search algorithm."
      ]
    },
    {
      "cell_type": "code",
      "execution_count": null,
      "id": "70eb96e2",
      "metadata": {
        "id": "70eb96e2",
        "colab": {
          "base_uri": "https://localhost:8080/"
        },
        "outputId": "a57387bd-5846-4220-92db-dbb161ab969b"
      },
      "outputs": [
        {
          "output_type": "stream",
          "name": "stdout",
          "text": [
            "4\n",
            "4\n"
          ]
        }
      ],
      "source": [
        "list=[1,2,3,10,4,6,7,8,9]\n",
        "element=int(input())\n",
        "for i in range(len(list)):\n",
        "  if list[i]==element:\n",
        "    print(i)\n"
      ]
    },
    {
      "cell_type": "code",
      "source": [
        "list=[1,2,3,10,4,6,7,8,9]\n",
        "element=int(input())\n",
        "for i in range(len(list)):\n",
        "  if list[i]==element:\n",
        "    print(i)\n",
        "    break\n"
      ],
      "metadata": {
        "colab": {
          "base_uri": "https://localhost:8080/"
        },
        "id": "0EIpq0SYYLPB",
        "outputId": "97c3fc05-bc18-408e-b4e7-6b3b83d6f699"
      },
      "id": "0EIpq0SYYLPB",
      "execution_count": null,
      "outputs": [
        {
          "output_type": "stream",
          "name": "stdout",
          "text": [
            "10\n",
            "3\n"
          ]
        }
      ]
    },
    {
      "cell_type": "markdown",
      "id": "9d72a96a",
      "metadata": {
        "id": "9d72a96a"
      },
      "source": [
        "62. Write a Python program to implement binary search algorithm."
      ]
    },
    {
      "cell_type": "code",
      "execution_count": null,
      "id": "d2959e6e",
      "metadata": {
        "id": "d2959e6e",
        "colab": {
          "base_uri": "https://localhost:8080/"
        },
        "outputId": "b9fbccc2-887a-43ff-8ffb-0c26e6789df4"
      },
      "outputs": [
        {
          "output_type": "stream",
          "name": "stdout",
          "text": [
            "Element is present at index 3\n"
          ]
        }
      ],
      "source": [
        "def binary_search(arr, x):\n",
        "    low = 0\n",
        "    high = len(arr) - 1\n",
        "    mid = 0\n",
        "\n",
        "    while low <= high:\n",
        "        mid = (high + low) // 2\n",
        "\n",
        "\n",
        "        if arr[mid] < x:\n",
        "            low = mid + 1\n",
        "\n",
        "\n",
        "        elif arr[mid] > x:\n",
        "            high = mid - 1\n",
        "\n",
        "\n",
        "        else:\n",
        "            return mid\n",
        "\n",
        "\n",
        "    return -1\n",
        "\n",
        "\n",
        "\n",
        "arr = [2, 3, 4, 10, 40]\n",
        "x = 10\n",
        "\n",
        "\n",
        "\n",
        "result = binary_search(arr, x)\n",
        "\n",
        "if result != -1:\n",
        "    print(\"Element is present at index\", str(result))\n",
        "else:\n",
        "    print(\"Element is not present in array\")"
      ]
    },
    {
      "cell_type": "markdown",
      "id": "1d7c81ad",
      "metadata": {
        "id": "1d7c81ad"
      },
      "source": [
        "63. Write a Python program to implement depth-first search algorithm."
      ]
    },
    {
      "cell_type": "code",
      "source": [
        "def dfs(graph, start_node):\n",
        "    visited = set()\n",
        "    stack = [start_node]\n",
        "\n",
        "    while stack:\n",
        "        vertex = stack.pop()\n",
        "        if vertex not in visited:\n",
        "            print(vertex, end=\" \")\n",
        "            visited.add(vertex)\n",
        "            stack.extend(graph[vertex] - visited)\n",
        "\n",
        "\n",
        "\n",
        "graph = {\n",
        "    'A': {'B', 'C'},\n",
        "    'B': {'D', 'E'},\n",
        "    'C': {'F'},\n",
        "    'D': set(),\n",
        "    'E': {'F'},\n",
        "    'F': set()\n",
        "}\n",
        "\n",
        "\n",
        "start_node = 'A'\n",
        "\n",
        "print(\"Following is the Depth-First Search:\")\n",
        "dfs(graph, start_node)  # Call the DFS function"
      ],
      "metadata": {
        "colab": {
          "base_uri": "https://localhost:8080/"
        },
        "id": "hf7G759vZY5O",
        "outputId": "8aabf4d2-f808-4f4d-faee-43c186bee243"
      },
      "id": "hf7G759vZY5O",
      "execution_count": null,
      "outputs": [
        {
          "output_type": "stream",
          "name": "stdout",
          "text": [
            "Following is the Depth-First Search:\n",
            "A C F B E D "
          ]
        }
      ]
    },
    {
      "cell_type": "markdown",
      "id": "9be2d764",
      "metadata": {
        "id": "9be2d764"
      },
      "source": [
        "64. Write a Python program to implement breadth-first search algorithm."
      ]
    },
    {
      "cell_type": "code",
      "execution_count": null,
      "id": "8aa98b3d",
      "metadata": {
        "id": "8aa98b3d",
        "colab": {
          "base_uri": "https://localhost:8080/"
        },
        "outputId": "e55cbee1-3bd2-4273-d001-de4ceb23ad4a"
      },
      "outputs": [
        {
          "output_type": "stream",
          "name": "stdout",
          "text": [
            "A B C D E F "
          ]
        }
      ],
      "source": [
        "graph={\n",
        "    'A':['B','C'],\n",
        "    'B':['D','E'],\n",
        "    'C':['F'],\n",
        "    'D':[],\n",
        "    'E':['F'],\n",
        "    'F':[]\n",
        "}\n",
        "visited=[]\n",
        "queue=[]\n",
        "def bfs(visited,graph,node):\n",
        "  visited.append(node)\n",
        "  queue.append(node)\n",
        "  while queue:\n",
        "    m=queue.pop(0)\n",
        "    print(m,end=\" \")\n",
        "    for neighbour in graph[m]:\n",
        "      if neighbour not in visited:\n",
        "        visited.append(neighbour)\n",
        "        queue.append(neighbour)\n",
        "\n",
        "bfs(visited,graph,'A')\n"
      ]
    },
    {
      "cell_type": "markdown",
      "id": "8fe03da3",
      "metadata": {
        "id": "8fe03da3"
      },
      "source": [
        "65. Write a Python program to find the shortest path in a graph using Dijkstra's algorithm."
      ]
    },
    {
      "cell_type": "code",
      "execution_count": null,
      "id": "d58d5256",
      "metadata": {
        "id": "d58d5256",
        "colab": {
          "base_uri": "https://localhost:8080/"
        },
        "outputId": "b2acaae2-b271-4535-9850-f8488b142f43"
      },
      "outputs": [
        {
          "output_type": "stream",
          "name": "stdout",
          "text": [
            "{'A': 0, 'B': 2, 'C': inf, 'D': inf, 'E': inf}\n"
          ]
        }
      ],
      "source": [
        "\n",
        "def dijkstra(g,start,end):\n",
        "  distance={node:float('inf') for node in g}\n",
        "  distance[start]=0\n",
        "  visited=[]\n",
        "  queue=[start]\n",
        "  while queue:\n",
        "    node=queue.pop(0)\n",
        "    visited.append(node)\n",
        "    for neighbour,weight in g[node].items():\n",
        "      if neighbour not in visited:\n",
        "        if distance[node]+weight<distance[neighbour]:\n",
        "          distance[neighbour]=distance[node]+weight\n",
        "          queue.append(neighbour)\n",
        "          return distance\n",
        "g={\n",
        "    'A':{'B':2,'C':4},\n",
        "    'B':{'D':8},\n",
        "    'C':{'B':8,'D':7,'E':2},\n",
        "    'D':{'E':9},\n",
        "    'E':{}\n",
        "}\n",
        "start='A'\n",
        "end='E'\n",
        "print(dijkstra(g,start,end))"
      ]
    },
    {
      "cell_type": "markdown",
      "id": "b2c7df13",
      "metadata": {
        "id": "b2c7df13"
      },
      "source": [
        "66. Write a Python program to find the minimum spanning tree using Kruskal's algorithm."
      ]
    },
    {
      "cell_type": "code",
      "execution_count": 1,
      "id": "5a739278",
      "metadata": {
        "id": "5a739278",
        "colab": {
          "base_uri": "https://localhost:8080/"
        },
        "outputId": "9dff20cc-ab59-4c3d-ece8-1f19a18457fc"
      },
      "outputs": [
        {
          "output_type": "stream",
          "name": "stdout",
          "text": [
            "Following are the edges in the constructed MST\n",
            "2 -- 3 == 4\n",
            "0 -- 3 == 5\n",
            "0 -- 1 == 10\n"
          ]
        }
      ],
      "source": [
        "class Graph:\n",
        "    def __init__(self, vertices):\n",
        "        self.V = vertices\n",
        "        self.graph = []\n",
        "\n",
        "    def add_edge(self, u, v, w):\n",
        "        self.graph.append([u, v, w])\n",
        "\n",
        "    def find(self, parent, i):\n",
        "        if parent[i] == i:\n",
        "            return i\n",
        "        return self.find(parent, parent[i])\n",
        "\n",
        "    def union(self, parent, rank, x, y):\n",
        "        xroot = self.find(parent, x)\n",
        "        yroot = self.find(parent, y)\n",
        "\n",
        "        if rank[xroot] < rank[yroot]:\n",
        "            parent[xroot] = yroot\n",
        "        elif rank[xroot] > rank[yroot]:\n",
        "            parent[yroot] = xroot\n",
        "        else:\n",
        "            parent[yroot] = xroot\n",
        "            rank[xroot] += 1\n",
        "\n",
        "    def kruskal_mst(self):\n",
        "        result = []\n",
        "        i = 0\n",
        "        e = 0\n",
        "        self.graph = sorted(self.graph, key=lambda item: item[2])\n",
        "        parent = []\n",
        "        rank = []\n",
        "\n",
        "        for node in range(self.V):\n",
        "            parent.append(node)\n",
        "            rank.append(0)\n",
        "\n",
        "        while e < self.V - 1:\n",
        "            u, v, w = self.graph[i]\n",
        "            i += 1\n",
        "            x = self.find(parent, u)\n",
        "            y = self.find(parent, v)\n",
        "\n",
        "            if x != y:\n",
        "                e += 1\n",
        "                result.append([u, v, w])\n",
        "                self.union(parent, rank, x, y)\n",
        "\n",
        "        print(\"Following are the edges in the constructed MST\")\n",
        "        for u, v, weight in result:\n",
        "            print(\"%d -- %d == %d\" % (u, v, weight))\n",
        "\n",
        "# Example usage\n",
        "g = Graph(4)\n",
        "g.add_edge(0, 1, 10)\n",
        "g.add_edge(0, 2, 6)\n",
        "g.add_edge(0, 3, 5)\n",
        "g.add_edge(1, 3, 15)\n",
        "g.add_edge(2, 3, 4)\n",
        "\n",
        "g.kruskal_mst()"
      ]
    },
    {
      "cell_type": "markdown",
      "id": "883df590",
      "metadata": {
        "id": "883df590"
      },
      "source": [
        "67. Write a Python program to find the minimum spanning tree using Prim's algorithm."
      ]
    },
    {
      "cell_type": "code",
      "source": [
        "import sys\n",
        "\n",
        "class Graph():\n",
        "    def __init__(self, vertices):\n",
        "        self.V = vertices\n",
        "        self.graph = [[0 for column in range(vertices)]\n",
        "                      for row in range(vertices)]\n",
        "\n",
        "    def printMST(self, parent):\n",
        "        print(\"Edge \\tWeight\")\n",
        "        for i in range(1, self.V):\n",
        "            print(parent[i], \"-\", i, \"\\t\", self.graph[i][parent[i]])\n",
        "\n",
        "    def minKey(self, key, mstSet):\n",
        "        min = sys.maxsize\n",
        "        for v in range(self.V):\n",
        "            if key[v] < min and mstSet[v] == False:\n",
        "                min = key[v]\n",
        "                min_index = v\n",
        "        return min_index\n",
        "\n",
        "    def primMST(self):\n",
        "        key = [sys.maxsize] * self.V\n",
        "        parent = [None] * self.V\n",
        "        key[0] = 0\n",
        "        mstSet = [False] * self.V\n",
        "        parent[0] = -1\n",
        "        for cout in range(self.V):\n",
        "            u = self.minKey(key, mstSet)\n",
        "            mstSet[u] = True\n",
        "            for v in range(self.V):\n",
        "                if self.graph[u][v] > 0 and mstSet[v] == False and key[v] > self.graph[u][v]:\n",
        "                    key[v] = self.graph[u][v]\n",
        "                    parent[v] = u\n",
        "        self.printMST(parent)\n",
        "\n",
        "g = Graph(5)\n",
        "g.graph = [[0, 2, 0, 6, 0],\n",
        "           [2, 0, 3, 8, 5],\n",
        "           [0, 3, 0, 0, 7],\n",
        "           [6, 8, 0, 0, 9],\n",
        "           [0, 5, 7, 9, 0]]\n",
        "\n",
        "g.primMST()\n"
      ],
      "metadata": {
        "colab": {
          "base_uri": "https://localhost:8080/"
        },
        "id": "mEvlSx8wJx2m",
        "outputId": "424f0de0-6123-49db-a6a8-d1a2c2b7c092"
      },
      "id": "mEvlSx8wJx2m",
      "execution_count": 2,
      "outputs": [
        {
          "output_type": "stream",
          "name": "stdout",
          "text": [
            "Edge \tWeight\n",
            "0 - 1 \t 2\n",
            "1 - 2 \t 3\n",
            "0 - 3 \t 6\n",
            "1 - 4 \t 5\n"
          ]
        }
      ]
    },
    {
      "cell_type": "markdown",
      "id": "cb7bcf26",
      "metadata": {
        "id": "cb7bcf26"
      },
      "source": [
        "68. Write a Python program to find the maximum flow in a network using Ford-Fulkerson algorithm."
      ]
    },
    {
      "cell_type": "code",
      "execution_count": 3,
      "id": "993e87db",
      "metadata": {
        "id": "993e87db",
        "colab": {
          "base_uri": "https://localhost:8080/"
        },
        "outputId": "b23a30fc-a7d8-4225-9dce-8fdae92e23c5"
      },
      "outputs": [
        {
          "output_type": "stream",
          "name": "stdout",
          "text": [
            "The maximum possible flow is 23 \n"
          ]
        }
      ],
      "source": [
        "class Graph:\n",
        "    def __init__(self, graph):\n",
        "        self.graph = graph  # residual graph\n",
        "        self.ROW = len(graph)\n",
        "\n",
        "\n",
        "    def BFS(self, s, t, parent):\n",
        "        visited = [False] * (self.ROW)\n",
        "        queue = []\n",
        "        queue.append(s)\n",
        "        visited[s] = True\n",
        "\n",
        "        while queue:\n",
        "            u = queue.pop(0)\n",
        "            for ind, val in enumerate(self.graph[u]):\n",
        "                if visited[ind] == False and val > 0:\n",
        "                    queue.append(ind)\n",
        "                    visited[ind] = True\n",
        "                    parent[ind] = u\n",
        "                    if ind == t:\n",
        "                        return True\n",
        "        return False\n",
        "\n",
        "\n",
        "    def FordFulkerson(self, source, sink):\n",
        "        parent = [-1] * (self.ROW)\n",
        "        max_flow = 0\n",
        "\n",
        "        while self.BFS(source, sink, parent):\n",
        "            path_flow = float(\"Inf\")\n",
        "            s = sink\n",
        "            while (s != source):\n",
        "                path_flow = min(path_flow, self.graph[parent[s]][s])\n",
        "                s = parent[s]\n",
        "\n",
        "            max_flow += path_flow\n",
        "\n",
        "\n",
        "            v = sink\n",
        "            while (v != source):\n",
        "                u = parent[v]\n",
        "                self.graph[u][v] -= path_flow\n",
        "                self.graph[v][u] += path_flow\n",
        "                v = parent[v]\n",
        "\n",
        "        return max_flow\n",
        "\n",
        "\n",
        "graph = [[0, 16, 13, 0, 0, 0],\n",
        "         [0, 0, 10, 12, 0, 0],\n",
        "         [0, 4, 0, 0, 14, 0],\n",
        "         [0, 0, 9, 0, 0, 20],\n",
        "         [0, 0, 0, 7, 0, 4],\n",
        "         [0, 0, 0, 0, 0, 0]]\n",
        "\n",
        "g = Graph(graph)\n",
        "\n",
        "source = 0;\n",
        "sink = 5\n",
        "\n",
        "print(\"The maximum possible flow is %d \" % g.FordFulkerson(source, sink))"
      ]
    },
    {
      "cell_type": "markdown",
      "id": "445ad7fe",
      "metadata": {
        "id": "445ad7fe"
      },
      "source": [
        "69. Write a Python program to find the longest common subsequence in two sequences."
      ]
    },
    {
      "cell_type": "code",
      "source": [
        "\n",
        "def longest_common_subsequence(X, Y):\n",
        "    m = len(X)\n",
        "    n = len(Y)\n",
        "\n",
        "\n",
        "    dp = [[0] * (n + 1) for _ in range(m + 1)]\n",
        "\n",
        "    for i in range(1, m + 1):\n",
        "        for j in range(1, n + 1):\n",
        "            if X[i - 1] == Y[j - 1]:\n",
        "                dp[i][j] = dp[i - 1][j - 1] + 1\n",
        "            else:\n",
        "                dp[i][j] = max(dp[i - 1][j], dp[i][j - 1])\n",
        "\n",
        "    i = m\n",
        "    j = n\n",
        "    lcs = \"\"\n",
        "    while i > 0 and j > 0:\n",
        "        if X[i - 1] == Y[j - 1]:\n",
        "            lcs = X[i - 1] + lcs\n",
        "            i -= 1\n",
        "            j -= 1\n",
        "        else:\n",
        "            if dp[i - 1][j] > dp[i][j - 1]:\n",
        "                i -= 1\n",
        "            else:\n",
        "                j -= 1\n",
        "\n",
        "    return lcs\n",
        "\n",
        "\n",
        "X = \"AGGTAB\"\n",
        "Y = \"GXTXAYB\"\n",
        "print(\"Longest Common Subsequence:\", longest_common_subsequence(X, Y))\n"
      ],
      "metadata": {
        "colab": {
          "base_uri": "https://localhost:8080/"
        },
        "id": "ISCHararKdiW",
        "outputId": "26562240-eb48-4c25-eb5e-c5b9a83aad16"
      },
      "id": "ISCHararKdiW",
      "execution_count": 4,
      "outputs": [
        {
          "output_type": "stream",
          "name": "stdout",
          "text": [
            "Longest Common Subsequence: GTAB\n"
          ]
        }
      ]
    },
    {
      "cell_type": "markdown",
      "id": "75054155",
      "metadata": {
        "id": "75054155"
      },
      "source": [
        "70. Write a Python program to find the longest increasing subsequence in a sequence."
      ]
    },
    {
      "cell_type": "code",
      "execution_count": 5,
      "id": "8a2fbdf6",
      "metadata": {
        "id": "8a2fbdf6",
        "colab": {
          "base_uri": "https://localhost:8080/"
        },
        "outputId": "4a72e4c0-f11f-4a71-e9c6-4cb95e54fbde"
      },
      "outputs": [
        {
          "output_type": "stream",
          "name": "stdout",
          "text": [
            "Length of the longest increasing subsequence: 4\n"
          ]
        }
      ],
      "source": [
        "\n",
        "def longest_increasing_subsequence(nums):\n",
        "    if not nums:\n",
        "        return 0\n",
        "\n",
        "    n = len(nums)\n",
        "    dp = [1] * n\n",
        "    for i in range(1, n):\n",
        "        for j in range(i):\n",
        "            if nums[i] > nums[j] and dp[i] < dp[j] + 1:\n",
        "                dp[i] = dp[j] + 1\n",
        "\n",
        "    return max(dp)\n",
        "\n",
        "sequence = [10, 9, 2, 5, 3, 7, 101, 18]\n",
        "length = longest_increasing_subsequence(sequence)\n",
        "print(\"Length of the longest increasing subsequence:\", length)\n"
      ]
    },
    {
      "cell_type": "markdown",
      "id": "80dc7dc4",
      "metadata": {
        "id": "80dc7dc4"
      },
      "source": [
        "71. Write a Python program to solve the knapsack problem using dynamic programming."
      ]
    },
    {
      "cell_type": "code",
      "source": [
        "\n",
        "def knapsack_dp(capacity, weights, values):\n",
        "    n = len(values)\n",
        "    dp = [[0 for _ in range(capacity + 1)] for _ in range(n + 1)]\n",
        "\n",
        "    for i in range(1, n + 1):\n",
        "        for w in range(capacity + 1):\n",
        "            if weights[i - 1] <= w:\n",
        "                dp[i][w] = max(values[i - 1] + dp[i - 1][w - weights[i - 1]], dp[i - 1][w])\n",
        "            else:\n",
        "                dp[i][w] = dp[i - 1][w]\n",
        "\n",
        "    return dp[n][capacity]\n",
        "\n",
        "# Example usage\n",
        "values = [60, 100, 120]\n",
        "weights = [10, 20, 30]\n",
        "capacity = 50\n",
        "\n",
        "max_value = knapsack_dp(capacity, weights, values)\n",
        "print(\"Maximum value:\", max_value)\n"
      ],
      "metadata": {
        "colab": {
          "base_uri": "https://localhost:8080/"
        },
        "id": "rBPAlaqpK0lr",
        "outputId": "8b0a2639-0c40-46ea-e1a1-6daee8cc731c"
      },
      "id": "rBPAlaqpK0lr",
      "execution_count": 6,
      "outputs": [
        {
          "output_type": "stream",
          "name": "stdout",
          "text": [
            "Maximum value: 220\n"
          ]
        }
      ]
    },
    {
      "cell_type": "markdown",
      "id": "71526319",
      "metadata": {
        "id": "71526319"
      },
      "source": [
        "72. Write a Python program to solve the traveling salesman problem using dynamic programming."
      ]
    },
    {
      "cell_type": "code",
      "execution_count": 7,
      "id": "8efdb175",
      "metadata": {
        "id": "8efdb175",
        "colab": {
          "base_uri": "https://localhost:8080/"
        },
        "outputId": "bdd7ec23-3f8e-4c68-8379-cf75e2f62220"
      },
      "outputs": [
        {
          "output_type": "stream",
          "name": "stdout",
          "text": [
            "Minimum distance: 80\n"
          ]
        }
      ],
      "source": [
        "\n",
        "\n",
        "import sys\n",
        "\n",
        "def traveling_salesman_problem(graph, start_node):\n",
        "    n = len(graph)\n",
        "    memo = {}\n",
        "\n",
        "    def dp(current_node, visited):\n",
        "        if len(visited) == n:\n",
        "            return graph[current_node][start_node] if graph[current_node][start_node] != 0 else float('inf')\n",
        "\n",
        "        if (current_node, tuple(visited)) in memo:\n",
        "            return memo[(current_node, tuple(visited))]\n",
        "\n",
        "        min_dist = float('inf')\n",
        "        for next_node in range(n):\n",
        "            if next_node not in visited:\n",
        "                new_visited = set(visited)\n",
        "                new_visited.add(next_node)\n",
        "                dist = graph[current_node][next_node] + dp(next_node, new_visited)\n",
        "                min_dist = min(min_dist, dist)\n",
        "\n",
        "        memo[(current_node, tuple(visited))] = min_dist\n",
        "        return min_dist\n",
        "\n",
        "    visited = {start_node}\n",
        "    min_path = dp(start_node, visited)\n",
        "\n",
        "    return min_path\n",
        "\n",
        "\n",
        "\n",
        "graph = [\n",
        "    [0, 10, 15, 20],\n",
        "    [10, 0, 35, 25],\n",
        "    [15, 35, 0, 30],\n",
        "    [20, 25, 30, 0]\n",
        "]\n",
        "start_node = 0\n",
        "\n",
        "min_distance = traveling_salesman_problem(graph, start_node)\n",
        "\n",
        "print(\"Minimum distance:\", min_distance)\n"
      ]
    },
    {
      "cell_type": "markdown",
      "id": "6ddc5558",
      "metadata": {
        "id": "6ddc5558"
      },
      "source": [
        "73. Write a Python program to find the maximum sum subarray using Kadane's algorithm."
      ]
    },
    {
      "cell_type": "code",
      "execution_count": 8,
      "id": "109d5ad3",
      "metadata": {
        "id": "109d5ad3",
        "colab": {
          "base_uri": "https://localhost:8080/"
        },
        "outputId": "5eb8fff1-2c9e-410f-de04-2debead05827"
      },
      "outputs": [
        {
          "output_type": "stream",
          "name": "stdout",
          "text": [
            "Maximum contiguous sum is 7\n",
            "Starting index 2\n",
            "Ending index 6\n"
          ]
        }
      ],
      "source": [
        "\n",
        "\n",
        "def max_subarray_sum(arr):\n",
        "    max_so_far = 0\n",
        "    current_max = 0\n",
        "    start_index = 0\n",
        "    end_index = 0\n",
        "    j = 0\n",
        "\n",
        "    for i in range(len(arr)):\n",
        "        current_max += arr[i]\n",
        "\n",
        "        if current_max > max_so_far:\n",
        "            max_so_far = current_max\n",
        "            start_index = j\n",
        "            end_index = i\n",
        "\n",
        "        if current_max < 0:\n",
        "            current_max = 0\n",
        "            j = i + 1\n",
        "\n",
        "    print(\"Maximum contiguous sum is\", max_so_far)\n",
        "    print(\"Starting index\", start_index)\n",
        "    print(\"Ending index\", end_index)\n",
        "\n",
        "\n",
        "arr = [-2, -3, 4, -1, -2, 1, 5, -3]\n",
        "max_subarray_sum(arr)\n"
      ]
    },
    {
      "cell_type": "markdown",
      "id": "0c9fc456",
      "metadata": {
        "id": "0c9fc456"
      },
      "source": [
        "74. Write a Python program to find the median of two sorted arrays."
      ]
    },
    {
      "cell_type": "code",
      "source": [
        "\n",
        "\n",
        "def find_median_sorted_arrays(nums1, nums2):\n",
        "\n",
        "    merged_array = sorted(nums1 + nums2)\n",
        "    n = len(merged_array)\n",
        "\n",
        "    if n % 2 == 0:\n",
        "        mid1 = merged_array[n // 2 - 1]\n",
        "        mid2 = merged_array[n // 2]\n",
        "        median = (mid1 + mid2) / 2\n",
        "    else:\n",
        "        median = merged_array[n // 2]\n",
        "\n",
        "    return median\n",
        "\n",
        "\n",
        "nums1 = [1, 3]\n",
        "nums2 = [2]\n",
        "median = find_median_sorted_arrays(nums1, nums2)\n",
        "print(f\"The median of the two sorted arrays is: {median}\")\n",
        "\n",
        "\n",
        "nums1 = [1, 2]\n",
        "nums2 = [3, 4]\n",
        "median = find_median_sorted_arrays(nums1, nums2)\n",
        "print(f\"The median of the two sorted arrays is: {median}\")\n"
      ],
      "metadata": {
        "colab": {
          "base_uri": "https://localhost:8080/"
        },
        "id": "xtAabLWZLlHi",
        "outputId": "800b7619-6ee5-4bdd-a906-8010cd3c0df9"
      },
      "id": "xtAabLWZLlHi",
      "execution_count": 9,
      "outputs": [
        {
          "output_type": "stream",
          "name": "stdout",
          "text": [
            "The median of the two sorted arrays is: 2\n",
            "The median of the two sorted arrays is: 2.5\n"
          ]
        }
      ]
    },
    {
      "cell_type": "markdown",
      "id": "f24bc58e",
      "metadata": {
        "id": "f24bc58e"
      },
      "source": [
        "75. Write a Python program to find the k-th smallest element in an array."
      ]
    },
    {
      "cell_type": "code",
      "execution_count": 10,
      "id": "3b03bafa",
      "metadata": {
        "id": "3b03bafa",
        "colab": {
          "base_uri": "https://localhost:8080/"
        },
        "outputId": "ac80a47b-7750-4957-d17e-c023ae2e641b"
      },
      "outputs": [
        {
          "output_type": "stream",
          "name": "stdout",
          "text": [
            "The 3th smallest element is: 7\n"
          ]
        }
      ],
      "source": [
        "\n",
        "import heapq\n",
        "\n",
        "def find_kth_smallest(nums, k):\n",
        "    return heapq.nsmallest(k, nums)[-1]\n",
        "\n",
        "nums = [7, 10, 4, 3, 20, 15]\n",
        "k = 3\n",
        "kth_smallest = find_kth_smallest(nums, k)\n",
        "print(f\"The {k}th smallest element is: {kth_smallest}\")\n"
      ]
    },
    {
      "cell_type": "markdown",
      "id": "f2d17b60",
      "metadata": {
        "id": "f2d17b60"
      },
      "source": [
        "76. Write a Python program to find the k-th largest element in an array."
      ]
    },
    {
      "cell_type": "code",
      "execution_count": 11,
      "id": "3b58c085",
      "metadata": {
        "id": "3b58c085",
        "colab": {
          "base_uri": "https://localhost:8080/"
        },
        "outputId": "65074054-a315-4bdc-f660-a70823055047"
      },
      "outputs": [
        {
          "output_type": "stream",
          "name": "stdout",
          "text": [
            "The 2th largest element is: 5\n"
          ]
        }
      ],
      "source": [
        "\n",
        "import heapq\n",
        "\n",
        "def find_kth_largest(nums, k):\n",
        "    return heapq.nlargest(k, nums)[-1]\n",
        "\n",
        "nums = [3, 2, 1, 5, 6, 4]\n",
        "k = 2\n",
        "kth_largest = find_kth_largest(nums, k)\n",
        "print(f\"The {k}th largest element is: {kth_largest}\")\n"
      ]
    },
    {
      "cell_type": "markdown",
      "id": "34072df5",
      "metadata": {
        "id": "34072df5"
      },
      "source": [
        "77. Write a Python program to implement the heap sort algorithm."
      ]
    },
    {
      "cell_type": "code",
      "source": [
        "\n",
        "def heapify(arr, n, i):\n",
        "    largest = i\n",
        "    l = 2 * i + 1\n",
        "    r = 2 * i + 2\n",
        "\n",
        "    if l < n and arr[i] < arr[l]:\n",
        "        largest = l\n",
        "\n",
        "    if r < n and arr[largest] < arr[r]:\n",
        "        largest = r\n",
        "\n",
        "\n",
        "    if largest != i:\n",
        "        arr[i], arr[largest] = arr[largest], arr[i]  # swap\n",
        "\n",
        "        heapify(arr, n, largest)\n",
        "\n",
        "\n",
        "def heapSort(arr):\n",
        "    n = len(arr)\n",
        "\n",
        "    for i in range(n // 2 - 1, -1, -1):\n",
        "        heapify(arr, n, i)\n",
        "\n",
        "\n",
        "    for i in range(n - 1, 0, -1):\n",
        "        arr[i], arr[0] = arr[0], arr[i]  # swap\n",
        "        heapify(arr, i, 0)\n",
        "\n",
        "\n",
        "arr = [12, 11, 13, 5, 6, 7]\n",
        "heapSort(arr)\n",
        "print(\"Sorted array is\", arr)\n"
      ],
      "metadata": {
        "colab": {
          "base_uri": "https://localhost:8080/"
        },
        "id": "lKk1IX-EMPnw",
        "outputId": "7baedf21-5fdb-445a-f1b8-81578359df42"
      },
      "id": "lKk1IX-EMPnw",
      "execution_count": 12,
      "outputs": [
        {
          "output_type": "stream",
          "name": "stdout",
          "text": [
            "Sorted array is [5, 6, 7, 11, 12, 13]\n"
          ]
        }
      ]
    },
    {
      "cell_type": "markdown",
      "id": "d9e31617",
      "metadata": {
        "id": "d9e31617"
      },
      "source": [
        "78. Write a Python program to implement the radix sort algorithm."
      ]
    },
    {
      "cell_type": "code",
      "source": [
        "\n",
        "def counting_sort(arr, exp1):\n",
        "    n = len(arr)\n",
        "    output = [0] * (n)\n",
        "    count = [0] * (10)\n",
        "\n",
        "    for i in range(0, n):\n",
        "        index = (arr[i] // exp1)\n",
        "        count[index % 10] += 1\n",
        "\n",
        "    for i in range(1, 10):\n",
        "        count[i] += count[i - 1]\n",
        "\n",
        "    i = n - 1\n",
        "    while i >= 0:\n",
        "        index = (arr[i] // exp1)\n",
        "        output[count[index % 10] - 1] = arr[i]\n",
        "        count[index % 10] -= 1\n",
        "        i -= 1\n",
        "\n",
        "    i = 0\n",
        "    for i in range(0, len(arr)):\n",
        "        arr[i] = output[i]\n",
        "\n",
        "\n",
        "def radix_sort(arr):\n",
        "    max1 = max(arr)\n",
        "    exp = 1\n",
        "    while max1 // exp > 0:\n",
        "        counting_sort(arr, exp)\n",
        "        exp *= 10\n",
        "\n",
        "\n",
        "arr = [170, 45, 75, 90, 802, 24, 2, 66]\n",
        "radix_sort(arr)\n",
        "arr\n"
      ],
      "metadata": {
        "colab": {
          "base_uri": "https://localhost:8080/"
        },
        "id": "mzHAICm6MjCE",
        "outputId": "36add261-5584-4603-d802-6e4c880d776a"
      },
      "id": "mzHAICm6MjCE",
      "execution_count": 13,
      "outputs": [
        {
          "output_type": "execute_result",
          "data": {
            "text/plain": [
              "[2, 24, 45, 66, 75, 90, 170, 802]"
            ]
          },
          "metadata": {},
          "execution_count": 13
        }
      ]
    },
    {
      "cell_type": "markdown",
      "id": "8f3ca34f",
      "metadata": {
        "id": "8f3ca34f"
      },
      "source": [
        "79. Write a Python program to implement the bucket sort algorithm."
      ]
    },
    {
      "cell_type": "code",
      "execution_count": 14,
      "id": "08ad8e73",
      "metadata": {
        "id": "08ad8e73",
        "colab": {
          "base_uri": "https://localhost:8080/"
        },
        "outputId": "794d1fa1-35ce-4023-f0b3-7580da91153e"
      },
      "outputs": [
        {
          "output_type": "stream",
          "name": "stdout",
          "text": [
            "Sorted Array in descending order is: [0.1234, 0.3434, 0.565, 0.656, 0.665, 0.897]\n"
          ]
        }
      ],
      "source": [
        "\n",
        "def bucket_sort(arr):\n",
        "    if not arr:\n",
        "        return []\n",
        "\n",
        "    min_val = min(arr)\n",
        "    max_val = max(arr)\n",
        "\n",
        "    if min_val == max_val:\n",
        "        return arr\n",
        "\n",
        "    bucket_size = 10\n",
        "    num_buckets = int((max_val - min_val) / bucket_size) + 1\n",
        "    buckets = [[] for _ in range(num_buckets)]\n",
        "\n",
        "    for num in arr:\n",
        "        index = int((num - min_val) / bucket_size)\n",
        "        buckets[index].append(num)\n",
        "\n",
        "    sorted_arr = []\n",
        "    for bucket in buckets:\n",
        "        bucket.sort()\n",
        "        sorted_arr.extend(bucket)\n",
        "\n",
        "    return sorted_arr\n",
        "\n",
        "\n",
        "arr = [0.897, 0.565, 0.656, 0.1234, 0.665, 0.3434]\n",
        "sorted_arr = bucket_sort(arr)\n",
        "print(\"Sorted Array in descending order is:\", sorted_arr)\n"
      ]
    },
    {
      "cell_type": "markdown",
      "id": "4f3b61b9",
      "metadata": {
        "id": "4f3b61b9"
      },
      "source": [
        "80. Write a Python program to implement the counting sort algorithm."
      ]
    },
    {
      "cell_type": "code",
      "source": [
        "def counting_sort(arr):\n",
        "\n",
        "\n",
        "    if not arr:\n",
        "        return []\n",
        "\n",
        "    max_element = max(arr)\n",
        "\n",
        "\n",
        "    count = [0] * (max_element + 1)\n",
        "\n",
        "\n",
        "    for num in arr:\n",
        "        count[num] += 1\n",
        "\n",
        "\n",
        "    for i in range(1, max_element + 1):\n",
        "        count[i] += count[i - 1]\n",
        "\n",
        "\n",
        "    output = [0] * len(arr)\n",
        "\n",
        "\n",
        "    for i in range(len(arr) - 1, -1, -1):\n",
        "        output[count[arr[i]] - 1] = arr[i]\n",
        "        count[arr[i]] -= 1\n",
        "\n",
        "    return output\n",
        "\n",
        "\n",
        "arr = [4, 2, 2, 8, 3, 3, 1]\n",
        "sorted_arr = counting_sort(arr)\n",
        "print(\"Sorted array:\", sorted_arr)"
      ],
      "metadata": {
        "colab": {
          "base_uri": "https://localhost:8080/"
        },
        "id": "w6pMY0DFM1Ts",
        "outputId": "95b6edae-cd3d-4a27-98a9-0d089cb2ae7a"
      },
      "id": "w6pMY0DFM1Ts",
      "execution_count": 16,
      "outputs": [
        {
          "output_type": "stream",
          "name": "stdout",
          "text": [
            "Sorted array: [1, 2, 2, 3, 3, 4, 8]\n"
          ]
        }
      ]
    },
    {
      "cell_type": "markdown",
      "id": "877d296e",
      "metadata": {
        "id": "877d296e"
      },
      "source": [
        "81. Write a Python program to find the longest palindromic substring in a string."
      ]
    },
    {
      "cell_type": "code",
      "execution_count": 18,
      "id": "ce89343e",
      "metadata": {
        "id": "ce89343e",
        "colab": {
          "base_uri": "https://localhost:8080/"
        },
        "outputId": "16a19d1c-c436-41b1-df27-b5290ce36819"
      },
      "outputs": [
        {
          "output_type": "stream",
          "name": "stdout",
          "text": [
            "Longest palindromic substring: bab\n"
          ]
        }
      ],
      "source": [
        "def longest_palindrome(s):\n",
        "    n = len(s)\n",
        "    if n < 2:\n",
        "        return s\n",
        "\n",
        "    start = 0\n",
        "    max_len = 1\n",
        "\n",
        "    for i in range(n):\n",
        "\n",
        "        l, r = i, i\n",
        "        while l >= 0 and r < n and s[l] == s[r]:\n",
        "            if r - l + 1 > max_len:\n",
        "                max_len = r - l + 1\n",
        "                start = l\n",
        "            l -= 1\n",
        "            r += 1\n",
        "\n",
        "        l, r = i, i + 1\n",
        "        while l >= 0 and r < n and s[l] == s[r]:\n",
        "            if r - l + 1 > max_len:\n",
        "                max_len = r - l + 1\n",
        "                start = l\n",
        "            l -= 1\n",
        "            r += 1\n",
        "\n",
        "    return s[start:start + max_len]\n",
        "\n",
        "\n",
        "string = \"babad\"\n",
        "longest_pal = longest_palindrome(string)\n",
        "print(\"Longest palindromic substring:\", longest_pal)"
      ]
    },
    {
      "cell_type": "markdown",
      "id": "2315d5cb",
      "metadata": {
        "id": "2315d5cb"
      },
      "source": [
        "82. Write a Python program to find the minimum edit distance between two strings."
      ]
    },
    {
      "cell_type": "code",
      "source": [
        "\n",
        "def min_edit_distance(str1, str2):\n",
        "    m = len(str1)\n",
        "    n = len(str2)\n",
        "\n",
        "    dp = [[0] * (n + 1) for _ in range(m + 1)]\n",
        "\n",
        "    for i in range(m + 1):\n",
        "        dp[i][0] = i\n",
        "    for j in range(n + 1):\n",
        "        dp[0][j] = j\n",
        "\n",
        "    for i in range(1, m + 1):\n",
        "        for j in range(1, n + 1):\n",
        "            if str1[i - 1] == str2[j - 1]:\n",
        "                dp[i][j] = dp[i - 1][j - 1]\n",
        "            else:\n",
        "                dp[i][j] = 1 + min(dp[i][j - 1],\n",
        "                                   dp[i - 1][j],\n",
        "                                   dp[i - 1][j - 1])\n",
        "\n",
        "    return dp[m][n]\n",
        "\n",
        "\n",
        "string1 = \"intention\"\n",
        "string2 = \"execution\"\n",
        "distance = min_edit_distance(string1, string2)\n",
        "print(f\"The minimum edit distance between '{string1}' and '{string2}' is: {distance}\")\n"
      ],
      "metadata": {
        "colab": {
          "base_uri": "https://localhost:8080/"
        },
        "id": "lLj4wshdN2y0",
        "outputId": "95830e31-32f1-499e-cebf-e051ef07ee6a"
      },
      "id": "lLj4wshdN2y0",
      "execution_count": 19,
      "outputs": [
        {
          "output_type": "stream",
          "name": "stdout",
          "text": [
            "The minimum edit distance between 'intention' and 'execution' is: 5\n"
          ]
        }
      ]
    },
    {
      "cell_type": "markdown",
      "id": "10328a0c",
      "metadata": {
        "id": "10328a0c"
      },
      "source": [
        "83. Write a Python program to find the maximum product subarray in an array."
      ]
    },
    {
      "cell_type": "code",
      "source": [
        "\n",
        "def max_product_subarray(nums):\n",
        "    if not nums:\n",
        "        return 0\n",
        "\n",
        "    max_so_far = nums[0]\n",
        "    min_so_far = nums[0]\n",
        "    result = max_so_far\n",
        "\n",
        "    for i in range(1, len(nums)):\n",
        "        curr = nums[i]\n",
        "        temp_max = max(curr, max_so_far * curr, min_so_far * curr)\n",
        "        min_so_far = min(curr, max_so_far * curr, min_so_far * curr)\n",
        "        max_so_far = temp_max\n",
        "        result = max(max_so_far, result)\n",
        "\n",
        "    return result\n"
      ],
      "metadata": {
        "id": "LN445g4rODcm"
      },
      "id": "LN445g4rODcm",
      "execution_count": 20,
      "outputs": []
    },
    {
      "cell_type": "markdown",
      "id": "d0e87796",
      "metadata": {
        "id": "d0e87796"
      },
      "source": [
        "84. Write a Python program to find the number of islands in a 2D grid."
      ]
    },
    {
      "cell_type": "code",
      "execution_count": 21,
      "id": "940f7fd4",
      "metadata": {
        "id": "940f7fd4",
        "colab": {
          "base_uri": "https://localhost:8080/"
        },
        "outputId": "da70e95a-0dfd-4733-f5a4-b19a39876407"
      },
      "outputs": [
        {
          "output_type": "stream",
          "name": "stdout",
          "text": [
            "Maximum product subarray: 6\n"
          ]
        }
      ],
      "source": [
        "def max_product_subarray(nums):\n",
        "\n",
        "\n",
        "    if not nums:\n",
        "        return 0  # Handle empty array case\n",
        "\n",
        "    max_so_far = nums[0]\n",
        "    min_so_far = nums[0]\n",
        "    result = max_so_far\n",
        "\n",
        "    for i in range(1, len(nums)):\n",
        "        curr = nums[i]\n",
        "        temp_max = max(curr, max_so_far * curr, min_so_far * curr)\n",
        "        min_so_far = min(curr, max_so_far * curr, min_so_far * curr)\n",
        "        max_so_far = temp_max\n",
        "        result = max(max_so_far, result)\n",
        "\n",
        "    return result\n",
        "\n",
        "\n",
        "nums = [2, 3, -2, 4]\n",
        "max_product = max_product_subarray(nums)\n",
        "print(\"Maximum product subarray:\", max_product)"
      ]
    },
    {
      "cell_type": "markdown",
      "id": "6f41fc0a",
      "metadata": {
        "id": "6f41fc0a"
      },
      "source": [
        "85. Write a Python program to find the maximum rectangle area in a 2D grid."
      ]
    },
    {
      "cell_type": "code",
      "execution_count": 23,
      "id": "daf4732d",
      "metadata": {
        "id": "daf4732d",
        "colab": {
          "base_uri": "https://localhost:8080/"
        },
        "outputId": "24ca1cc8-7229-4369-f10e-ebb76610f06e"
      },
      "outputs": [
        {
          "output_type": "stream",
          "name": "stdout",
          "text": [
            "Maximum rectangle area: 6\n"
          ]
        }
      ],
      "source": [
        "def maximalRectangle(matrix):\n",
        "\n",
        "\n",
        "    if not matrix or not matrix[0]:\n",
        "        return 0\n",
        "\n",
        "    m, n = len(matrix), len(matrix[0])\n",
        "    heights = [0] * n\n",
        "    max_area = 0\n",
        "\n",
        "    for i in range(m):\n",
        "        for j in range(n):\n",
        "            if matrix[i][j] == '1':\n",
        "                heights[j] += 1\n",
        "            else:\n",
        "                heights[j] = 0\n",
        "\n",
        "        stack = [-1]\n",
        "        for j in range(n + 1):\n",
        "            while stack[-1] != -1 and (j == n or heights[stack[-1]] > heights[j]):\n",
        "                height = heights[stack.pop()]\n",
        "                width = j - stack[-1] - 1\n",
        "                max_area = max(max_area, height * width)\n",
        "            stack.append(j)\n",
        "\n",
        "    return max_area\n",
        "\n",
        "\n",
        "matrix = [[\"1\", \"0\", \"1\", \"0\", \"0\"],\n",
        "          [\"1\", \"0\", \"1\", \"1\", \"1\"],\n",
        "          [\"1\", \"1\", \"1\", \"1\", \"1\"],\n",
        "          [\"1\", \"0\", \"0\", \"1\", \"0\"]]\n",
        "max_area = maximalRectangle(matrix)\n",
        "print(\"Maximum rectangle area:\", max_area)"
      ]
    },
    {
      "cell_type": "markdown",
      "id": "77cb7dca",
      "metadata": {
        "id": "77cb7dca"
      },
      "source": [
        "86. Write a Python program to find the largest square area in a 2D grid."
      ]
    },
    {
      "cell_type": "code",
      "execution_count": 24,
      "id": "ca670d6d",
      "metadata": {
        "id": "ca670d6d",
        "colab": {
          "base_uri": "https://localhost:8080/"
        },
        "outputId": "37cb7391-6d0d-4c28-8d95-07e742327b75"
      },
      "outputs": [
        {
          "output_type": "stream",
          "name": "stdout",
          "text": [
            "Largest square area: 4\n"
          ]
        }
      ],
      "source": [
        "def maximalSquare(matrix):\n",
        "\n",
        "\n",
        "    if not matrix or not matrix[0]:\n",
        "        return 0\n",
        "\n",
        "    rows, cols = len(matrix), len(matrix[0])\n",
        "    dp = [[0] * (cols + 1) for _ in range(rows + 1)]\n",
        "    max_side = 0\n",
        "\n",
        "    for i in range(1, rows + 1):\n",
        "        for j in range(1, cols + 1):\n",
        "            if matrix[i - 1][j - 1] == '1':\n",
        "                dp[i][j] = min(dp[i - 1][j], dp[i][j - 1], dp[i - 1][j - 1]) + 1\n",
        "                max_side = max(max_side, dp[i][j])\n",
        "\n",
        "    return max_side * max_side\n",
        "\n",
        "\n",
        "matrix = [[\"1\", \"0\", \"1\", \"0\", \"0\"],\n",
        "          [\"1\", \"0\", \"1\", \"1\", \"1\"],\n",
        "          [\"1\", \"1\", \"1\", \"1\", \"1\"],\n",
        "          [\"1\", \"0\", \"0\", \"1\", \"0\"]]\n",
        "max_area = maximalSquare(matrix)\n",
        "print(\"Largest square area:\", max_area)"
      ]
    },
    {
      "cell_type": "markdown",
      "id": "39933501",
      "metadata": {
        "id": "39933501"
      },
      "source": [
        "87. Write a Python program to solve the N-Queens problem."
      ]
    },
    {
      "cell_type": "code",
      "execution_count": 25,
      "id": "ddf6a499",
      "metadata": {
        "id": "ddf6a499",
        "colab": {
          "base_uri": "https://localhost:8080/"
        },
        "outputId": "c60fde37-89cc-4b88-bf40-85bdbb8171d3"
      },
      "outputs": [
        {
          "output_type": "stream",
          "name": "stdout",
          "text": [
            ". . . .\n",
            ". . . .\n",
            ". . . .\n",
            ". . . .\n",
            "\n"
          ]
        }
      ],
      "source": [
        "def is_safe(board, row, col, N):\n",
        "\n",
        "    for i in range(row):\n",
        "        if board[i][col] == 1:\n",
        "            return False\n",
        "\n",
        "    for i, j in zip(range(row - 1, -1, -1), range(col - 1, -1, -1)):\n",
        "        if board[i][j] == 1:\n",
        "            return False\n",
        "\n",
        "\n",
        "    for i, j in zip(range(row - 1, -1, -1), range(col + 1, N)):\n",
        "        if board[i][j] == 1:\n",
        "            return False\n",
        "\n",
        "    return True\n",
        "\n",
        "def solve_n_queens_util(board, row, N):\n",
        "\n",
        "\n",
        "    if row == N:\n",
        "\n",
        "        print_board(board)\n",
        "        return True\n",
        "\n",
        "    for col in range(N):\n",
        "\n",
        "            if solve_n_queens_util(board, row + 1, N):\n",
        "                return True\n",
        "\n",
        "            board[row][col] = 0\n",
        "\n",
        "    return False\n",
        "\n",
        "def solve_n_queens(N):\n",
        "\n",
        "\n",
        "    board = [[0] * N for _ in range(N)]\n",
        "    if not solve_n_queens_util(board, 0, N):\n",
        "        print(\"Solution does not exist\")\n",
        "\n",
        "def print_board(board):\n",
        "\n",
        "\n",
        "    for row in board:\n",
        "        print(\" \".join([\"Q\" if cell == 1 else \".\" for cell in row]))\n",
        "    print()\n",
        "\n",
        "\n",
        "N = 4\n",
        "solve_n_queens(N)"
      ]
    },
    {
      "cell_type": "markdown",
      "id": "6b02be92",
      "metadata": {
        "id": "6b02be92"
      },
      "source": [
        "88. Write a Python program to solve the Sudoku puzzle."
      ]
    },
    {
      "cell_type": "code",
      "source": [
        "def solve_sudoku(board):\n",
        "\n",
        "\n",
        "    def find_empty_cell():\n",
        "\n",
        "        for i in range(9):\n",
        "            for j in range(9):\n",
        "                if board[i][j] == 0:\n",
        "                    return i, j\n",
        "        return None, None\n",
        "\n",
        "    def is_valid(row, col, num):\n",
        "\n",
        "\n",
        "        if num in board[row]:\n",
        "            return False\n",
        "\n",
        "\n",
        "        if num in [board[i][col] for i in range(9)]:\n",
        "            return False\n",
        "\n",
        "\n",
        "        subgrid_row = (row // 3) * 3\n",
        "        subgrid_col = (col // 3) * 3\n",
        "        for i in range(subgrid_row, subgrid_row + 3):\n",
        "            for j in range(subgrid_col, subgrid_col + 3):\n",
        "                if board[i][j] == num:\n",
        "                    return False\n",
        "\n",
        "        return True\n",
        "\n",
        "    row, col = find_empty_cell()\n",
        "    if row is None:\n",
        "        return True\n",
        "\n",
        "    for num in range(1, 10):\n",
        "        if is_valid(row, col, num):\n",
        "            board[row][col] = num\n",
        "\n",
        "            if solve_sudoku(board):\n",
        "                return True\n",
        "\n",
        "            board[row][col] = 0\n",
        "\n",
        "    return False\n",
        "\n",
        "\n",
        "board = [\n",
        "    [5, 3, 0, 0, 7, 0, 0, 0, 0],\n",
        "    [6, 0, 0, 1, 9, 5, 0, 0, 0],\n",
        "    [0, 9, 8, 0, 0, 0, 0, 6, 0],\n",
        "    [8, 0, 0, 0, 6, 0, 0, 0, 3],\n",
        "    [4, 0, 0, 8, 0, 3, 0, 0, 1],\n",
        "    [7, 0, 0, 0, 2, 0, 0, 0, 6],\n",
        "    [0, 6, 0, 0, 0, 0, 2, 8, 0],\n",
        "    [0, 0, 0, 4, 1, 9, 0, 0, 5],\n",
        "    [0, 0, 0, 0, 8, 0, 0, 7, 9]\n",
        "]\n",
        "\n",
        "if solve_sudoku(board):\n",
        "    for row in board:\n",
        "        print(row)\n",
        "else:\n",
        "    print(\"No solution found.\")"
      ],
      "metadata": {
        "colab": {
          "base_uri": "https://localhost:8080/"
        },
        "id": "kWpfGynqQM5b",
        "outputId": "58b19bc1-c08d-4eab-8ea4-7190740e6bec"
      },
      "id": "kWpfGynqQM5b",
      "execution_count": 26,
      "outputs": [
        {
          "output_type": "stream",
          "name": "stdout",
          "text": [
            "[5, 3, 4, 6, 7, 8, 9, 1, 2]\n",
            "[6, 7, 2, 1, 9, 5, 3, 4, 8]\n",
            "[1, 9, 8, 3, 4, 2, 5, 6, 7]\n",
            "[8, 5, 9, 7, 6, 1, 4, 2, 3]\n",
            "[4, 2, 6, 8, 5, 3, 7, 9, 1]\n",
            "[7, 1, 3, 9, 2, 4, 8, 5, 6]\n",
            "[9, 6, 1, 5, 3, 7, 2, 8, 4]\n",
            "[2, 8, 7, 4, 1, 9, 6, 3, 5]\n",
            "[3, 4, 5, 2, 8, 6, 1, 7, 9]\n"
          ]
        }
      ]
    },
    {
      "cell_type": "markdown",
      "id": "5c8e1a78",
      "metadata": {
        "id": "5c8e1a78"
      },
      "source": [
        "89. Write a Python program to implement the A* search algorithm."
      ]
    },
    {
      "cell_type": "code",
      "source": [
        "\n",
        "import heapq\n",
        "\n",
        "class Node:\n",
        "    def __init__(self, state, parent=None, g=0, h=0):\n",
        "        self.state = state\n",
        "        self.parent = parent\n",
        "        self.g = g\n",
        "        self.h = h\n",
        "        self.f = g + h\n",
        "\n",
        "    def __lt__(self, other):\n",
        "        return self.f < other.f\n",
        "\n",
        "def a_star_search(start_state, goal_state, get_neighbors, heuristic):\n",
        "    open_set = []\n",
        "    heapq.heappush(open_set, Node(start_state, None, 0, heuristic(start_state, goal_state)))\n",
        "    closed_set = set()\n",
        "\n",
        "    while open_set:\n",
        "        current_node = heapq.heappop(open_set)\n",
        "\n",
        "        if current_node.state == goal_state:\n",
        "            path = []\n",
        "            while current_node:\n",
        "                path.append(current_node.state)\n",
        "                current_node = current_node.parent\n",
        "            return path[::-1]\n",
        "\n",
        "        closed_set.add(current_node.state)\n",
        "\n",
        "        for neighbor_state, cost in get_neighbors(current_node.state):\n",
        "            if neighbor_state in closed_set:\n",
        "                continue\n",
        "\n",
        "            tentative_g = current_node.g + cost\n",
        "            neighbor_node = None\n",
        "            for node in open_set:\n",
        "                if node.state == neighbor_state:\n",
        "                    neighbor_node = node\n",
        "                    break\n",
        "\n",
        "            if neighbor_node is None or tentative_g < neighbor_node.g:\n",
        "                neighbor_node = Node(neighbor_state, current_node, tentative_g, heuristic(neighbor_state, goal_state))\n",
        "\n",
        "                if neighbor_node not in open_set:\n",
        "                    heapq.heappush(open_set, neighbor_node)\n",
        "    return None\n",
        "\n",
        "\n",
        "def get_neighbors_example(state):\n",
        "\n",
        "    neighbors = []\n",
        "    if state == 'A':\n",
        "        neighbors = [('B', 1), ('C', 3)]\n",
        "    elif state == 'B':\n",
        "        neighbors = [('D', 2), ('E', 4)]\n",
        "    elif state == 'C':\n",
        "      neighbors = [('F', 5)]\n",
        "    elif state == 'D':\n",
        "      neighbors = [('G', 1)]\n",
        "    elif state == 'E':\n",
        "      neighbors = [('G', 1)]\n",
        "    elif state == 'F':\n",
        "      neighbors = [('G', 1)]\n",
        "\n",
        "    return neighbors\n",
        "\n",
        "def heuristic_example(current_state, goal_state):\n",
        "\n",
        "    if current_state == goal_state:\n",
        "      return 0\n",
        "    if current_state == 'A':\n",
        "        if goal_state == 'G':\n",
        "            return 10\n",
        "    if current_state == 'B':\n",
        "        if goal_state == 'G':\n",
        "            return 8\n",
        "    if current_state == 'C':\n",
        "        if goal_state == 'G':\n",
        "            return 5\n",
        "    if current_state == 'D':\n",
        "        if goal_state == 'G':\n",
        "            return 2\n",
        "    if current_state == 'E':\n",
        "        if goal_state == 'G':\n",
        "            return 2\n",
        "    if current_state == 'F':\n",
        "        if goal_state == 'G':\n",
        "            return 1\n",
        "\n",
        "\n",
        "    return 0\n",
        "start_state = 'A'\n",
        "goal_state = 'G'\n",
        "path = a_star_search(start_state, goal_state, get_neighbors_example, heuristic_example)\n",
        "\n",
        "if path:\n",
        "    print(\"Path found:\", path)\n",
        "else:\n",
        "    print(\"No path found.\")\n"
      ],
      "metadata": {
        "colab": {
          "base_uri": "https://localhost:8080/"
        },
        "id": "SuV2yNmoTK2N",
        "outputId": "beee111a-7443-4046-92fe-94fc1ab1485d"
      },
      "id": "SuV2yNmoTK2N",
      "execution_count": 29,
      "outputs": [
        {
          "output_type": "stream",
          "name": "stdout",
          "text": [
            "Path found: ['A', 'B', 'D', 'G']\n"
          ]
        }
      ]
    },
    {
      "cell_type": "markdown",
      "id": "492d9f05",
      "metadata": {
        "id": "492d9f05"
      },
      "source": [
        "90. Write a Python program to solve the 0/1 knapsack problem using backtracking."
      ]
    },
    {
      "cell_type": "code",
      "source": [
        "\n",
        "def knapsack_backtracking(capacity, weights, values, n):\n",
        "    best_value = 0\n",
        "\n",
        "    def backtrack(index, current_weight, current_value):\n",
        "        nonlocal best_value\n",
        "        if index == n:\n",
        "            best_value = max(best_value, current_value)\n",
        "            return\n",
        "\n",
        "\n",
        "        backtrack(index + 1, current_weight, current_value)\n",
        "\n",
        "\n",
        "        if current_weight + weights[index] <= capacity:\n",
        "            backtrack(index + 1, current_weight + weights[index], current_value + values[index])\n",
        "\n",
        "    backtrack(0, 0, 0)\n",
        "    return best_value\n",
        "\n",
        "\n",
        "values = [60, 100, 120]\n",
        "weights = [10, 20, 30]\n",
        "capacity = 50\n",
        "n = len(values)\n",
        "\n",
        "max_value = knapsack_backtracking(capacity, weights, values, n)\n",
        "print(\"Maximum value (backtracking):\", max_value)\n"
      ],
      "metadata": {
        "colab": {
          "base_uri": "https://localhost:8080/"
        },
        "id": "iHTIw0fETe0L",
        "outputId": "5fbf9d7f-cb2f-416c-9a8e-d415fcda45cf"
      },
      "id": "iHTIw0fETe0L",
      "execution_count": 31,
      "outputs": [
        {
          "output_type": "stream",
          "name": "stdout",
          "text": [
            "Maximum value (backtracking): 220\n"
          ]
        }
      ]
    },
    {
      "cell_type": "markdown",
      "id": "cd76f9ce",
      "metadata": {
        "id": "cd76f9ce"
      },
      "source": [
        "91. Write a Python program to solve the rat in a maze problem using backtracking."
      ]
    },
    {
      "cell_type": "code",
      "execution_count": 32,
      "id": "78321338",
      "metadata": {
        "id": "78321338",
        "colab": {
          "base_uri": "https://localhost:8080/"
        },
        "outputId": "7681a685-3653-492c-f936-21873df44181"
      },
      "outputs": [
        {
          "output_type": "stream",
          "name": "stdout",
          "text": [
            "Solution:\n",
            "[1, 0, 0, 0]\n",
            "[1, 1, 0, 0]\n",
            "[0, 1, 0, 0]\n",
            "[0, 1, 1, 1]\n"
          ]
        }
      ],
      "source": [
        "def solve_rat_in_maze(maze):\n",
        "\n",
        "\n",
        "    N = len(maze)\n",
        "    solution = [[0 for _ in range(N)] for _ in range(N)]\n",
        "\n",
        "    def is_safe(x, y):\n",
        "\n",
        "        return 0 <= x < N and 0 <= y < N and maze[x][y] == 1\n",
        "\n",
        "    def solve_maze_util(x, y):\n",
        "\n",
        "        if x == N - 1 and y == N - 1:\n",
        "            solution[x][y] = 1\n",
        "            return True\n",
        "\n",
        "        if is_safe(x, y):\n",
        "            solution[x][y] = 1\n",
        "\n",
        "            if solve_maze_util(x + 1, y) or solve_maze_util(x, y + 1):\n",
        "                return True\n",
        "\n",
        "            solution[x][y] = 0\n",
        "            return False\n",
        "\n",
        "        return False\n",
        "\n",
        "    if solve_maze_util(0, 0):\n",
        "        return solution\n",
        "    else:\n",
        "        return None\n",
        "\n",
        "maze = [[1, 0, 0, 0],\n",
        "        [1, 1, 0, 1],\n",
        "        [0, 1, 0, 0],\n",
        "        [1, 1, 1, 1]]\n",
        "\n",
        "solution = solve_rat_in_maze(maze)\n",
        "\n",
        "if solution:\n",
        "    print(\"Solution:\")\n",
        "    for row in solution:\n",
        "        print(row)\n",
        "else:\n",
        "    print(\"No solution found.\")"
      ]
    },
    {
      "cell_type": "markdown",
      "id": "1620e426",
      "metadata": {
        "id": "1620e426"
      },
      "source": [
        "92. Write a Python program to solve the subset sum problem using backtracking."
      ]
    },
    {
      "cell_type": "code",
      "execution_count": 34,
      "id": "24e509e4",
      "metadata": {
        "id": "24e509e4",
        "colab": {
          "base_uri": "https://localhost:8080/"
        },
        "outputId": "6ae8de1b-e037-4d13-9fb6-88e48ad0f075"
      },
      "outputs": [
        {
          "output_type": "stream",
          "name": "stdout",
          "text": [
            "Subset with target sum found.\n"
          ]
        }
      ],
      "source": [
        "def subset_sum_backtracking(nums, target):\n",
        "\n",
        "\n",
        "    def backtrack(index, current_sum):\n",
        "        if current_sum == target:\n",
        "            return True\n",
        "        if index == len(nums) or current_sum > target:\n",
        "            return False\n",
        "        if backtrack(index + 1, current_sum + nums[index]):\n",
        "            return True\n",
        "\n",
        "\n",
        "        if backtrack(index + 1, current_sum):\n",
        "            return True\n",
        "\n",
        "        return False\n",
        "    return backtrack(0, 0)\n",
        "\n",
        "\n",
        "nums = [1, 2, 3, 4, 5]\n",
        "target = 9\n",
        "\n",
        "if subset_sum_backtracking(nums, target):\n",
        "    print(\"Subset with target sum found.\")\n",
        "else:\n",
        "    print(\"No subset with target sum found.\")"
      ]
    },
    {
      "cell_type": "markdown",
      "id": "4ea6bf60",
      "metadata": {
        "id": "4ea6bf60"
      },
      "source": [
        "93. Write a Python program to implement the Floyd-Warshall algorithm."
      ]
    },
    {
      "cell_type": "code",
      "execution_count": 35,
      "id": "c98cf58e",
      "metadata": {
        "id": "c98cf58e",
        "colab": {
          "base_uri": "https://localhost:8080/"
        },
        "outputId": "56e922af-6bcb-416b-9dc2-48cee8fb89f9"
      },
      "outputs": [
        {
          "output_type": "stream",
          "name": "stdout",
          "text": [
            "Shortest distances between all pairs of nodes:\n",
            "[0, 5, 8, 9]\n",
            "[9223372036854775807, 0, 3, 4]\n",
            "[9223372036854775807, 9223372036854775807, 0, 1]\n",
            "[9223372036854775807, 9223372036854775807, 9223372036854775807, 0]\n"
          ]
        }
      ],
      "source": [
        "import sys\n",
        "\n",
        "def floyd_warshall(graph):\n",
        "\n",
        "\n",
        "    num_vertices = len(graph)\n",
        "    dist = [[graph[i][j] for j in range(num_vertices)] for i in range(num_vertices)]  # Initialize dist with original graph\n",
        "\n",
        "\n",
        "    for k in range(num_vertices):\n",
        "\n",
        "        for i in range(num_vertices):\n",
        "\n",
        "            for j in range(num_vertices):\n",
        "\n",
        "                dist[i][j] = min(dist[i][j], dist[i][k] + dist[k][j])\n",
        "\n",
        "    return dist\n",
        "\n",
        "graph = [[0, 5, sys.maxsize, 10],\n",
        "         [sys.maxsize, 0, 3, sys.maxsize],\n",
        "         [sys.maxsize, sys.maxsize, 0, 1],\n",
        "         [sys.maxsize, sys.maxsize, sys.maxsize, 0]]\n",
        "\n",
        "shortest_distances = floyd_warshall(graph)\n",
        "\n",
        "print(\"Shortest distances between all pairs of nodes:\")\n",
        "for row in shortest_distances:\n",
        "    print(row)"
      ]
    },
    {
      "cell_type": "markdown",
      "id": "d25c4215",
      "metadata": {
        "id": "d25c4215"
      },
      "source": [
        "94. Write a Python program to implement the Bellman-Ford algorithm."
      ]
    },
    {
      "cell_type": "code",
      "execution_count": 36,
      "id": "8938ba93",
      "metadata": {
        "id": "8938ba93",
        "colab": {
          "base_uri": "https://localhost:8080/"
        },
        "outputId": "d3112878-0725-4fb3-bac6-b1f1f6d5090f"
      },
      "outputs": [
        {
          "output_type": "stream",
          "name": "stdout",
          "text": [
            "Shortest distances from node A:\n",
            "To node A: 0\n",
            "To node B: -1\n",
            "To node C: 2\n",
            "To node D: -2\n",
            "To node E: 1\n"
          ]
        }
      ],
      "source": [
        "import sys\n",
        "\n",
        "def bellman_ford(graph, source):\n",
        "\n",
        "\n",
        "    num_vertices = len(graph)\n",
        "    distances = {node: sys.maxsize for node in graph}\n",
        "    distances[source] = 0\n",
        "\n",
        "    for _ in range(num_vertices - 1):\n",
        "        for node in graph:\n",
        "            for neighbor, weight in graph[node].items():\n",
        "                if distances[node] != sys.maxsize and distances[node] + weight < distances[neighbor]:\n",
        "                    distances[neighbor] = distances[node] + weight\n",
        "\n",
        "\n",
        "    for node in graph:\n",
        "        for neighbor, weight in graph[node].items():\n",
        "            if distances[node] != sys.maxsize and distances[node] + weight < distances[neighbor]:\n",
        "                return None\n",
        "\n",
        "    return distances\n",
        "\n",
        "\n",
        "graph = {\n",
        "    'A': {'B': -1, 'C': 4},\n",
        "    'B': {'C': 3, 'D': 2, 'E': 2},\n",
        "    'C': {},\n",
        "    'D': {'B': 1, 'C': 5},\n",
        "    'E': {'D': -3}\n",
        "}\n",
        "\n",
        "source_node = 'A'\n",
        "shortest_distances = bellman_ford(graph, source_node)\n",
        "\n",
        "if shortest_distances:\n",
        "    print(\"Shortest distances from node\", source_node + \":\")\n",
        "    for node, distance in shortest_distances.items():\n",
        "        print(\"To node\", node + \":\", distance)\n",
        "else:\n",
        "    print(\"Negative cycle detected!\")"
      ]
    },
    {
      "cell_type": "markdown",
      "id": "82be40c8",
      "metadata": {
        "id": "82be40c8"
      },
      "source": [
        "95. Write a Python program to find the strongly connected components in a graph."
      ]
    },
    {
      "cell_type": "code",
      "execution_count": 37,
      "id": "363b7337",
      "metadata": {
        "id": "363b7337",
        "colab": {
          "base_uri": "https://localhost:8080/"
        },
        "outputId": "dcd762a4-64e0-4a9b-f304-880a5ee50851"
      },
      "outputs": [
        {
          "output_type": "stream",
          "name": "stdout",
          "text": [
            "Strongly Connected Components:\n",
            "[0, 2, 1]\n",
            "[3]\n"
          ]
        }
      ],
      "source": [
        "def find_scc(graph):\n",
        "\n",
        "\n",
        "    def dfs(node, visited, stack):\n",
        "\n",
        "        visited.add(node)\n",
        "        for neighbor in graph[node]:\n",
        "            if neighbor not in visited:\n",
        "                dfs(neighbor, visited, stack)\n",
        "        stack.append(node)\n",
        "\n",
        "    def reverse_graph(graph):\n",
        "\n",
        "        reversed_graph = {node: [] for node in graph}\n",
        "        for node in graph:\n",
        "            for neighbor in graph[node]:\n",
        "                reversed_graph[neighbor].append(node)\n",
        "        return reversed_graph\n",
        "\n",
        "    def dfs_scc(node, visited, scc):\n",
        "\n",
        "        visited.add(node)\n",
        "        scc.append(node)\n",
        "        for neighbor in reversed_graph[node]:\n",
        "            if neighbor not in visited:\n",
        "                dfs_scc(neighbor, visited, scc)\n",
        "\n",
        "    num_vertices = len(graph)\n",
        "    visited = set()\n",
        "    stack = []\n",
        "\n",
        "\n",
        "    for node in graph:\n",
        "        if node not in visited:\n",
        "            dfs(node, visited, stack)\n",
        "\n",
        "\n",
        "    reversed_graph = reverse_graph(graph)\n",
        "\n",
        "\n",
        "    visited = set()\n",
        "    sccs = []\n",
        "    while stack:\n",
        "        node = stack.pop()\n",
        "        if node not in visited:\n",
        "            scc = []\n",
        "            dfs_scc(node, visited, scc)\n",
        "            sccs.append(scc)\n",
        "\n",
        "    return sccs\n",
        "\n",
        "\n",
        "graph = {\n",
        "    0: [1, 2],\n",
        "    1: [2],\n",
        "    2: [0, 3],\n",
        "    3: [3]\n",
        "}\n",
        "\n",
        "strongly_connected_components = find_scc(graph)\n",
        "\n",
        "print(\"Strongly Connected Components:\")\n",
        "for scc in strongly_connected_components:\n",
        "    print(scc)"
      ]
    },
    {
      "cell_type": "markdown",
      "id": "7fc0595a",
      "metadata": {
        "id": "7fc0595a"
      },
      "source": [
        "96. Write a Python program to find the articulation points in a graph."
      ]
    },
    {
      "cell_type": "code",
      "execution_count": 38,
      "id": "5c60243b",
      "metadata": {
        "id": "5c60243b",
        "colab": {
          "base_uri": "https://localhost:8080/"
        },
        "outputId": "56321c93-b519-4328-8770-43276b209672"
      },
      "outputs": [
        {
          "output_type": "stream",
          "name": "stdout",
          "text": [
            "Articulation Points: [3, 2]\n"
          ]
        }
      ],
      "source": [
        "def find_articulation_points(graph):\n",
        "\n",
        "    num_vertices = len(graph)\n",
        "    visited = [False] * num_vertices\n",
        "    disc = [float('inf')] * num_vertices\n",
        "    low = [float('inf')] * num_vertices\n",
        "    parent = [-1] * num_vertices\n",
        "    time = 0\n",
        "    articulation_points = []\n",
        "\n",
        "    def dfs(node):\n",
        "        nonlocal time\n",
        "        visited[node] = True\n",
        "        disc[node] = low[node] = time\n",
        "        time += 1\n",
        "        children = 0\n",
        "\n",
        "        for neighbor in graph[node]:\n",
        "            if not visited[neighbor]:\n",
        "                children += 1\n",
        "                parent[neighbor] = node\n",
        "                dfs(neighbor)\n",
        "\n",
        "\n",
        "                low[node] = min(low[node], low[neighbor])\n",
        "\n",
        "\n",
        "                if parent[node] == -1 and children > 1:\n",
        "                    articulation_points.append(node)\n",
        "                if parent[node] != -1 and low[neighbor] >= disc[node]:\n",
        "                    articulation_points.append(node)\n",
        "\n",
        "            elif neighbor != parent[node]:\n",
        "                low[node] = min(low[node], disc[neighbor])\n",
        "\n",
        "    for node in graph:\n",
        "        if not visited[node]:\n",
        "            dfs(node)\n",
        "\n",
        "    return articulation_points\n",
        "\n",
        "\n",
        "graph = {\n",
        "    0: [1, 2],\n",
        "    1: [0, 2],\n",
        "    2: [0, 1, 3],\n",
        "    3: [2, 4],\n",
        "    4: [3]\n",
        "}\n",
        "\n",
        "articulation_points = find_articulation_points(graph)\n",
        "\n",
        "print(\"Articulation Points:\", articulation_points)\n"
      ]
    },
    {
      "cell_type": "markdown",
      "id": "be79f697",
      "metadata": {
        "id": "be79f697"
      },
      "source": [
        "97. Write a Python program to find the bridges in a graph."
      ]
    },
    {
      "cell_type": "code",
      "execution_count": 39,
      "id": "54772a36",
      "metadata": {
        "id": "54772a36",
        "colab": {
          "base_uri": "https://localhost:8080/"
        },
        "outputId": "a3f6238b-d95b-4d4c-e845-0a92b0b5afa9"
      },
      "outputs": [
        {
          "output_type": "stream",
          "name": "stdout",
          "text": [
            "Bridges: [(3, 4), (2, 3)]\n"
          ]
        }
      ],
      "source": [
        "def find_bridges(graph):\n",
        "\n",
        "\n",
        "    num_vertices = len(graph)\n",
        "    visited = [False] * num_vertices\n",
        "    disc = [float('inf')] * num_vertices\n",
        "    low = [float('inf')] * num_vertices\n",
        "    parent = [-1] * num_vertices\n",
        "    time = 0\n",
        "    bridges = []\n",
        "\n",
        "    def dfs(node):\n",
        "        nonlocal time\n",
        "        visited[node] = True\n",
        "        disc[node] = low[node] = time\n",
        "        time += 1\n",
        "\n",
        "        for neighbor in graph[node]:\n",
        "            if not visited[neighbor]:\n",
        "                parent[neighbor] = node\n",
        "                dfs(neighbor)\n",
        "\n",
        "\n",
        "                low[node] = min(low[node], low[neighbor])\n",
        "\n",
        "\n",
        "                if low[neighbor] > disc[node]:\n",
        "                    bridges.append((node, neighbor))\n",
        "\n",
        "            elif neighbor != parent[node]:\n",
        "                low[node] = min(low[node], disc[neighbor])\n",
        "\n",
        "    for node in graph:\n",
        "        if not visited[node]:\n",
        "            dfs(node)\n",
        "\n",
        "    return bridges\n",
        "\n",
        "\n",
        "graph = {\n",
        "    0: [1, 2],\n",
        "    1: [0, 2],\n",
        "    2: [0, 1, 3],\n",
        "    3: [2, 4],\n",
        "    4: [3]\n",
        "}\n",
        "\n",
        "bridges = find_bridges(graph)\n",
        "\n",
        "print(\"Bridges:\", bridges)"
      ]
    },
    {
      "cell_type": "markdown",
      "id": "ab13b951",
      "metadata": {
        "id": "ab13b951"
      },
      "source": [
        "98. Write a Python program to find the Eulerian path in a graph."
      ]
    },
    {
      "cell_type": "code",
      "execution_count": 40,
      "id": "833474df",
      "metadata": {
        "id": "833474df",
        "colab": {
          "base_uri": "https://localhost:8080/"
        },
        "outputId": "365e5b8b-b16f-4f72-d14c-232b13b6064c"
      },
      "outputs": [
        {
          "output_type": "stream",
          "name": "stdout",
          "text": [
            "No Eulerian path exists.\n"
          ]
        }
      ],
      "source": [
        "def find_eulerian_path(graph):\n",
        "\n",
        "    def dfs(node, path):\n",
        "\n",
        "        while graph[node]:\n",
        "            neighbor = graph[node].pop()\n",
        "            dfs(neighbor, path)\n",
        "        path.append(node)\n",
        "\n",
        "\n",
        "    start_node = next((node for node in graph if len(graph[node]) % 2 != 0), None)\n",
        "    if start_node is None:\n",
        "        start_node = next(iter(graph))\n",
        "    path = []\n",
        "    dfs(start_node, path)\n",
        "\n",
        "\n",
        "    if len(path) - 1 == sum(len(edges) for edges in graph.values()) // 2:\n",
        "        return path[::-1]\n",
        "    else:\n",
        "        return None\n",
        "\n",
        "\n",
        "graph = {\n",
        "    0: [1, 2],\n",
        "    1: [2, 3],\n",
        "    2: [1],\n",
        "    3: [0, 4],\n",
        "    4: [3]\n",
        "}\n",
        "\n",
        "eulerian_path = find_eulerian_path(graph)\n",
        "\n",
        "if eulerian_path:\n",
        "    print(\"Eulerian Path:\", eulerian_path)\n",
        "else:\n",
        "    print(\"No Eulerian path exists.\")"
      ]
    },
    {
      "cell_type": "markdown",
      "id": "ff3aeb6b",
      "metadata": {
        "id": "ff3aeb6b"
      },
      "source": [
        "99. Write a Python program to find the Hamiltonian path in a graph."
      ]
    },
    {
      "cell_type": "code",
      "execution_count": 41,
      "id": "24831f53",
      "metadata": {
        "id": "24831f53",
        "colab": {
          "base_uri": "https://localhost:8080/"
        },
        "outputId": "83d2f1c2-be6b-4ad7-f066-ed43c2a13784"
      },
      "outputs": [
        {
          "output_type": "stream",
          "name": "stdout",
          "text": [
            "Hamiltonian Path: ['A', 'B', 'C', 'D']\n"
          ]
        }
      ],
      "source": [
        "def find_hamiltonian_path(graph):\n",
        "\n",
        "\n",
        "    num_vertices = len(graph)\n",
        "    path = [None] * num_vertices\n",
        "    path[0] = next(iter(graph))\n",
        "\n",
        "    def is_safe(node, pos):\n",
        "        \"\"\"Checks if a node can be added to the path at a given position.\"\"\"\n",
        "        if node not in graph[path[pos - 1]]:\n",
        "            return False\n",
        "        if node in path[:pos]:\n",
        "            return False\n",
        "        return True\n",
        "\n",
        "    def hamiltonian_path_util(pos):\n",
        "        \"\"\"Recursive utility function to find the Hamiltonian path.\"\"\"\n",
        "        if pos == num_vertices:\n",
        "            return True\n",
        "\n",
        "        for node in graph:\n",
        "            if is_safe(node, pos):\n",
        "                path[pos] = node\n",
        "\n",
        "                if hamiltonian_path_util(pos + 1):\n",
        "                    return True\n",
        "\n",
        "                path[pos] = None\n",
        "\n",
        "        return False\n",
        "\n",
        "    if hamiltonian_path_util(1):\n",
        "        return path\n",
        "    else:\n",
        "        return None\n",
        "\n",
        "# Example usage\n",
        "graph = {\n",
        "    'A': ['B', 'C'],\n",
        "    'B': ['A', 'C', 'D'],\n",
        "    'C': ['A', 'B', 'D'],\n",
        "    'D': ['B', 'C']\n",
        "}\n",
        "\n",
        "hamiltonian_path = find_hamiltonian_path(graph)\n",
        "\n",
        "if hamiltonian_path:\n",
        "    print(\"Hamiltonian Path:\", hamiltonian_path)\n",
        "else:\n",
        "    print(\"No Hamiltonian path exists.\")"
      ]
    },
    {
      "cell_type": "markdown",
      "id": "05528f97",
      "metadata": {
        "id": "05528f97"
      },
      "source": [
        "100. Write a Python program to find the topological order of a directed acyclic graph."
      ]
    },
    {
      "cell_type": "code",
      "execution_count": 42,
      "id": "b3cf865d",
      "metadata": {
        "id": "b3cf865d",
        "colab": {
          "base_uri": "https://localhost:8080/"
        },
        "outputId": "28387910-560c-415b-93c0-3569744ae93b"
      },
      "outputs": [
        {
          "output_type": "stream",
          "name": "stdout",
          "text": [
            "Topological Order: [0, 2, 1, 3, 5, 4]\n"
          ]
        }
      ],
      "source": [
        "def topological_sort(graph):\n",
        "\n",
        "\n",
        "    num_vertices = len(graph)\n",
        "    visited = [False] * num_vertices\n",
        "    stack = []\n",
        "\n",
        "    def dfs(node):\n",
        "\n",
        "        visited[node] = True\n",
        "        for neighbor in graph[node]:\n",
        "            if not visited[neighbor]:\n",
        "                dfs(neighbor)\n",
        "        stack.append(node)\n",
        "\n",
        "    for node in graph:\n",
        "        if not visited[node]:\n",
        "            dfs(node)\n",
        "\n",
        "    return stack[::-1]\n",
        "graph = {\n",
        "    0: [1, 2],\n",
        "    1: [3],\n",
        "    2: [3],\n",
        "    3: [4, 5],\n",
        "    4: [],\n",
        "    5: []\n",
        "}\n",
        "\n",
        "topological_order = topological_sort(graph)\n",
        "\n",
        "print(\"Topological Order:\", topological_order)"
      ]
    },
    {
      "cell_type": "code",
      "source": [],
      "metadata": {
        "id": "u_T9IGBEXCj2"
      },
      "id": "u_T9IGBEXCj2",
      "execution_count": null,
      "outputs": []
    }
  ],
  "metadata": {
    "colab": {
      "provenance": [],
      "include_colab_link": true
    },
    "language_info": {
      "name": "python"
    },
    "kernelspec": {
      "name": "python3",
      "display_name": "Python 3"
    }
  },
  "nbformat": 4,
  "nbformat_minor": 5
}